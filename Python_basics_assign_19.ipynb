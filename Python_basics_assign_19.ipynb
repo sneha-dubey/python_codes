{
  "nbformat": 4,
  "nbformat_minor": 0,
  "metadata": {
    "colab": {
      "provenance": []
    },
    "kernelspec": {
      "name": "python3",
      "display_name": "Python 3"
    },
    "language_info": {
      "name": "python"
    }
  },
  "cells": [
    {
      "cell_type": "markdown",
      "source": [
        "1. Make a class called Thing with no contents and print it. Then, create an object called example\n",
        "from this class and also print it. Are the printed values the same or different?"
      ],
      "metadata": {
        "id": "_iU2yjcWjtyw"
      }
    },
    {
      "cell_type": "code",
      "source": [
        "class Thing:\n",
        "  pass\n",
        "print(Thing)\n",
        "example=Thing()\n",
        "print(example)"
      ],
      "metadata": {
        "colab": {
          "base_uri": "https://localhost:8080/"
        },
        "id": "q8oSXHYDj1fm",
        "outputId": "29f49b46-be8f-4571-e64a-8a90567eb474"
      },
      "execution_count": 1,
      "outputs": [
        {
          "output_type": "stream",
          "name": "stdout",
          "text": [
            "<class '__main__.Thing'>\n",
            "<__main__.Thing object at 0x7fe769fc5af0>\n"
          ]
        }
      ]
    },
    {
      "cell_type": "markdown",
      "source": [
        "Printed values are different."
      ],
      "metadata": {
        "id": "82aYktRH1ioR"
      }
    },
    {
      "cell_type": "markdown",
      "source": [
        "2. Create a new class called Thing2 and add the value &#39;abc&#39; to the letters class attribute. Letters\n",
        "should be printed."
      ],
      "metadata": {
        "id": "JvIyJdHCkLBm"
      }
    },
    {
      "cell_type": "code",
      "source": [
        "class Thing2:\n",
        "  letters='abc'\n",
        "print(Thing2.letters)"
      ],
      "metadata": {
        "colab": {
          "base_uri": "https://localhost:8080/"
        },
        "id": "_X8ypMU5kSXR",
        "outputId": "326d8650-de54-495c-dcb5-1e27dc8c7cd6"
      },
      "execution_count": 2,
      "outputs": [
        {
          "output_type": "stream",
          "name": "stdout",
          "text": [
            "abc\n"
          ]
        }
      ]
    },
    {
      "cell_type": "markdown",
      "source": [
        "3. Make yet another class called, of course, Thing3. This time, assign the value &#39;xyz&#39; to an instance\n",
        "(object) attribute called letters. Print letters. Do you need to make an object from the class to do\n",
        "this?"
      ],
      "metadata": {
        "id": "b_Qvr-Dsk6kC"
      }
    },
    {
      "cell_type": "code",
      "source": [
        "class Thing3:\n",
        "  def __init__(self):\n",
        "    self.letters='xyz'\n",
        "example=Thing3()\n",
        "print(example.letters)"
      ],
      "metadata": {
        "colab": {
          "base_uri": "https://localhost:8080/"
        },
        "id": "5SXUFA9Gk9KR",
        "outputId": "bfabe877-703b-4960-959d-bc7c6ed2d06c"
      },
      "execution_count": 3,
      "outputs": [
        {
          "output_type": "stream",
          "name": "stdout",
          "text": [
            "xyz\n"
          ]
        }
      ]
    },
    {
      "cell_type": "markdown",
      "source": [
        "yes, we need to make an object from the class to do this."
      ],
      "metadata": {
        "id": "KEaJf3kg2mPw"
      }
    },
    {
      "cell_type": "markdown",
      "source": [
        "4. Create an Element class with the instance attributes name, symbol, and number. Create a class\n",
        "object with the values &#39;Hydrogen,&#39; &#39;H,&#39; and 1."
      ],
      "metadata": {
        "id": "boQadSdunKP8"
      }
    },
    {
      "cell_type": "code",
      "source": [
        "class Element:\n",
        "  def __init__(self,name,symbol,number):\n",
        "    self.name=name\n",
        "    self.symbol=symbol\n",
        "    self.number=number\n",
        "\n",
        "hydrogen=Element('Hydrogen', 'H',1)"
      ],
      "metadata": {
        "id": "uK1tRxy4nx6e"
      },
      "execution_count": 4,
      "outputs": []
    },
    {
      "cell_type": "markdown",
      "source": [
        "5. Make a dictionary with these keys and values: &#39;name&#39;: &#39;Hydrogen&#39;, &#39;symbol&#39;: &#39;H&#39;, &#39;number&#39;: 1. Then,\n",
        "create an object called hydrogen from class Element using this dictionary."
      ],
      "metadata": {
        "id": "vEqgQEz0ohWG"
      }
    },
    {
      "cell_type": "code",
      "source": [
        "class Element:\n",
        "  def __init__(self,name,symbol,number):\n",
        "    self.name=name\n",
        "    self.symbol=symbol\n",
        "    self.number=number\n",
        "element_data={ 'name': 'Hydrogen', 'symbol': 'H', 'number': 1}\n",
        "hydrogen=Element(**element_data)"
      ],
      "metadata": {
        "id": "QDcPQ0z-opDh"
      },
      "execution_count": 5,
      "outputs": []
    },
    {
      "cell_type": "markdown",
      "source": [
        "6. For the Element class, define a method called dump() that prints the values of the object’s\n",
        "attributes (name, symbol, and number). Create the hydrogen object from this new definition and\n",
        "use dump() to print its attributes."
      ],
      "metadata": {
        "id": "A7ZgMRmBouXw"
      }
    },
    {
      "cell_type": "code",
      "source": [
        "class Element:\n",
        "  def __init__(self,name,symbol,number):\n",
        "    self.name=name\n",
        "    self.symbol=symbol\n",
        "    self.number=number\n",
        "  def dump(self):\n",
        "    print('name: ',self.name)\n",
        "    print('symbol: ',self.symbol)\n",
        "    print('number: ',self.number)\n",
        "hydrogen=Element('Hydrogen', 'H',1)\n",
        "hydrogen.dump()"
      ],
      "metadata": {
        "colab": {
          "base_uri": "https://localhost:8080/"
        },
        "id": "us_lumhcryc3",
        "outputId": "4168b38a-76ec-482b-a853-3640b815d09d"
      },
      "execution_count": 6,
      "outputs": [
        {
          "output_type": "stream",
          "name": "stdout",
          "text": [
            "name:  Hydrogen\n",
            "symbol:  H\n",
            "number:  1\n"
          ]
        }
      ]
    },
    {
      "cell_type": "markdown",
      "source": [
        "7. Call print(hydrogen). In the definition of Element, change the name of method dump to __str__,\n",
        "create a new hydrogen object, and call print(hydrogen) again."
      ],
      "metadata": {
        "id": "3j8j6S5QtnDN"
      }
    },
    {
      "cell_type": "code",
      "source": [
        "class Element:\n",
        "  def __init__(self,name,symbol,number):\n",
        "    self.name=name\n",
        "    self.symbol=symbol\n",
        "    self.number=number\n",
        "  def __str__(self):\n",
        "    return \"Element(name={},symbol={},number={})\".format(self.name,self.symbol,self.number)\n",
        "\n",
        "hydrogen=Element('Hydrogen','H',1)\n",
        "print(hydrogen)"
      ],
      "metadata": {
        "colab": {
          "base_uri": "https://localhost:8080/"
        },
        "id": "2E2wlHWutqKq",
        "outputId": "11de301c-fee0-4ce3-d8b2-d58779f05363"
      },
      "execution_count": 7,
      "outputs": [
        {
          "output_type": "stream",
          "name": "stdout",
          "text": [
            "Element(name=Hydrogen,symbol=H,number=1)\n"
          ]
        }
      ]
    },
    {
      "cell_type": "markdown",
      "source": [
        "8. Modify Element to make the attributes name, symbol, and number private. Define a getter\n",
        "property for each to return its value."
      ],
      "metadata": {
        "id": "r-3EhhMDwUAu"
      }
    },
    {
      "cell_type": "code",
      "source": [
        "class Element:\n",
        "  def __init__(self,name,symbol,number):\n",
        "    self.__name=name\n",
        "    self.__symbol=symbol\n",
        "    self.__number=number\n",
        "  def name(self):\n",
        "    return self.__name\n",
        "  def symbol(self):\n",
        "    return self.__symbol\n",
        "  def number(self):\n",
        "    return self.__number\n",
        "\n",
        "hydrogen=Element('Hydrogen','H',1)\n",
        "print(hydrogen.name)\n",
        "print(hydrogen.symbol)\n",
        "print(hydrogen.number)\n"
      ],
      "metadata": {
        "colab": {
          "base_uri": "https://localhost:8080/"
        },
        "id": "hxkjGNgOwWy3",
        "outputId": "46392591-90c4-4f22-e147-dc4cd74fb00d"
      },
      "execution_count": 8,
      "outputs": [
        {
          "output_type": "stream",
          "name": "stdout",
          "text": [
            "<bound method Element.name of <__main__.Element object at 0x7fe769fdd7f0>>\n",
            "<bound method Element.symbol of <__main__.Element object at 0x7fe769fdd7f0>>\n",
            "<bound method Element.number of <__main__.Element object at 0x7fe769fdd7f0>>\n"
          ]
        }
      ]
    },
    {
      "cell_type": "markdown",
      "source": [
        "9. Define three classes: Bear, Rabbit, and Octothorpe. For each, define only one method: eats(). This\n",
        "should return &#39;berries&#39; (Bear), &#39;clover&#39; (Rabbit), or &#39;campers&#39; (Octothorpe). Create one object from\n",
        "each and print what it eats."
      ],
      "metadata": {
        "id": "94pdzTeLzOXy"
      }
    },
    {
      "cell_type": "code",
      "source": [
        "class Bear:\n",
        "  def eats(self):\n",
        "    return 'berries'\n",
        "class Rabbit:\n",
        "  def eats(self):\n",
        "    return 'clover'\n",
        "class Octothorpe:\n",
        "  def eats(self):\n",
        "    return 'campers'\n",
        "\n",
        "bear=Bear()\n",
        "rabbit=Rabbit()\n",
        "octothorpe=Octothorpe()\n",
        "print(\"Bear eats: \",bear.eats())\n",
        "print(\"Rabbit eats: \",rabbit.eats())\n",
        "print(\"Octothorpe eats:\", octothorpe.eats())"
      ],
      "metadata": {
        "colab": {
          "base_uri": "https://localhost:8080/"
        },
        "id": "rq38qLI0zTSR",
        "outputId": "263a5b04-f2ee-4f16-ea40-b03c9d6b4178"
      },
      "execution_count": 9,
      "outputs": [
        {
          "output_type": "stream",
          "name": "stdout",
          "text": [
            "Bear eats:  berries\n",
            "Rabbit eats:  clover\n",
            "Octothorpe eats: campers\n"
          ]
        }
      ]
    },
    {
      "cell_type": "markdown",
      "source": [
        "10. Define these classes: Laser, Claw, and SmartPhone. Each has only one method: does(). This\n",
        "returns &#39;disintegrate&#39; (Laser), &#39;crush&#39; (Claw), or &#39;ring&#39; (SmartPhone). Then, define the class Robot that\n",
        "has one instance (object) of each of these. Define a does() method for the Robot that prints what its\n",
        "component objects do."
      ],
      "metadata": {
        "id": "bYZMfj7Y01Sb"
      }
    },
    {
      "cell_type": "code",
      "source": [
        "class Laser:\n",
        "  def does(self):\n",
        "    return 'disintegrate'\n",
        "class Claw:\n",
        "  def does(self):\n",
        "    return \"crush\"\n",
        "class SmartPhone:\n",
        "  def does(self):\n",
        "    return \"ring\"\n",
        "class Robot:\n",
        "  def __init__(self):\n",
        "    self.laser=Laser()\n",
        "    self.claw=Claw()\n",
        "    self.smartphone=SmartPhone()\n",
        "  def does(self):\n",
        "    print('Laser does:', self.laser.does())\n",
        "    print('Claw does:',self.claw.does())\n",
        "    print('SmartPhone:',self.smartphone.does())\n",
        "\n",
        "robot=Robot()\n",
        "robot.does()"
      ],
      "metadata": {
        "colab": {
          "base_uri": "https://localhost:8080/"
        },
        "id": "UD51QwXl05BF",
        "outputId": "cb812a8c-3a72-40a8-c7cf-0bbe45bded89"
      },
      "execution_count": 10,
      "outputs": [
        {
          "output_type": "stream",
          "name": "stdout",
          "text": [
            "Laser does: disintegrate\n",
            "Claw does: crush\n",
            "SmartPhone: ring\n"
          ]
        }
      ]
    },
    {
      "cell_type": "code",
      "source": [],
      "metadata": {
        "id": "OHxq9Af726Dq"
      },
      "execution_count": null,
      "outputs": []
    }
  ]
}