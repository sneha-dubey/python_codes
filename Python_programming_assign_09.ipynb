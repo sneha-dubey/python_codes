{
  "nbformat": 4,
  "nbformat_minor": 0,
  "metadata": {
    "colab": {
      "provenance": []
    },
    "kernelspec": {
      "name": "python3",
      "display_name": "Python 3"
    },
    "language_info": {
      "name": "python"
    }
  },
  "cells": [
    {
      "cell_type": "markdown",
      "source": [
        "1.\tWrite a Python program to check if the given number is a Disarium Number?"
      ],
      "metadata": {
        "id": "4pKS1UfdpmG1"
      }
    },
    {
      "cell_type": "code",
      "source": [
        "def isDisarium(num):\n",
        "    # convert the number to string\n",
        "    num_str = str(num)\n",
        "    length = len(num_str)\n",
        "    sum = 0\n",
        "    for i in range(length):\n",
        "        digit = int(num_str[i])\n",
        "        sum += digit ** (i + 1)\n",
        "\n",
        "    return sum == num\n",
        "\n",
        "# test the program with a few examples\n",
        "print(isDisarium(175)) # True\n",
        "print(isDisarium(89)) # True\n",
        "print(isDisarium(135)) # False"
      ],
      "metadata": {
        "colab": {
          "base_uri": "https://localhost:8080/"
        },
        "id": "B-vtVthopqfw",
        "outputId": "60bfcef2-a5d1-4773-e4d2-60f76f9417aa"
      },
      "execution_count": 1,
      "outputs": [
        {
          "output_type": "stream",
          "name": "stdout",
          "text": [
            "True\n",
            "True\n",
            "True\n"
          ]
        }
      ]
    },
    {
      "cell_type": "markdown",
      "source": [
        "2.\tWrite a Python program to print all disarium numbers between 1 to 100?"
      ],
      "metadata": {
        "id": "f3HBvQsaps_6"
      }
    },
    {
      "cell_type": "code",
      "source": [
        "def isDisarium(num):\n",
        "    # convert the number to string\n",
        "    num_str = str(num)\n",
        "    length = len(num_str)\n",
        "    sum = 0\n",
        "    for i in range(length):\n",
        "        digit = int(num_str[i])\n",
        "        sum += digit ** (i + 1)\n",
        "\n",
        "    return sum == num\n",
        "\n",
        "print(\"Disarium numbers between 1 and 100:\")\n",
        "for num in range(1, 101):\n",
        "    if isDisarium(num):\n",
        "        print(num)\n"
      ],
      "metadata": {
        "colab": {
          "base_uri": "https://localhost:8080/"
        },
        "id": "7TAHYks0p4pE",
        "outputId": "351f33e6-42c7-44b4-f788-03f0195e2f8a"
      },
      "execution_count": 2,
      "outputs": [
        {
          "output_type": "stream",
          "name": "stdout",
          "text": [
            "Disarium numbers between 1 and 100:\n",
            "1\n",
            "2\n",
            "3\n",
            "4\n",
            "5\n",
            "6\n",
            "7\n",
            "8\n",
            "9\n",
            "89\n"
          ]
        }
      ]
    },
    {
      "cell_type": "markdown",
      "source": [
        "3.\tWrite a Python program to check if the given number is Happy Number?"
      ],
      "metadata": {
        "id": "_LMOdAZ_p5Sc"
      }
    },
    {
      "cell_type": "code",
      "source": [
        "def is_happy(num):\n",
        "    seen = set()\n",
        "    while num not in seen:\n",
        "        seen.add(num)\n",
        "        num = sum(int(digit)**2 for digit in str(num))\n",
        "    return num == 1\n",
        "\n",
        "# test the program with a few examples\n",
        "print(is_happy(19)) # True\n",
        "print(is_happy(20)) # False\n",
        "print(is_happy(23)) # True\n"
      ],
      "metadata": {
        "colab": {
          "base_uri": "https://localhost:8080/"
        },
        "id": "RXHaOdwxp8lx",
        "outputId": "080d8312-41c8-4799-da70-39114a9ceabb"
      },
      "execution_count": 3,
      "outputs": [
        {
          "output_type": "stream",
          "name": "stdout",
          "text": [
            "True\n",
            "False\n",
            "True\n"
          ]
        }
      ]
    },
    {
      "cell_type": "markdown",
      "source": [
        "4.\tWrite a Python program to print all happy numbers between 1 and 100?"
      ],
      "metadata": {
        "id": "sUcSzJQOp_28"
      }
    },
    {
      "cell_type": "code",
      "source": [
        "def is_happy(num):\n",
        "    seen = set()\n",
        "    while num not in seen:\n",
        "        seen.add(num)\n",
        "        num = sum(int(digit)**2 for digit in str(num))\n",
        "    return num == 1\n",
        "\n",
        "print(\"Happy numbers between 1 and 100:\")\n",
        "for num in range(1, 101):\n",
        "    if is_happy(num):\n",
        "        print(num)\n"
      ],
      "metadata": {
        "colab": {
          "base_uri": "https://localhost:8080/"
        },
        "id": "exTrGrBWqAvb",
        "outputId": "834e07b4-6627-4e66-9ac2-b2e3c5a78191"
      },
      "execution_count": 4,
      "outputs": [
        {
          "output_type": "stream",
          "name": "stdout",
          "text": [
            "Happy numbers between 1 and 100:\n",
            "1\n",
            "7\n",
            "10\n",
            "13\n",
            "19\n",
            "23\n",
            "28\n",
            "31\n",
            "32\n",
            "44\n",
            "49\n",
            "68\n",
            "70\n",
            "79\n",
            "82\n",
            "86\n",
            "91\n",
            "94\n",
            "97\n",
            "100\n"
          ]
        }
      ]
    },
    {
      "cell_type": "markdown",
      "source": [
        "5.\tWrite a Python program to determine whether the given number is a Harshad Number?"
      ],
      "metadata": {
        "id": "60hq6lfxqBRC"
      }
    },
    {
      "cell_type": "code",
      "source": [
        "def is_harshad(num):\n",
        "    num_str = str(num)\n",
        "    digit_sum = sum(int(digit) for digit in num_str)\n",
        "    return num % digit_sum == 0\n",
        "\n",
        "# test the program with a few examples\n",
        "print(is_harshad(18)) # True\n",
        "print(is_harshad(19)) # False\n",
        "print(is_harshad(20)) # True\n"
      ],
      "metadata": {
        "colab": {
          "base_uri": "https://localhost:8080/"
        },
        "id": "UjTprNxMqET0",
        "outputId": "3de8a722-b1ff-4235-8dc9-1d14a81a2363"
      },
      "execution_count": 5,
      "outputs": [
        {
          "output_type": "stream",
          "name": "stdout",
          "text": [
            "True\n",
            "False\n",
            "True\n"
          ]
        }
      ]
    },
    {
      "cell_type": "markdown",
      "source": [
        "6.\tWrite a Python program to print all pronic numbers between 1 and 100?"
      ],
      "metadata": {
        "id": "gk3aDypkqE7n"
      }
    },
    {
      "cell_type": "code",
      "source": [
        "print(\"Pronic numbers between 1 and 100:\")\n",
        "for i in range(1, 101):\n",
        "    for j in range(i + 1, 101):\n",
        "        if i * j == i + j:\n",
        "            print(i * j)\n"
      ],
      "metadata": {
        "colab": {
          "base_uri": "https://localhost:8080/"
        },
        "id": "E1hjYaFNqHeo",
        "outputId": "296e305b-04e0-4b81-87b2-2ed163bef41e"
      },
      "execution_count": 6,
      "outputs": [
        {
          "output_type": "stream",
          "name": "stdout",
          "text": [
            "Pronic numbers between 1 and 100:\n"
          ]
        }
      ]
    }
  ]
}