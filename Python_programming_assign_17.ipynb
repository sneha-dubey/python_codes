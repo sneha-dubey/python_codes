{
  "nbformat": 4,
  "nbformat_minor": 0,
  "metadata": {
    "colab": {
      "provenance": []
    },
    "kernelspec": {
      "name": "python3",
      "display_name": "Python 3"
    },
    "language_info": {
      "name": "python"
    }
  },
  "cells": [
    {
      "cell_type": "markdown",
      "source": [
        "Question1. Create a function that takes three arguments a, b, c and returns the sum of the\n",
        "numbers that are evenly divided by c from the range a, b inclusive.\n",
        "Examples\n",
        "evenly_divisible(1, 10, 20) ➞ 0\n",
        "# No number between 1 and 10 can be evenly divided by 20.\n",
        "evenly_divisible(1, 10, 2) ➞ 30\n",
        "# 2 + 4 + 6 + 8 + 10 = 30\n",
        "evenly_divisible(1, 10, 3) ➞ 18\n",
        "# 3 + 6 + 9 = 18"
      ],
      "metadata": {
        "id": "qT92ibc5471p"
      }
    },
    {
      "cell_type": "code",
      "source": [
        "def evenly_divisible(a,b,c):\n",
        "  return sum(i for i in range(a,b+1) if i %c==0)\n",
        "\n",
        "print(evenly_divisible(1,10,20))\n",
        "print(evenly_divisible(1,10,2))\n",
        "print(evenly_divisible(1,10,3))"
      ],
      "metadata": {
        "colab": {
          "base_uri": "https://localhost:8080/"
        },
        "id": "iO6tvImp48rp",
        "outputId": "7af4c0ea-4031-4de7-9149-d9ce39e49471"
      },
      "execution_count": 2,
      "outputs": [
        {
          "output_type": "stream",
          "name": "stdout",
          "text": [
            "0\n",
            "30\n",
            "18\n"
          ]
        }
      ]
    },
    {
      "cell_type": "markdown",
      "source": [
        "Question2. Create a function that returns True if a given inequality expression is correct and\n",
        "False otherwise.\n",
        "\n",
        "Examples\n",
        "\n",
        "correct_signs(&quot;3 &lt; 7 &lt; 11&quot;) ➞ True\n",
        "\n",
        "correct_signs(&quot;13 &gt; 44 &gt; 33 &gt; 1&quot;) ➞ False\n",
        "\n",
        "correct_signs(&quot;1 &lt; 2 &lt; 6 &lt; 9 &gt; 3&quot;) ➞ True"
      ],
      "metadata": {
        "id": "XPTGk3KB6RNm"
      }
    },
    {
      "cell_type": "code",
      "source": [
        "def correct_signs(inequality):\n",
        "  parts=inequality.split()\n",
        "  for i in range(1,len(parts)-1,2):\n",
        "    if not eval(f\"{parts[i-1]} {parts[i]} {parts[i+1]}\"):\n",
        "      return False\n",
        "  return True\n",
        "\n",
        "print(correct_signs(\"3 < 7 < 11\"))\n",
        "print(correct_signs(\"13 > 44 > 33 > 1\"))\n",
        "\n",
        "print(correct_signs(\"1 < 2 < 6 < 9 > 3\"))"
      ],
      "metadata": {
        "colab": {
          "base_uri": "https://localhost:8080/"
        },
        "id": "mPHiMUQD6ZmB",
        "outputId": "0d8cc72e-97e1-447c-a583-fdb87f0f1b7d"
      },
      "execution_count": 4,
      "outputs": [
        {
          "output_type": "stream",
          "name": "stdout",
          "text": [
            "True\n",
            "False\n",
            "True\n"
          ]
        }
      ]
    },
    {
      "cell_type": "markdown",
      "source": [
        "Question3. Create a function that replaces all the vowels in a string with a specified character.\n",
        "\n",
        "Examples\n",
        "\n",
        "replace_vowels(&quot;the aardvark&quot;, &quot;#&quot;) ➞ &quot;th# ##rdv#rk&quot;\n",
        "\n",
        "replace_vowels(&quot;minnie mouse&quot;, &quot;?&quot;) ➞ &quot;m?nn?? m??s?&quot;\n",
        "\n",
        "replace_vowels(&quot;shakespeare&quot;, &quot;*&quot;) ➞ &quot;sh*k*sp**r*&quot;"
      ],
      "metadata": {
        "id": "v_t9Rayt_let"
      }
    },
    {
      "cell_type": "code",
      "source": [
        "def replace_vowels(string,replacement):\n",
        "  vowels = \"aeiouAEIOU\"\n",
        "  return \"\".join(replacement if char in vowels else char for char in string)\n",
        "print(replace_vowels(\"the aardvark\",'#'))\n",
        "print(replace_vowels(\"minnie mouse\",'#'))\n",
        "print(replace_vowels(\"shakespeare\",'#'))"
      ],
      "metadata": {
        "colab": {
          "base_uri": "https://localhost:8080/"
        },
        "id": "x5VT4bLC_ueA",
        "outputId": "bad42cc9-6ce1-478a-d192-bfe3b6774a53"
      },
      "execution_count": 5,
      "outputs": [
        {
          "output_type": "stream",
          "name": "stdout",
          "text": [
            "th# ##rdv#rk\n",
            "m#nn## m##s#\n",
            "sh#k#sp##r#\n"
          ]
        }
      ]
    },
    {
      "cell_type": "markdown",
      "source": [
        "Question4. Write a function that calculates the factorial of a number recursively.\n",
        "\n",
        "Examples\n",
        "\n",
        "factorial(5) ➞ 120\n",
        "\n",
        "factorial(3) ➞ 6\n",
        "\n",
        "factorial(1) ➞ 1\n",
        "\n",
        "factorial(0) ➞ 1"
      ],
      "metadata": {
        "id": "ZJbpHFjFBoXa"
      }
    },
    {
      "cell_type": "code",
      "source": [
        "def factorial(n):\n",
        "  if n==0 or n==1:\n",
        "    return 1\n",
        "  else:\n",
        "    return n*factorial(n-1)\n",
        "\n",
        "print(factorial(5))\n",
        "print(factorial(6))\n",
        "print(factorial(1))\n",
        "print(factorial(0))"
      ],
      "metadata": {
        "colab": {
          "base_uri": "https://localhost:8080/"
        },
        "id": "zPKFso8fB6CJ",
        "outputId": "a19710cc-507e-49d4-f329-960535e55236"
      },
      "execution_count": 9,
      "outputs": [
        {
          "output_type": "stream",
          "name": "stdout",
          "text": [
            "120\n",
            "720\n",
            "1\n",
            "1\n"
          ]
        }
      ]
    },
    {
      "cell_type": "markdown",
      "source": [
        "Question 5\n",
        "\n",
        "Hamming distance is the number of characters that differ between two strings.\n",
        "\n",
        "To illustrate:\n",
        "\n",
        "String1: &quot;abcbba&quot;\n",
        "\n",
        "String2: &quot;abcbda&quot;\n",
        "\n",
        "Hamming Distance: 1 - &quot;b&quot; vs. &quot;d&quot; is the only difference.\n",
        "\n",
        "Create a function that computes the hamming distance between two strings.\n",
        "\n",
        "Examples\n",
        "\n",
        "hamming_distance(&quot;abcde&quot;, &quot;bcdef&quot;) ➞ 5\n",
        "\n",
        "hamming_distance(&quot;abcde&quot;, &quot;abcde&quot;) ➞ 0\n",
        "\n",
        "hamming_distance(&quot;strong&quot;, &quot;strung&quot;) ➞ 1"
      ],
      "metadata": {
        "id": "GE0-ap5nCgLB"
      }
    },
    {
      "cell_type": "code",
      "source": [
        "def hamming_dist(str1, str2):\n",
        "  distance=0\n",
        "  for i in range(len(str1)):\n",
        "    if i >=len(str2) or str1[i]!=str2[i]:\n",
        "      distance +=1\n",
        "  return distance\n",
        "\n",
        "print(hamming_dist(\"abcde\", \"bcdef\"))\n",
        "print(hamming_dist(\"abcde\", \"abcde\"))\n",
        "print(hamming_dist(\"strong\", \"strung\"))\n"
      ],
      "metadata": {
        "colab": {
          "base_uri": "https://localhost:8080/"
        },
        "id": "-fJ5rIR1Crkg",
        "outputId": "8614cefc-5ff7-431e-b1bf-5656c0c1e0d9"
      },
      "execution_count": 10,
      "outputs": [
        {
          "output_type": "stream",
          "name": "stdout",
          "text": [
            "5\n",
            "0\n",
            "1\n"
          ]
        }
      ]
    },
    {
      "cell_type": "code",
      "source": [],
      "metadata": {
        "id": "j7dQoRe1EoPC"
      },
      "execution_count": null,
      "outputs": []
    }
  ]
}