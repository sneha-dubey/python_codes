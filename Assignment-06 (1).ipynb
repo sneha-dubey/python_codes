{
 "cells": [
  {
   "cell_type": "raw",
   "id": "04950b58",
   "metadata": {},
   "source": [
    " 1. Write a Python Program to Display Fibonacci Sequence Using Recursion?"
   ]
  },
  {
   "cell_type": "code",
   "execution_count": 4,
   "id": "3d92f51b",
   "metadata": {},
   "outputs": [
    {
     "name": "stdout",
     "output_type": "stream",
     "text": [
      "Enter number of terms: -1\n",
      "Fibonacci sequence:\n"
     ]
    }
   ],
   "source": [
    "def fibonacci(n):\n",
    "    if (n<=1):\n",
    "        return n\n",
    "    else:\n",
    "        return(fibonacci(n-1) + fibonacci(n-2))\n",
    "n=int(input(\"Enter number of terms: \"))\n",
    "print(\"Fibonacci sequence:\")\n",
    "for i in range(n):\n",
    "    print(fibonacci(i))"
   ]
  },
  {
   "cell_type": "code",
   "execution_count": 3,
   "id": "345c4074",
   "metadata": {},
   "outputs": [
    {
     "name": "stdout",
     "output_type": "stream",
     "text": [
      "Object `Recursion` not found.\n"
     ]
    }
   ],
   "source": [
    "2. Write a Python Program to Find Factorial of Number Using Recursion?"
   ]
  },
  {
   "cell_type": "code",
   "execution_count": 28,
   "id": "c7fa962b",
   "metadata": {},
   "outputs": [],
   "source": [
    "def fact(n):\n",
    "    'it is a function to create factorial of a number'\n",
    "    if (n==1 or n==0):\n",
    "        return 1\n",
    "    else:\n",
    "        return(n * fact(n - 1))"
   ]
  },
  {
   "cell_type": "code",
   "execution_count": 29,
   "id": "a450a38b",
   "metadata": {},
   "outputs": [
    {
     "data": {
      "text/plain": [
       "1"
      ]
     },
     "execution_count": 29,
     "metadata": {},
     "output_type": "execute_result"
    }
   ],
   "source": [
    "fact(0)"
   ]
  },
  {
   "cell_type": "code",
   "execution_count": 30,
   "id": "6aeacb83",
   "metadata": {},
   "outputs": [
    {
     "data": {
      "text/plain": [
       "720"
      ]
     },
     "execution_count": 30,
     "metadata": {},
     "output_type": "execute_result"
    }
   ],
   "source": [
    "fact(6)"
   ]
  },
  {
   "cell_type": "code",
   "execution_count": null,
   "id": "0b57361f",
   "metadata": {},
   "outputs": [],
   "source": [
    "3. Write a Python Program to calculate your Body Mass Index?"
   ]
  },
  {
   "cell_type": "code",
   "execution_count": 12,
   "id": "af01bde2",
   "metadata": {},
   "outputs": [
    {
     "name": "stdout",
     "output_type": "stream",
     "text": [
      "Enter your height in meter:1.89\n",
      "Enter your weight in kg:70\n",
      "your body mass index is: 19.59631589261219\n"
     ]
    }
   ],
   "source": [
    "height=float(input(\"Enter your height in meter:\"))\n",
    "weight=float(input(\"Enter your weight in kg:\"))\n",
    "BMI=weight/height**2\n",
    "print('your body mass index is:' , BMI)"
   ]
  },
  {
   "cell_type": "code",
   "execution_count": 2,
   "id": "768680e1",
   "metadata": {},
   "outputs": [
    {
     "data": {
      "text/plain": [
       "(0.00202020202020202, 2)"
      ]
     },
     "execution_count": 2,
     "metadata": {},
     "output_type": "execute_result"
    }
   ],
   "source": [
    "bodymassindex(165,55)"
   ]
  },
  {
   "cell_type": "code",
   "execution_count": null,
   "id": "257e23cb",
   "metadata": {},
   "outputs": [],
   "source": [
    "4. Write a Python Program to calculate the natural logarithm of any number?"
   ]
  },
  {
   "cell_type": "code",
   "execution_count": 7,
   "id": "3d730209",
   "metadata": {},
   "outputs": [
    {
     "name": "stdout",
     "output_type": "stream",
     "text": [
      "enter the number:5\n",
      "log value: 1.6094379124341003\n"
     ]
    }
   ],
   "source": [
    "import math\n",
    "n=int(input('enter the number:'))\n",
    "if n>=1:\n",
    "    print('log value:', math.log(n))\n",
    "else:\n",
    "    print('not a valid number')"
   ]
  },
  {
   "cell_type": "code",
   "execution_count": null,
   "id": "3507142e",
   "metadata": {},
   "outputs": [],
   "source": [
    "5. Write a Python Program for cube sum of first n natural numbers?"
   ]
  },
  {
   "cell_type": "code",
   "execution_count": 8,
   "id": "e37b167c",
   "metadata": {},
   "outputs": [
    {
     "name": "stdout",
     "output_type": "stream",
     "text": [
      "Enter the number:2\n",
      "sum of cubes of given value: 9\n"
     ]
    }
   ],
   "source": [
    "n=int(input(\"Enter the number:\"))\n",
    "sum=0\n",
    "if n>=1:\n",
    "    for i in range(1,n+1):\n",
    "        sum=sum+i**3\n",
    "    print('sum of cubes of given value:', int(sum))\n",
    "else:\n",
    "    print('not a valid number')\n"
   ]
  },
  {
   "cell_type": "code",
   "execution_count": null,
   "id": "af8633a9",
   "metadata": {},
   "outputs": [],
   "source": []
  }
 ],
 "metadata": {
  "kernelspec": {
   "display_name": "Python 3",
   "language": "python",
   "name": "python3"
  },
  "language_info": {
   "codemirror_mode": {
    "name": "ipython",
    "version": 3
   },
   "file_extension": ".py",
   "mimetype": "text/x-python",
   "name": "python",
   "nbconvert_exporter": "python",
   "pygments_lexer": "ipython3",
   "version": "3.8.8"
  }
 },
 "nbformat": 4,
 "nbformat_minor": 5
}
