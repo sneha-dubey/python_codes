{
 "cells": [
  {
   "cell_type": "raw",
   "id": "b7f1727c",
   "metadata": {},
   "source": [
    "1. Why are functions advantageous to have in your programs?\n"
   ]
  },
  {
   "cell_type": "raw",
   "id": "8bfb5bc9",
   "metadata": {},
   "source": [
    "Answer: Functions reduce the need for duplicate code. Function makes program easier to read, shorter, easy to understand. we can create once but can use many times."
   ]
  },
  {
   "cell_type": "raw",
   "id": "67531659",
   "metadata": {},
   "source": [
    "2. When does the code in a function run: when it's specified or when it's called?\n",
    "\n",
    "Answer: When it's called then code in a function run."
   ]
  },
  {
   "cell_type": "raw",
   "id": "4469fa44",
   "metadata": {},
   "source": [
    "3. What statement creates a function?\n",
    "\n",
    "Answer: Def function defines or create the function."
   ]
  },
  {
   "cell_type": "raw",
   "id": "86832331",
   "metadata": {},
   "source": [
    "4. What is the difference between a function and a function call?\n",
    "\n",
    "Answer: A function is a block of code that does a particular operation  and returns a result. It usually accepts inputs as parameters and returns a result. The parameters are not mandatory.\n",
    "### Function call is a code used to pass control to a function."
   ]
  },
  {
   "cell_type": "raw",
   "id": "8b4f0c2e",
   "metadata": {},
   "source": [
    "# function add(a,b):\n",
    "    return a+b       #here, add is a function.\n",
    ".........\n",
    "b=add(6,8)\n",
    "print(b)"
   ]
  },
  {
   "cell_type": "raw",
   "id": "57aef7ed",
   "metadata": {},
   "source": [
    "5. How many global scopes are there in a Python program? How many local scopes?\n",
    "\n",
    "Answer: There is one global scope and one local scope is created ."
   ]
  },
  {
   "cell_type": "raw",
   "id": "2994b73e",
   "metadata": {},
   "source": [
    "6. What happens to variables in a local scope when the function call returns?\n",
    "\n",
    "Answer: When the execution of the function or function call returns, the local variable is destroyed."
   ]
  },
  {
   "cell_type": "raw",
   "id": "72278407",
   "metadata": {},
   "source": [
    "7. What is the concept of a return value? Is it possible to have a return value in an expression?\n",
    "\n",
    "Answer: return value is tha values that a function returns when it completes. yes, return value is part of expression."
   ]
  },
  {
   "cell_type": "raw",
   "id": "515ac552",
   "metadata": {},
   "source": [
    "8. If a function does not have a return statement, what is the return value of a call to that function?\n",
    "\n",
    "Answer:If there is no return statement for a function, its return value is none."
   ]
  },
  {
   "cell_type": "raw",
   "id": "b42112cf",
   "metadata": {},
   "source": [
    "9. How do you make a function variable refer to the global variable?\n",
    "\n",
    "Answer: To create a global variable inside a function, we use the global keyword."
   ]
  },
  {
   "cell_type": "code",
   "execution_count": 1,
   "id": "8911439e",
   "metadata": {},
   "outputs": [
    {
     "name": "stdout",
     "output_type": "stream",
     "text": [
      "Python is fantastic\n"
     ]
    }
   ],
   "source": [
    "x = \"awesome\"\n",
    "\n",
    "def myfunc():\n",
    "  global x\n",
    "  x = \"fantastic\"\n",
    "\n",
    "myfunc()\n",
    "\n",
    "print(\"Python is \" + x)"
   ]
  },
  {
   "cell_type": "raw",
   "id": "90364710",
   "metadata": {},
   "source": [
    "10. What is the data type of None?\n",
    "\n",
    "Answer: None type"
   ]
  },
  {
   "cell_type": "code",
   "execution_count": 2,
   "id": "91556215",
   "metadata": {},
   "outputs": [
    {
     "data": {
      "text/plain": [
       "NoneType"
      ]
     },
     "execution_count": 2,
     "metadata": {},
     "output_type": "execute_result"
    }
   ],
   "source": [
    "type(None)"
   ]
  },
  {
   "cell_type": "raw",
   "id": "87ab3160",
   "metadata": {},
   "source": [
    "11. What does the sentence import areallyourpetsnamederic do?\n",
    "\n",
    "Answer: This import statement imports a module named areallyourpetsnamederic."
   ]
  },
  {
   "cell_type": "raw",
   "id": "8b6ab3dc",
   "metadata": {},
   "source": [
    "12. If you had a bacon() feature in a spam module, what would you call it after importing spam?\n",
    "\n",
    "Answer: spam.bacon()"
   ]
  },
  {
   "cell_type": "code",
   "execution_count": 9,
   "id": "49f12eeb",
   "metadata": {},
   "outputs": [],
   "source": [
    "# import spam\n",
    "# spam.bacon()"
   ]
  },
  {
   "cell_type": "raw",
   "id": "c23b4574",
   "metadata": {},
   "source": [
    "13. What can you do to save a programme from crashing if it encounters an error?\n",
    "\n",
    "Answer:Place the line of code that might cause an error in a try clause. or we can use pass keyword."
   ]
  },
  {
   "cell_type": "raw",
   "id": "240847df",
   "metadata": {},
   "source": [
    "14. What is the purpose of the try clause? What is the purpose of the except clause?\n",
    "\n",
    "Answer: The code that potentially cause an error goes in try clause.\n",
    "The code that executes if an error happens goes in the execute clause."
   ]
  },
  {
   "cell_type": "code",
   "execution_count": null,
   "id": "0a35093c",
   "metadata": {},
   "outputs": [],
   "source": []
  }
 ],
 "metadata": {
  "kernelspec": {
   "display_name": "Python 3",
   "language": "python",
   "name": "python3"
  },
  "language_info": {
   "codemirror_mode": {
    "name": "ipython",
    "version": 3
   },
   "file_extension": ".py",
   "mimetype": "text/x-python",
   "name": "python",
   "nbconvert_exporter": "python",
   "pygments_lexer": "ipython3",
   "version": "3.8.8"
  }
 },
 "nbformat": 4,
 "nbformat_minor": 5
}
