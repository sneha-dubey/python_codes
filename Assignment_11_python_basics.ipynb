{
  "nbformat": 4,
  "nbformat_minor": 0,
  "metadata": {
    "colab": {
      "provenance": []
    },
    "kernelspec": {
      "name": "python3",
      "display_name": "Python 3"
    },
    "language_info": {
      "name": "python"
    }
  },
  "cells": [
    {
      "cell_type": "markdown",
      "source": [
        "\n",
        "1. Create an assert statement that throws an AssertionError if the variable spam is a negative integer.\n",
        "\n",
        "Answer: assert spam>=0, 'Error:spam is negative integer'"
      ],
      "metadata": {
        "id": "7gaiHb0D6hdq"
      }
    },
    {
      "cell_type": "code",
      "source": [
        "spam=int(input())\n",
        "assert spam>=0\n"
      ],
      "metadata": {
        "colab": {
          "base_uri": "https://localhost:8080/",
          "height": 200
        },
        "id": "v_F_helQThCo",
        "outputId": "08f2cec2-f885-47bb-dda8-f67c3b2f9343"
      },
      "execution_count": 3,
      "outputs": [
        {
          "name": "stdout",
          "output_type": "stream",
          "text": [
            "-7\n"
          ]
        },
        {
          "output_type": "error",
          "ename": "AssertionError",
          "evalue": "ignored",
          "traceback": [
            "\u001b[0;31m---------------------------------------------------------------------------\u001b[0m",
            "\u001b[0;31mAssertionError\u001b[0m                            Traceback (most recent call last)",
            "\u001b[0;32m<ipython-input-3-96171afe2d64>\u001b[0m in \u001b[0;36m<module>\u001b[0;34m\u001b[0m\n\u001b[1;32m      1\u001b[0m \u001b[0mspam\u001b[0m\u001b[0;34m=\u001b[0m\u001b[0mint\u001b[0m\u001b[0;34m(\u001b[0m\u001b[0minput\u001b[0m\u001b[0;34m(\u001b[0m\u001b[0;34m)\u001b[0m\u001b[0;34m)\u001b[0m\u001b[0;34m\u001b[0m\u001b[0;34m\u001b[0m\u001b[0m\n\u001b[0;32m----> 2\u001b[0;31m \u001b[0;32massert\u001b[0m \u001b[0mspam\u001b[0m\u001b[0;34m>=\u001b[0m\u001b[0;36m0\u001b[0m\u001b[0;34m\u001b[0m\u001b[0;34m\u001b[0m\u001b[0m\n\u001b[0m",
            "\u001b[0;31mAssertionError\u001b[0m: "
          ]
        }
      ]
    },
    {
      "cell_type": "markdown",
      "source": [
        "2. Write an assert statement that triggers an AssertionError if the variables eggs and bacon contain strings that are the same as each other, even if their cases are different (that is, 'hello' and 'hello' are considered the same, and 'goodbye' and 'GOODbye' are also considered the same).\n",
        "\n",
        "Answer:assert eggs.lower() != bacon.lower(), \"Error: eggs and bacon contain the same string\"."
      ],
      "metadata": {
        "id": "XBG1cZPEjhAV"
      }
    },
    {
      "cell_type": "markdown",
      "source": [
        "3. Create an assert statement that throws an AssertionError every time.\n",
        "\n",
        "Answer:assert False, 'This statement will always trigger an AssertionError.' "
      ],
      "metadata": {
        "id": "x4v8k9mkjqpt"
      }
    },
    {
      "cell_type": "code",
      "source": [
        "assert False"
      ],
      "metadata": {
        "colab": {
          "base_uri": "https://localhost:8080/",
          "height": 165
        },
        "id": "V1MGH3zEluT7",
        "outputId": "ac80c950-665e-4dbb-994b-1376b2a6d47e"
      },
      "execution_count": 8,
      "outputs": [
        {
          "output_type": "error",
          "ename": "AssertionError",
          "evalue": "ignored",
          "traceback": [
            "\u001b[0;31m---------------------------------------------------------------------------\u001b[0m",
            "\u001b[0;31mAssertionError\u001b[0m                            Traceback (most recent call last)",
            "\u001b[0;32m<ipython-input-8-a871fdc9ebee>\u001b[0m in \u001b[0;36m<module>\u001b[0;34m\u001b[0m\n\u001b[0;32m----> 1\u001b[0;31m \u001b[0;32massert\u001b[0m \u001b[0;32mFalse\u001b[0m\u001b[0;34m\u001b[0m\u001b[0;34m\u001b[0m\u001b[0m\n\u001b[0m",
            "\u001b[0;31mAssertionError\u001b[0m: "
          ]
        }
      ]
    },
    {
      "cell_type": "markdown",
      "source": [
        "4. What are the two lines that must be present in your software in order to call logging.debug()?\n",
        "\n",
        "Answer: first line is import statement ' import logging'.\n",
        "second line is the basic configuration of logging system usually \"\"logging.basicConfig(level=logging.debug('this is debugging message'))\"\""
      ],
      "metadata": {
        "id": "vJ_WZkUvjxwl"
      }
    },
    {
      "cell_type": "code",
      "source": [
        "import logging"
      ],
      "metadata": {
        "id": "Xdo4UrJgmsTB"
      },
      "execution_count": 9,
      "outputs": []
    },
    {
      "cell_type": "code",
      "source": [
        "logging.basicConfig(level=logging.debug('this is debugging message'))"
      ],
      "metadata": {
        "id": "z0d3Y2c4murP"
      },
      "execution_count": 12,
      "outputs": []
    },
    {
      "cell_type": "markdown",
      "source": [
        "5. What are the two lines that your program must have in order to have logging.debug() send a logging message to a file named programLog.txt?\n",
        "\n",
        "Answer:"
      ],
      "metadata": {
        "id": "DAwRuYnSj4Wn"
      }
    },
    {
      "cell_type": "code",
      "source": [
        "import logging\n",
        "logging.basicConfig(\n",
        "    filename='programLog.txt',\n",
        "    level=logging.DEBUG,\n",
        "    format='%(asctime)s - %(levelname)s - %(message)s'\n",
        ")"
      ],
      "metadata": {
        "id": "onRaevyZuI_0"
      },
      "execution_count": 13,
      "outputs": []
    },
    {
      "cell_type": "markdown",
      "source": [
        "6. What are the five levels of logging?\n",
        "\n",
        "Answer:There are five levels of logging in the python logging module.\n",
        "DEBUG:Detailed information, only when diagonising problem.\n",
        "INFO:Confirmation that everything working as expected.\n",
        "WARNING:Indicates some problem in near future. still software working as expected.\n",
        "ERROR:Due to some error, software is not able to perform as expected.\n",
        "CRITICAL:A serious error, program is unable to continue."
      ],
      "metadata": {
        "id": "7wNrulsSkCg0"
      }
    },
    {
      "cell_type": "markdown",
      "source": [
        "7. What line of code would you add to your software to disable all logging messages?\n",
        "\n",
        "Answer:"
      ],
      "metadata": {
        "id": "4cg3YUvBkIlu"
      }
    },
    {
      "cell_type": "code",
      "source": [
        "import logging\n",
        "logging.disable(logging.CRITICAL)\n"
      ],
      "metadata": {
        "id": "eyFspgtdTfUb"
      },
      "execution_count": 1,
      "outputs": []
    },
    {
      "cell_type": "markdown",
      "source": [
        "8.Why is using logging messages better than using print() to display the same message?\n",
        "\n",
        "Answer:logging provides a more flexible and powerful way to output messages in your software, which can be useful for debugging, troubleshooting, and monitoring.\n",
        "\n",
        "\n",
        "*   Easy to filter and search\n",
        "*   Easy to handle multi ple outputs\n",
        "\n"
      ],
      "metadata": {
        "id": "hdbJAks4kNYH"
      }
    },
    {
      "cell_type": "markdown",
      "source": [
        "9. What are the differences between the Step Over, Step In, and Step Out buttons in the debugger?\n",
        "\n",
        "Answer:\n",
        "Step Over: When you press the \"Step Over\" button, the debugger will execute the next line of code and move to the next line. If the next line of code is a function call, the debugger will execute the function and return to the next line after the function call, without entering the function. This is useful when you want to quickly move through your code and don't need to see what's happening inside the function.\n",
        "\n",
        "Step In: When you press the \"Step In\" button, the debugger will execute the next line of code and enter any function calls on that line. This is useful when you want to see what's happening inside a function and how it's affecting the rest of the code.\n",
        "\n",
        "Step Out: When you press the \"Step Out\" button, the debugger will execute the rest of the code in the current function and return to the next line after the function call. This is useful when you have finished debugging inside a function and want to continue debugging at the next line after the function call.\n"
      ],
      "metadata": {
        "id": "XvZbMtZckVFU"
      }
    },
    {
      "cell_type": "markdown",
      "source": [
        "10.After you click Continue, when will the debugger stop ?\n",
        "\n",
        "Answer:After you click the \"Continue\" button in a debugger, the debugger will stop executing the code and return control to the user when one of the following conditions is met:\n",
        "Breakpoint:This is useful when you want to stop the execution at a specific point in your code to inspect the state of your program.\n",
        "\n",
        "An exception is thrown: If an exception is thrown while the code is running, the debugger will stop executing the code and allow you to inspect the exception and the state of the program at the time the exception was thrown.\n",
        "\n",
        "The end of the program is reached: If the end of the program is reached, the debugger will stop executing the code and return control to the user.\n",
        "\n",
        "User command: If you press the Stop or Pause button on the debugger, it will stop the execution of the code and give you the chance to inspect the state of the program."
      ],
      "metadata": {
        "id": "16XQ_2izkdrr"
      }
    },
    {
      "cell_type": "markdown",
      "source": [
        "11. What is the concept of a breakpoint?\n",
        "\n",
        "Answer:A brakpoint is a feature in a debugger that allows us to stop the execution of our code at a specific point.This is useful when you want to stop the execution at a specific point in your code to inspect the state of your program.\n",
        "Breakpoint can be set on any line of code, and you can have multiple breakpoints in your code at the same time."
      ],
      "metadata": {
        "id": "mxE50ZqTkgHo"
      }
    },
    {
      "cell_type": "code",
      "source": [],
      "metadata": {
        "id": "2Xs6lZ-Hkj2m"
      },
      "execution_count": null,
      "outputs": []
    }
  ]
}