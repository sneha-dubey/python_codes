{
  "nbformat": 4,
  "nbformat_minor": 0,
  "metadata": {
    "colab": {
      "provenance": []
    },
    "kernelspec": {
      "name": "python3",
      "display_name": "Python 3"
    },
    "language_info": {
      "name": "python"
    }
  },
  "cells": [
    {
      "cell_type": "markdown",
      "source": [
        "Question 1.) Define a class with a generator which can iterate the numbers, which are divisible by\n",
        "7, between a given range 0 and n."
      ],
      "metadata": {
        "id": "b5tGC7DkmsxR"
      }
    },
    {
      "cell_type": "code",
      "source": [
        "class DivisibleBy7:\n",
        "    def __init__(self, n):\n",
        "        self.n = n\n",
        "\n",
        "    def iterate_divisible_by_7(self):\n",
        "        for i in range(0, self.n + 1, 7):\n",
        "            yield i\n"
      ],
      "metadata": {
        "id": "ZD4oAA6xm2th"
      },
      "execution_count": null,
      "outputs": []
    },
    {
      "cell_type": "code",
      "source": [
        "divisible_by_7 = DivisibleBy7(100)\n",
        "for i in divisible_by_7.iterate_divisible_by_7():\n",
        "    print(i)\n"
      ],
      "metadata": {
        "colab": {
          "base_uri": "https://localhost:8080/"
        },
        "id": "gTXcoZxMWRns",
        "outputId": "4307b8b6-b16d-4646-f647-211ecd6fad71"
      },
      "execution_count": null,
      "outputs": [
        {
          "output_type": "stream",
          "name": "stdout",
          "text": [
            "0\n",
            "7\n",
            "14\n",
            "21\n",
            "28\n",
            "35\n",
            "42\n",
            "49\n",
            "56\n",
            "63\n",
            "70\n",
            "77\n",
            "84\n",
            "91\n",
            "98\n"
          ]
        }
      ]
    },
    {
      "cell_type": "markdown",
      "source": [
        "Question 2.) Write a program to compute the frequency of the words from the input. The output\n",
        "should output after sorting the key alphanumerically.\n",
        "\n",
        "Suppose the following input is supplied to the program:\n",
        "\n",
        "New to Python or choosing between Python 2 and Python 3? Read Python 2 or\n",
        "Python 3.\n",
        "\n",
        "Then, the output should be:\n",
        "\n",
        "2:2\n",
        "\n",
        "3.:1\n",
        "\n",
        "3?:1\n",
        "\n",
        "New:1\n",
        "\n",
        "Python:5\n",
        "\n",
        "Read:1\n",
        "\n",
        "and:1\n",
        "\n",
        "between:1\n",
        "\n",
        "choosing:1\n",
        "\n",
        "or:2\n",
        "\n",
        "to:1"
      ],
      "metadata": {
        "id": "uQXpVi4Om4h8"
      }
    },
    {
      "cell_type": "code",
      "source": [
        "def word_frequency(text):\n",
        "  words=text.split()\n",
        "  word_count={}\n",
        "  for i in words:\n",
        "    if i not in word_count:\n",
        "      word_count[i]=1\n",
        "    else:\n",
        "      word_count[i] +=1\n",
        "  sorted_word_count = sorted(word_count.items(), key=lambda x: x[0])\n",
        "  return sorted_word_count\n",
        "\n",
        "text='New to Python or choosing between Python 2 and Python 3? Read Python 2 or Python 3.'\n",
        "print(word_frequency(text))\n"
      ],
      "metadata": {
        "colab": {
          "base_uri": "https://localhost:8080/"
        },
        "id": "GL3F-q-znH4f",
        "outputId": "1abddff1-9559-41d6-a3c3-1ab8e7914793"
      },
      "execution_count": null,
      "outputs": [
        {
          "output_type": "stream",
          "name": "stdout",
          "text": [
            "[('2', 2), ('3.', 1), ('3?', 1), ('New', 1), ('Python', 5), ('Read', 1), ('and', 1), ('between', 1), ('choosing', 1), ('or', 2), ('to', 1)]\n"
          ]
        }
      ]
    },
    {
      "cell_type": "markdown",
      "source": [
        "Question 3.) Define a class Person and its two child classes: Male and Female. All classes have a\n",
        "method &quot;getGender&quot; which can print &quot;Male&quot; for Male class and &quot;Female&quot; for Female\n",
        "class."
      ],
      "metadata": {
        "id": "8IjSIypZndRN"
      }
    },
    {
      "cell_type": "code",
      "source": [
        "class person:\n",
        "  def getGender(self):\n",
        "    pass\n",
        "class male(person):\n",
        "  def getGender(self):\n",
        "    return 'Male'\n",
        "class female(person):\n",
        "  def getGender(self):\n",
        "    return 'Female'\n"
      ],
      "metadata": {
        "id": "h1T-WfIgnku4"
      },
      "execution_count": 9,
      "outputs": []
    },
    {
      "cell_type": "markdown",
      "source": [
        "Question 4.) Please write a program to generate all sentences where subject is in [&quot;I&quot;, &quot;You&quot;] and\n",
        "verb is in [&quot;Play&quot;, &quot;Love&quot;] and the object is in [&quot;Hockey&quot;,&quot;Football&quot;]."
      ],
      "metadata": {
        "id": "Xe7DB1menp-Y"
      }
    },
    {
      "cell_type": "code",
      "source": [
        "subjects=['I','You']\n",
        "verbs=[\"Play\", \"Love\"]\n",
        "objects=[\"Hockey\",\"Football\"]\n",
        "\n",
        "for sub in subjects:\n",
        "  for verb in verbs:\n",
        "    for obj in objects:\n",
        "      print(f\"{sub} {verb} {obj}\")\n"
      ],
      "metadata": {
        "id": "JVDpWnMlnzJ2",
        "colab": {
          "base_uri": "https://localhost:8080/"
        },
        "outputId": "55370038-6f2e-419a-9715-2a6bb0895c51"
      },
      "execution_count": 10,
      "outputs": [
        {
          "output_type": "stream",
          "name": "stdout",
          "text": [
            "I Play Hockey\n",
            "I Play Football\n",
            "I Love Hockey\n",
            "I Love Football\n",
            "You Play Hockey\n",
            "You Play Football\n",
            "You Love Hockey\n",
            "You Love Football\n"
          ]
        }
      ]
    },
    {
      "cell_type": "markdown",
      "source": [
        "Question 5:\n",
        "Please write a program to compress and decompress the string &quot;hello world!hello\n",
        "world!hello world!hello world!&quot;."
      ],
      "metadata": {
        "id": "IhzwcDWqn0Hw"
      }
    },
    {
      "cell_type": "code",
      "source": [
        "def compress(s):\n",
        "    rle = []\n",
        "    i = 0\n",
        "    while i < len(s):\n",
        "        count = 1\n",
        "        while i + 1 < len(s) and s[i] == s[i+1]:\n",
        "            count += 1\n",
        "            i += 1\n",
        "        rle.append((s[i], count))\n",
        "        i += 1\n",
        "    return rle\n",
        "\n",
        "def decompress(rle):\n",
        "    s = ''\n",
        "    for char, count in rle:\n",
        "        s += char * count\n",
        "    return s\n",
        "\n",
        "s = \"hello world!hello world!hello world!hello world!\"\n"
      ],
      "metadata": {
        "id": "2dAD7cFtn3Dg"
      },
      "execution_count": 14,
      "outputs": []
    },
    {
      "cell_type": "code",
      "source": [
        "compress(\"hello world!hello world!hello world!hello world!\")"
      ],
      "metadata": {
        "colab": {
          "base_uri": "https://localhost:8080/"
        },
        "id": "kd2QiRBIlRBS",
        "outputId": "cb824914-c1a4-41ec-a1de-81d800371a35"
      },
      "execution_count": 18,
      "outputs": [
        {
          "output_type": "execute_result",
          "data": {
            "text/plain": [
              "[('h', 1),\n",
              " ('e', 1),\n",
              " ('l', 2),\n",
              " ('o', 1),\n",
              " (' ', 1),\n",
              " ('w', 1),\n",
              " ('o', 1),\n",
              " ('r', 1),\n",
              " ('l', 1),\n",
              " ('d', 1),\n",
              " ('!', 1),\n",
              " ('h', 1),\n",
              " ('e', 1),\n",
              " ('l', 2),\n",
              " ('o', 1),\n",
              " (' ', 1),\n",
              " ('w', 1),\n",
              " ('o', 1),\n",
              " ('r', 1),\n",
              " ('l', 1),\n",
              " ('d', 1),\n",
              " ('!', 1),\n",
              " ('h', 1),\n",
              " ('e', 1),\n",
              " ('l', 2),\n",
              " ('o', 1),\n",
              " (' ', 1),\n",
              " ('w', 1),\n",
              " ('o', 1),\n",
              " ('r', 1),\n",
              " ('l', 1),\n",
              " ('d', 1),\n",
              " ('!', 1),\n",
              " ('h', 1),\n",
              " ('e', 1),\n",
              " ('l', 2),\n",
              " ('o', 1),\n",
              " (' ', 1),\n",
              " ('w', 1),\n",
              " ('o', 1),\n",
              " ('r', 1),\n",
              " ('l', 1),\n",
              " ('d', 1),\n",
              " ('!', 1)]"
            ]
          },
          "metadata": {},
          "execution_count": 18
        }
      ]
    },
    {
      "cell_type": "markdown",
      "source": [
        "Question 6:\n",
        "Please write a binary search function which searches an item in a sorted list. The\n",
        "function should return the index of element to be searched in the list."
      ],
      "metadata": {
        "id": "XrYHgx-on4Bo"
      }
    },
    {
      "cell_type": "code",
      "source": [
        "def binary_search(arr, x):\n",
        "    low = 0\n",
        "    high = len(arr) - 1\n",
        "    while low <= high:\n",
        "        mid = (low + high) // 2\n",
        "        if arr[mid] == x:\n",
        "            return mid\n",
        "        elif arr[mid] < x:\n",
        "            low = mid + 1\n",
        "        else:\n",
        "            high = mid - 1\n",
        "    return -1\n"
      ],
      "metadata": {
        "id": "DPsvjW2Rn7mx"
      },
      "execution_count": 12,
      "outputs": []
    },
    {
      "cell_type": "code",
      "source": [
        "binary_search([1,3,7,9,8], 8)"
      ],
      "metadata": {
        "colab": {
          "base_uri": "https://localhost:8080/"
        },
        "id": "uABwufoglBHK",
        "outputId": "f9713e0d-aa25-4ccb-903e-d6183e2bcd91"
      },
      "execution_count": 13,
      "outputs": [
        {
          "output_type": "execute_result",
          "data": {
            "text/plain": [
              "-1"
            ]
          },
          "metadata": {},
          "execution_count": 13
        }
      ]
    },
    {
      "cell_type": "code",
      "source": [],
      "metadata": {
        "id": "E5Lm6-qVlNsN"
      },
      "execution_count": null,
      "outputs": []
    }
  ]
}