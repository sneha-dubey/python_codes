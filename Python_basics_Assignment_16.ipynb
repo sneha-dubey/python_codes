{
  "nbformat": 4,
  "nbformat_minor": 0,
  "metadata": {
    "colab": {
      "provenance": []
    },
    "kernelspec": {
      "name": "python3",
      "display_name": "Python 3"
    },
    "language_info": {
      "name": "python"
    }
  },
  "cells": [
    {
      "cell_type": "markdown",
      "source": [
        "1. Create a list called years_list, starting with the year of your birth, and each year thereafter until the year of your fifth birthday. For example, if you were born in 1980. the list would be years_list = [1980, 1981, 1982, 1983, 1984, 1985]."
      ],
      "metadata": {
        "id": "_jpmPfkC0-No"
      }
    },
    {
      "cell_type": "code",
      "source": [
        "years_list=[1994,1995,1996,1997,1998,1999]"
      ],
      "metadata": {
        "id": "qLATx6I70_WL"
      },
      "execution_count": null,
      "outputs": []
    },
    {
      "cell_type": "markdown",
      "source": [
        "2. In which year in years_list was your third birthday? Remember, you were 0 years of age for your first year."
      ],
      "metadata": {
        "id": "eyVRAJa21DSG"
      }
    },
    {
      "cell_type": "code",
      "source": [
        "years_list[3]"
      ],
      "metadata": {
        "id": "4k3bkaCr1O_3",
        "colab": {
          "base_uri": "https://localhost:8080/"
        },
        "outputId": "176e3740-ffb2-4bc1-caaf-9e4aba40fda6"
      },
      "execution_count": null,
      "outputs": [
        {
          "output_type": "execute_result",
          "data": {
            "text/plain": [
              "1997"
            ]
          },
          "metadata": {},
          "execution_count": 6
        }
      ]
    },
    {
      "cell_type": "markdown",
      "source": [
        "3.In the years list, which year were you the oldest?\n"
      ],
      "metadata": {
        "id": "HBc7hztd1P5L"
      }
    },
    {
      "cell_type": "code",
      "source": [
        "max(years_list)"
      ],
      "metadata": {
        "id": "U15sRAMD1ZKx",
        "colab": {
          "base_uri": "https://localhost:8080/"
        },
        "outputId": "9e67601e-38bf-4326-92d0-e06fe03b9ec4"
      },
      "execution_count": null,
      "outputs": [
        {
          "output_type": "execute_result",
          "data": {
            "text/plain": [
              "1999"
            ]
          },
          "metadata": {},
          "execution_count": 7
        }
      ]
    },
    {
      "cell_type": "markdown",
      "source": [
        "4. Make a list called things with these three strings as elements: \"mozzarella\", \"cinderella\", \"salmonella\"."
      ],
      "metadata": {
        "id": "r2BJQ2pw1ef2"
      }
    },
    {
      "cell_type": "code",
      "source": [
        "things=['mozzarella','cinderella','salmonella']"
      ],
      "metadata": {
        "id": "z1d_vOa61kF2"
      },
      "execution_count": null,
      "outputs": []
    },
    {
      "cell_type": "markdown",
      "source": [
        "5. Capitalize the element in things that refers to a person and then print the list. Did it change the element in the list?"
      ],
      "metadata": {
        "id": "jk35D5B_1mCM"
      }
    },
    {
      "cell_type": "code",
      "source": [
        "thing_capt=things[1].capitalize()\n",
        "print(thing_capt)"
      ],
      "metadata": {
        "id": "Hicw4sv11qbT",
        "colab": {
          "base_uri": "https://localhost:8080/"
        },
        "outputId": "de22fa9a-0b31-46cc-9db1-35a5ad8e18b1"
      },
      "execution_count": null,
      "outputs": [
        {
          "output_type": "stream",
          "name": "stdout",
          "text": [
            "Cinderella\n"
          ]
        }
      ]
    },
    {
      "cell_type": "markdown",
      "source": [
        "6. Make a surprise list with the elements \"Groucho,\" \"Chico,\" and \"Harpo.\""
      ],
      "metadata": {
        "id": "c0hk7e_T1rog"
      }
    },
    {
      "cell_type": "code",
      "source": [
        "surprise_list=['Groucho','Chico','Harpo']"
      ],
      "metadata": {
        "id": "JCn-3K1f1yUd"
      },
      "execution_count": null,
      "outputs": []
    },
    {
      "cell_type": "markdown",
      "source": [
        "7. Lowercase the last element of the surprise list, reverse it, and then capitalize it."
      ],
      "metadata": {
        "id": "vcBrffiwUKXv"
      }
    },
    {
      "cell_type": "code",
      "source": [
        "surprise_list=['Groucho','Chico','Harpo']\n",
        "surprise_list[-1]=surprise_list[-1].lower()[::-1].capitalize()\n",
        "print(surprise_list)\n"
      ],
      "metadata": {
        "colab": {
          "base_uri": "https://localhost:8080/"
        },
        "id": "yvdHGqkQUhHk",
        "outputId": "80a1a1d6-bcd2-47b7-fe92-d6efb3b5edd9"
      },
      "execution_count": 50,
      "outputs": [
        {
          "output_type": "stream",
          "name": "stdout",
          "text": [
            "['Groucho', 'Chico', 'Oprah']\n"
          ]
        }
      ]
    },
    {
      "cell_type": "markdown",
      "source": [
        "8. Make an English-to-French dictionary called e2f and print it. Here are your starter words: dog is chien, cat is chat, and walrus is morse."
      ],
      "metadata": {
        "id": "fwsKOglwfuAF"
      }
    },
    {
      "cell_type": "code",
      "source": [
        "e2f={'dog':'chien', 'cat':'chat','walrus':'morse'}\n",
        "print(e2f)"
      ],
      "metadata": {
        "colab": {
          "base_uri": "https://localhost:8080/"
        },
        "id": "pQMKHkv3fzid",
        "outputId": "eebfab5f-1792-47b6-a0dc-2f7041db29bd"
      },
      "execution_count": 51,
      "outputs": [
        {
          "output_type": "stream",
          "name": "stdout",
          "text": [
            "{'dog': 'chien', 'cat': 'chat', 'walrus': 'morse'}\n"
          ]
        }
      ]
    },
    {
      "cell_type": "markdown",
      "source": [
        "9. Write the French word for walrus in your three-word dictionary e2f."
      ],
      "metadata": {
        "id": "mWyxz4zIf1m0"
      }
    },
    {
      "cell_type": "code",
      "source": [
        "french_word_walrus=e2f['walrus']\n",
        "print(french_word_walrus)"
      ],
      "metadata": {
        "colab": {
          "base_uri": "https://localhost:8080/"
        },
        "id": "NDATnykWf4Yt",
        "outputId": "3d5741b8-526f-45d8-c183-cb698e3ac572"
      },
      "execution_count": 52,
      "outputs": [
        {
          "output_type": "stream",
          "name": "stdout",
          "text": [
            "morse\n"
          ]
        }
      ]
    },
    {
      "cell_type": "markdown",
      "source": [
        "10. Make a French-to-English dictionary called f2e from e2f. Use the items method."
      ],
      "metadata": {
        "id": "n5uYsMSXf5Af"
      }
    },
    {
      "cell_type": "code",
      "source": [
        "e2f={'dog':'chien', 'cat':'chat','walrus':'morse'}\n",
        "f2e={french:english for english, french in e2f.items()}\n",
        "print(f2e)"
      ],
      "metadata": {
        "colab": {
          "base_uri": "https://localhost:8080/"
        },
        "id": "hGDrH_Pef8Jy",
        "outputId": "6c49d066-cfae-4656-8ad2-e16ac4fd5d35"
      },
      "execution_count": 53,
      "outputs": [
        {
          "output_type": "stream",
          "name": "stdout",
          "text": [
            "{'chien': 'dog', 'chat': 'cat', 'morse': 'walrus'}\n"
          ]
        }
      ]
    },
    {
      "cell_type": "markdown",
      "source": [
        "11. Print the English version of the French word chien using f2e."
      ],
      "metadata": {
        "id": "IhonWGlPf8ym"
      }
    },
    {
      "cell_type": "code",
      "source": [
        "eng_version=f2e['chien']\n",
        "print(eng_version)"
      ],
      "metadata": {
        "colab": {
          "base_uri": "https://localhost:8080/"
        },
        "id": "XxmwSIaOf_Ut",
        "outputId": "dead4464-9428-4450-b3f9-4687075bf82e"
      },
      "execution_count": 54,
      "outputs": [
        {
          "output_type": "stream",
          "name": "stdout",
          "text": [
            "dog\n"
          ]
        }
      ]
    },
    {
      "cell_type": "markdown",
      "source": [
        "12. Make and print a set of English words from the keys in e2f."
      ],
      "metadata": {
        "id": "8w9WEu9TgBsn"
      }
    },
    {
      "cell_type": "code",
      "source": [
        "e2f.keys()"
      ],
      "metadata": {
        "colab": {
          "base_uri": "https://localhost:8080/"
        },
        "id": "Pew8VGPWgF6_",
        "outputId": "7f010dcf-113d-49db-dab2-9c806d6b6f41"
      },
      "execution_count": 55,
      "outputs": [
        {
          "output_type": "execute_result",
          "data": {
            "text/plain": [
              "dict_keys(['dog', 'cat', 'walrus'])"
            ]
          },
          "metadata": {},
          "execution_count": 55
        }
      ]
    },
    {
      "cell_type": "markdown",
      "source": [
        "13. Make a multilevel dictionary called life. Use these strings for the topmost keys: 'animals', 'plants', and 'other'. Make the 'animals' key refer to another dictionary with the keys 'cats', 'octopi', and 'emus'. Make the 'cats' key refer to a list of strings with the values 'Henri', 'Grumpy', and 'Lucy'. Make all the other keys refer to empty dictionaries."
      ],
      "metadata": {
        "id": "ocxZpUNmgGcc"
      }
    },
    {
      "cell_type": "code",
      "source": [
        "life={'animals':{'cats':['Henri','Grumpy','Lucy'],'octopi':{},'emus':{}},'plants':{},'other':{}}\n",
        "print(life)"
      ],
      "metadata": {
        "colab": {
          "base_uri": "https://localhost:8080/"
        },
        "id": "UVngXnPOgJZO",
        "outputId": "c130bc28-f09d-4382-ef17-352aae4d70aa"
      },
      "execution_count": 56,
      "outputs": [
        {
          "output_type": "stream",
          "name": "stdout",
          "text": [
            "{'animals': {'cats': ['Henri', 'Grumpy', 'Lucy'], 'octopi': {}, 'emus': {}}, 'plants': {}, 'other': {}}\n"
          ]
        }
      ]
    },
    {
      "cell_type": "markdown",
      "source": [
        "14. Print the top-level keys of life."
      ],
      "metadata": {
        "id": "bmB9cnhXgKJG"
      }
    },
    {
      "cell_type": "code",
      "source": [
        "life.keys()"
      ],
      "metadata": {
        "colab": {
          "base_uri": "https://localhost:8080/"
        },
        "id": "PpM-QnIugNSt",
        "outputId": "58d903e5-8d4e-423e-e317-b6b2ca8c227d"
      },
      "execution_count": 57,
      "outputs": [
        {
          "output_type": "execute_result",
          "data": {
            "text/plain": [
              "dict_keys(['animals', 'plants', 'other'])"
            ]
          },
          "metadata": {},
          "execution_count": 57
        }
      ]
    },
    {
      "cell_type": "markdown",
      "source": [
        "15. Print the keys for life['animals']."
      ],
      "metadata": {
        "id": "V1pbggKegN0-"
      }
    },
    {
      "cell_type": "code",
      "source": [
        "life['animals'].keys()"
      ],
      "metadata": {
        "colab": {
          "base_uri": "https://localhost:8080/"
        },
        "id": "3fVSpCNPgQsN",
        "outputId": "d638ae11-adbb-45fc-cedf-dc84cd4e0a71"
      },
      "execution_count": 58,
      "outputs": [
        {
          "output_type": "execute_result",
          "data": {
            "text/plain": [
              "dict_keys(['cats', 'octopi', 'emus'])"
            ]
          },
          "metadata": {},
          "execution_count": 58
        }
      ]
    },
    {
      "cell_type": "markdown",
      "source": [
        "16. Print the values for life['animals']['cats']"
      ],
      "metadata": {
        "id": "2g_XJy_zgRb7"
      }
    },
    {
      "cell_type": "code",
      "source": [
        "print(life['animals']['cats'])"
      ],
      "metadata": {
        "colab": {
          "base_uri": "https://localhost:8080/"
        },
        "id": "a0Ujl7z5gT3Z",
        "outputId": "c4d89be8-9112-4a3d-d5ff-4594222f040a"
      },
      "execution_count": 60,
      "outputs": [
        {
          "output_type": "stream",
          "name": "stdout",
          "text": [
            "['Henri', 'Grumpy', 'Lucy']\n"
          ]
        }
      ]
    },
    {
      "cell_type": "code",
      "source": [],
      "metadata": {
        "id": "pPJEOzkamOJ7"
      },
      "execution_count": null,
      "outputs": []
    }
  ]
}