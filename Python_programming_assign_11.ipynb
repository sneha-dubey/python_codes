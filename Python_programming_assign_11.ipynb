{
  "nbformat": 4,
  "nbformat_minor": 0,
  "metadata": {
    "colab": {
      "provenance": []
    },
    "kernelspec": {
      "name": "python3",
      "display_name": "Python 3"
    },
    "language_info": {
      "name": "python"
    }
  },
  "cells": [
    {
      "cell_type": "markdown",
      "source": [
        "1. Write a Python program to find words which are greater than given length k?"
      ],
      "metadata": {
        "id": "H3UsBIm3jpZb"
      }
    },
    {
      "cell_type": "code",
      "source": [
        "def find_words(s,k):\n",
        "  words=s.split()\n",
        "  result=[word for word in words if len(word)>k]\n",
        "  return result\n",
        "\n",
        "s='This is a sample string'\n",
        "k=4\n",
        "print(find_words(s,k))"
      ],
      "metadata": {
        "colab": {
          "base_uri": "https://localhost:8080/"
        },
        "id": "32j3-s_JFqnC",
        "outputId": "fed60a93-e121-4fa2-a75d-71afa9f9c7c1"
      },
      "execution_count": 1,
      "outputs": [
        {
          "output_type": "stream",
          "name": "stdout",
          "text": [
            "['sample', 'string']\n"
          ]
        }
      ]
    },
    {
      "cell_type": "markdown",
      "source": [
        "2. Write a Python program for removing i-th character from a string?"
      ],
      "metadata": {
        "id": "DMJ8_O_5Fv3W"
      }
    },
    {
      "cell_type": "code",
      "source": [
        "def remove_ith_char(string, i):\n",
        "  return string[:i] + string[i + 1:]\n",
        "\n",
        "string='Hello, world!'\n",
        "i=5\n",
        "\n",
        "output=remove_ith_char(string,i)\n",
        "print(output)"
      ],
      "metadata": {
        "colab": {
          "base_uri": "https://localhost:8080/"
        },
        "id": "-2lI4fN6Fztc",
        "outputId": "f0e43008-2ecd-4dde-f65d-a55974517368"
      },
      "execution_count": 6,
      "outputs": [
        {
          "output_type": "stream",
          "name": "stdout",
          "text": [
            "Hello world!\n"
          ]
        }
      ]
    },
    {
      "cell_type": "markdown",
      "source": [
        "3. Write a Python program to split and join a string?"
      ],
      "metadata": {
        "id": "ztA8id1rF4dD"
      }
    },
    {
      "cell_type": "code",
      "source": [
        "#split the string\n",
        "string = \"Hello, World!\"\n",
        "split_string = string.split(\", \")\n",
        "print(split_string)\n",
        "\n",
        "# Join the string\n",
        "join_string = \" \".join(split_string)\n",
        "print(join_string)\n"
      ],
      "metadata": {
        "colab": {
          "base_uri": "https://localhost:8080/"
        },
        "id": "aW24-jf6F7xp",
        "outputId": "781f6db0-7b28-4a76-b0fb-24c5095f6222"
      },
      "execution_count": 8,
      "outputs": [
        {
          "output_type": "stream",
          "name": "stdout",
          "text": [
            "['Hello', 'World!']\n",
            "Hello World!\n"
          ]
        }
      ]
    },
    {
      "cell_type": "markdown",
      "source": [
        "4. Write a Python to check if a given string is binary string or not?"
      ],
      "metadata": {
        "id": "SzzTm37aF_7N"
      }
    },
    {
      "cell_type": "code",
      "source": [
        "def is_binary(string):\n",
        "    for char in string:\n",
        "        if char != '0' and char != '1':\n",
        "            return False\n",
        "    return True\n",
        "\n",
        "input_string = \"1100011\"\n",
        "\n",
        "if is_binary(input_string):\n",
        "    print(input_string + \" is a binary string.\")\n",
        "else:\n",
        "    print(input_string + \" is not a binary string.\")\n"
      ],
      "metadata": {
        "colab": {
          "base_uri": "https://localhost:8080/"
        },
        "id": "rJ5nSrlSGDIN",
        "outputId": "de572443-c59b-4a46-c848-d3bba4a5d89d"
      },
      "execution_count": 11,
      "outputs": [
        {
          "output_type": "stream",
          "name": "stdout",
          "text": [
            "1100011 is a binary string.\n"
          ]
        }
      ]
    },
    {
      "cell_type": "markdown",
      "source": [
        "5. Write a Python program to find uncommon words from two Strings?"
      ],
      "metadata": {
        "id": "hSLCtxBdGJUa"
      }
    },
    {
      "cell_type": "code",
      "source": [
        "def uncommon_words(string1, string2):\n",
        "    words1 = set(string1.split())\n",
        "    words2 = set(string2.split())\n",
        "    uncommon_words = words1.symmetric_difference(words2)\n",
        "    return uncommon_words\n",
        "\n",
        "string1 = \"Hello World\"\n",
        "string2 = \"Hi Planet\"\n",
        "\n",
        "uncommon = uncommon_words(string1, string2)\n",
        "print(\"Uncommon words:\", uncommon)"
      ],
      "metadata": {
        "colab": {
          "base_uri": "https://localhost:8080/"
        },
        "id": "eCR1l-QeGNjo",
        "outputId": "d1a690f3-90a2-4fc4-e08f-6dde8a63822a"
      },
      "execution_count": 12,
      "outputs": [
        {
          "output_type": "stream",
          "name": "stdout",
          "text": [
            "Uncommon words: {'Planet', 'World', 'Hello', 'Hi'}\n"
          ]
        }
      ]
    },
    {
      "cell_type": "markdown",
      "source": [
        "6.Write a Python to find all duplicate characters in string?"
      ],
      "metadata": {
        "id": "xBlxK2vhGO85"
      }
    },
    {
      "cell_type": "code",
      "source": [
        "def find_duplicates(string):\n",
        "    char_count = {}\n",
        "    for char in string:\n",
        "        if char in char_count:\n",
        "            char_count[char] += 1\n",
        "        else:\n",
        "            char_count[char] = 1\n",
        "    duplicates = []\n",
        "    for char, count in char_count.items():\n",
        "        if count > 1:\n",
        "            duplicates.append(char)\n",
        "    return duplicates\n",
        "\n",
        "input_string = \"Hello, World!\"\n",
        "duplicates = find_duplicates(input_string)\n",
        "\n",
        "print(\"Duplicate characters in '\" + input_string + \"': \" + str(duplicates))\n"
      ],
      "metadata": {
        "colab": {
          "base_uri": "https://localhost:8080/"
        },
        "id": "SuhiMXoEGTxD",
        "outputId": "7d3b289b-be76-44ac-f9e1-667a9ef0c96b"
      },
      "execution_count": 13,
      "outputs": [
        {
          "output_type": "stream",
          "name": "stdout",
          "text": [
            "Duplicate characters in 'Hello, World!': ['l', 'o']\n"
          ]
        }
      ]
    },
    {
      "cell_type": "markdown",
      "source": [
        "7. Write a Python Program to check if a string contains any special character?"
      ],
      "metadata": {
        "id": "ifZprJU6GX9s"
      }
    },
    {
      "cell_type": "code",
      "source": [
        "import re\n",
        "def contains_special_char(string):\n",
        "    return bool(re.search(r'[^a-zA-Z0-9]', string))\n",
        "\n",
        "input_string = \"Hello, World!\"\n",
        "\n",
        "if contains_special_char(input_string):\n",
        "    print(\"The string contains special characters.\")\n",
        "else:\n",
        "    print(\"The string does not contain special characters.\")\n"
      ],
      "metadata": {
        "colab": {
          "base_uri": "https://localhost:8080/"
        },
        "id": "Rgc4lPM_GaEg",
        "outputId": "a11103b2-e4f6-4905-f4bc-80bd96784950"
      },
      "execution_count": 14,
      "outputs": [
        {
          "output_type": "stream",
          "name": "stdout",
          "text": [
            "The string contains special characters.\n"
          ]
        }
      ]
    },
    {
      "cell_type": "code",
      "source": [],
      "metadata": {
        "id": "RdnK8vEFWNJC"
      },
      "execution_count": null,
      "outputs": []
    }
  ]
}