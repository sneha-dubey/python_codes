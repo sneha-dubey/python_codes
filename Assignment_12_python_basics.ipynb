{
  "nbformat": 4,
  "nbformat_minor": 0,
  "metadata": {
    "colab": {
      "provenance": []
    },
    "kernelspec": {
      "name": "python3",
      "display_name": "Python 3"
    },
    "language_info": {
      "name": "python"
    }
  },
  "cells": [
    {
      "cell_type": "markdown",
      "source": [
        "1. In what modes should the PdfFileReader() and PdfFileWriter() File objects will be opened?\n",
        "\n",
        "Answer: PdfFileReader() and PdfFileWriter() File objects will be opened in 'rb' and 'wb' mode, respectively. The 'r' in 'rb' stands for 'read' and the 'b' stands for 'binary' indicates that file is being opened in binary mode for reading. Similarly, the 'w' in 'wb' stands for 'write' and the 'b' stands for 'binary' indicates that the file is being opened in 'write' mode for writing."
      ],
      "metadata": {
        "id": "qAXpIELQk-Yk"
      }
    },
    {
      "cell_type": "markdown",
      "source": [
        "2. From a PdfFileReader object, how do you get a Page object for page 5?"
      ],
      "metadata": {
        "id": "RY0nulCQlUJX"
      }
    },
    {
      "cell_type": "code",
      "source": [
        "# from PyPDF2 import PdfFileReader\n",
        "\n",
        "# # Open the PDF file\n",
        "# with open(\"example.pdf\", \"rb\") as file:\n",
        "#     reader = PdfFileReader(file)\n",
        "#     # get the fifth page\n",
        "#     page_5 = reader.getPage(4)"
      ],
      "metadata": {
        "id": "d4kdYTMmlYD2"
      },
      "execution_count": null,
      "outputs": []
    },
    {
      "cell_type": "markdown",
      "source": [
        "3. What PdfFileReader variable stores the number of pages in the PDF document?\n",
        "\n",
        "Answer: 'numpages' is a property of 'pdfFileReader' object that returns the total number of pages in the pdf file."
      ],
      "metadata": {
        "id": "f11QNuwklYst"
      }
    },
    {
      "cell_type": "markdown",
      "source": [
        "4. If a PdfFileReader object’s PDF is encrypted with the password swordfish, what must you do before you can obtain Page objects from it?\n",
        "\n",
        "Answer:Before you can obtain Page objects from  PdfFileReader object’s PDF that is encrypted with the password swordfish, we should first call the 'decrypt' method of the 'PdfFileReader' and pass in the password 'swordfish' as an argument. This will decrypt the pdf and allow you to obtain page objects from it."
      ],
      "metadata": {
        "id": "6TdWlq7Ilj_-"
      }
    },
    {
      "cell_type": "markdown",
      "source": [
        "5. What methods do you use to rotate a page?\n",
        "\n",
        "Answer: Using pyPDF2 library,we can use 'rotateClockwise' or 'rotateCounterClockwise' method of the PageObject class.\n",
        "Like: page.rotateClockwise(90)\n"
      ],
      "metadata": {
        "id": "m1WGAo0Rlo1R"
      }
    },
    {
      "cell_type": "code",
      "source": [
        "# page.rotate(180) or page.rotateClockwise(90)\n"
      ],
      "metadata": {
        "id": "ddw5E23xlr3u"
      },
      "execution_count": null,
      "outputs": []
    },
    {
      "cell_type": "markdown",
      "source": [
        "6. What is the difference between a Run object and a Paragraph object?\n",
        "\n",
        "Answer: A 'run' object is used to represent a portion of text with the same formatting For example, if a word document has the text \"Hello, World!\" and \"Hello\" is bold and \"World!\" is italic, then \"Hello\" and \"World!\" will be two different Run objects.\n",
        "and a 'paragraph' object is used to represent a block of text seperated by a newline or a paragraph mark and it can contain multiple 'run' objects with different formatting."
      ],
      "metadata": {
        "id": "2wHua4YAlsiM"
      }
    },
    {
      "cell_type": "markdown",
      "source": [
        "7. How do you obtain a list of Paragraph objects for a Document object that’s stored in a variable named doc?"
      ],
      "metadata": {
        "id": "5JY__c-Glv3_"
      }
    },
    {
      "cell_type": "code",
      "source": [
        "# from docx import Document\n",
        "\n",
        "# # Open the document\n",
        "# doc = Document(\"example.docx\")\n",
        "\n",
        "# # Get a list of paragraphs\n",
        "# paragraphs = doc.paragraphs\n",
        "\n",
        "# # Iterate through the paragraphs\n",
        "# for paragraph in paragraphs:\n",
        "#     print(paragraph.text)\n"
      ],
      "metadata": {
        "id": "BmjG0bGolyVS"
      },
      "execution_count": null,
      "outputs": []
    },
    {
      "cell_type": "markdown",
      "source": [
        "8. What type of object has bold, underline, italic, strike, and outline variables?\n",
        "\n",
        "Answer: The Run object in the python-docx library has bold, underline, italic, strike, and outline variables."
      ],
      "metadata": {
        "id": "7SmWuMcNlzAc"
      }
    },
    {
      "cell_type": "markdown",
      "source": [
        "9. What is the difference between False, True, and None for the bold variable?\n",
        "\n",
        "Answer: The bold variable of a Run object in the python-docx library can have three different values: False, True, and None.\n",
        "If the bold variable is True, it means that the text in the Run object is bolded.\n",
        "If the bold variable is False, it means that the text in the Run object is not bolded.\n",
        "If the bold variable is None, it means that the bold formatting of the text in the Run object is not specified and it is inherited from the parent element, typically the paragraph, or the styles defined in the document."
      ],
      "metadata": {
        "id": "x735o769l2VC"
      }
    },
    {
      "cell_type": "markdown",
      "source": [
        "10. How do you create a Document object for a new Word document?\n",
        "\n",
        "Answer: To create a new Document object for a Word document using the python-docx library, you can use the Document() constructor. This will create an empty Document object that you can add text, paragraphs, tables, images, etc."
      ],
      "metadata": {
        "id": "hLTETr_Xl6b1"
      }
    },
    {
      "cell_type": "markdown",
      "source": [
        "11. How do you add a paragraph with the text 'Hello, there!' to a Document object stored in a variable named doc?\n",
        "\n",
        "Answer:If you are using python-docx library, you can use 'add_paragraph()' method to add a paragraph to the document. "
      ],
      "metadata": {
        "id": "Kwo92XnBmGW9"
      }
    },
    {
      "cell_type": "code",
      "source": [
        "# from docx import Document\n",
        "\n",
        "# doc = Document()\n",
        "# para = doc.add_paragraph('Hello, there!')\n"
      ],
      "metadata": {
        "id": "RecTFFPAmJHS"
      },
      "execution_count": 2,
      "outputs": []
    },
    {
      "cell_type": "markdown",
      "source": [
        "12. What integers represent the levels of headings available in Word documents?\n",
        "\n",
        "Answer:The arguments to add_heading() are a string of the heading text and an integer from 0 to 4. The integer 0 makes the heading the Title style, which is used for the top of the document. Integers 1 to 4 are for various heading levels, with 1 being the main heading and 4 the lowest subheading."
      ],
      "metadata": {
        "id": "StXqLWxumJl7"
      }
    },
    {
      "cell_type": "code",
      "source": [],
      "metadata": {
        "id": "mJFCKebEmNT-"
      },
      "execution_count": null,
      "outputs": []
    }
  ]
}