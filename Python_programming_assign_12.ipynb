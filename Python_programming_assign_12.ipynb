{
  "nbformat": 4,
  "nbformat_minor": 0,
  "metadata": {
    "colab": {
      "provenance": []
    },
    "kernelspec": {
      "name": "python3",
      "display_name": "Python 3"
    },
    "language_info": {
      "name": "python"
    }
  },
  "cells": [
    {
      "cell_type": "markdown",
      "source": [
        "1. Write a Python program to Extract Unique values dictionary values?"
      ],
      "metadata": {
        "id": "1leF7UeF6wZy"
      }
    },
    {
      "cell_type": "code",
      "source": [
        "def unique_values(dictionary):\n",
        "    return set(dictionary.values())\n",
        "\n",
        "# test the program with a few examples\n",
        "print(unique_values({'a': 1, 'b': 2, 'c': 1})) # {1, 2}\n",
        "print(unique_values({'a': 'apple', 'b': 'banana', 'c': 'apple'})) # {'apple', 'banana'}\n",
        "print(unique_values({'a': 1.0, 'b': 2.0, 'c': 2.0})) # {1.0, 2.0}\n"
      ],
      "metadata": {
        "colab": {
          "base_uri": "https://localhost:8080/"
        },
        "id": "nfkCltQQ62Mi",
        "outputId": "94f408ee-04a4-4425-9dd0-a0da5279aaa0"
      },
      "execution_count": null,
      "outputs": [
        {
          "output_type": "stream",
          "name": "stdout",
          "text": [
            "{1, 2}\n",
            "{'apple', 'banana'}\n",
            "{1.0, 2.0}\n"
          ]
        }
      ]
    },
    {
      "cell_type": "markdown",
      "source": [
        "2. Write a Python program to find the sum of all items in a dictionary?"
      ],
      "metadata": {
        "id": "nN4PB2i4643K"
      }
    },
    {
      "cell_type": "code",
      "source": [
        "def sum_dict_values(dictionary):\n",
        "    return sum(dictionary.values())\n",
        "\n",
        "print(sum_dict_values({'a': 1, 'b': 2, 'c': 3})) # 6\n",
        "print(sum_dict_values({'a': -1, 'b': -2, 'c': -3})) # -6"
      ],
      "metadata": {
        "colab": {
          "base_uri": "https://localhost:8080/"
        },
        "id": "ruczA75M65qc",
        "outputId": "b8ef1850-dd73-430b-d924-62c674b11f2e"
      },
      "execution_count": 8,
      "outputs": [
        {
          "output_type": "stream",
          "name": "stdout",
          "text": [
            "6\n",
            "-6\n"
          ]
        }
      ]
    },
    {
      "cell_type": "markdown",
      "source": [
        "3. Write a Python program to Merging two Dictionaries?"
      ],
      "metadata": {
        "id": "QIvJluO566Ux"
      }
    },
    {
      "cell_type": "code",
      "source": [
        "def merge_dicts(dict1, dict2):\n",
        "    return {**dict1, **dict2}\n",
        "\n",
        "# test the program with a few examples\n",
        "dict1 = {'a': 1, 'b': 2}\n",
        "dict2 = {'c': 3, 'd': 4}\n",
        "print(merge_dicts(dict1, dict2)) # {'a': 1, 'b': 2, 'c': 3, 'd': 4}\n",
        "\n",
        "dict1 = {'a': 'apple', 'b': 'banana'}\n",
        "dict2 = {'c': 'cherry', 'd': 'date'}\n",
        "print(merge_dicts(dict1, dict2)) # {'a': 'apple', 'b': 'banana', 'c': 'cherry', 'd': 'date'}\n",
        "\n",
        "dict1 = {'a': 1.0, 'b': 2.0}\n",
        "dict2 = {'c': 3.0, 'd': 4.0}\n",
        "print(merge_dicts(dict1, dict2)) # {'a': 1.0, 'b': 2.0, 'c': 3.0, 'd': 4.0}\n"
      ],
      "metadata": {
        "colab": {
          "base_uri": "https://localhost:8080/"
        },
        "id": "0eBrsKiX69DC",
        "outputId": "7fb7423a-638f-4be4-e100-a59d299bbc1c"
      },
      "execution_count": null,
      "outputs": [
        {
          "output_type": "stream",
          "name": "stdout",
          "text": [
            "{'a': 1, 'b': 2, 'c': 3, 'd': 4}\n",
            "{'a': 'apple', 'b': 'banana', 'c': 'cherry', 'd': 'date'}\n",
            "{'a': 1.0, 'b': 2.0, 'c': 3.0, 'd': 4.0}\n"
          ]
        }
      ]
    },
    {
      "cell_type": "markdown",
      "source": [
        "4. Write a Python program to convert key-values list to flat dictionary?"
      ],
      "metadata": {
        "id": "J3h40378695H"
      }
    },
    {
      "cell_type": "code",
      "source": [
        "def flatten_dict(key_value_list):\n",
        "    return {k: v for k, v in key_value_list}\n",
        "\n",
        "# test the program with a few examples\n",
        "print(flatten_dict([('a', 1), ('b', 2), ('c', 3)])) # {'a': 1, 'b': 2, 'c': 3}\n",
        "print(flatten_dict([('a', 'apple'), ('b', 'banana'), ('c', 'cherry')])) # {'a': 'apple', 'b': 'banana', 'c': 'cherry'}\n",
        "print(flatten_dict([('a', 1.0), ('b', 2.0), ('c', 3.0)])) # {'a': 1.0, 'b': 2.0, 'c': 3.0}\n"
      ],
      "metadata": {
        "colab": {
          "base_uri": "https://localhost:8080/"
        },
        "id": "ig07_r8b7A0A",
        "outputId": "61732626-02b4-4a9f-8b4d-2716a45133be"
      },
      "execution_count": null,
      "outputs": [
        {
          "output_type": "stream",
          "name": "stdout",
          "text": [
            "{'a': 1, 'b': 2, 'c': 3}\n",
            "{'a': 'apple', 'b': 'banana', 'c': 'cherry'}\n",
            "{'a': 1.0, 'b': 2.0, 'c': 3.0}\n"
          ]
        }
      ]
    },
    {
      "cell_type": "markdown",
      "source": [
        "5. Write a Python program to insertion at the beginning in OrderedDict?"
      ],
      "metadata": {
        "id": "zVLw6BoE7Ban"
      }
    },
    {
      "cell_type": "code",
      "source": [
        "from collections import OrderedDict\n",
        "ini_dict1 = OrderedDict([('akshat', '1'), ('nikhil', '2')])\n",
        "ini_dict2 = OrderedDict([(\"manjeet\", '4'), (\"akash\", '4')])\n",
        "both = OrderedDict(list(ini_dict2.items()) + list(ini_dict1.items()))\n",
        "print (\"Resultant Dictionary :\"+str(both))"
      ],
      "metadata": {
        "colab": {
          "base_uri": "https://localhost:8080/"
        },
        "id": "jsAXegsOlbkX",
        "outputId": "7d870bf7-ae97-44a7-ac42-0661cf11c469"
      },
      "execution_count": 1,
      "outputs": [
        {
          "output_type": "stream",
          "name": "stdout",
          "text": [
            "Resultant Dictionary :OrderedDict([('manjeet', '4'), ('akash', '4'), ('akshat', '1'), ('nikhil', '2')])\n"
          ]
        }
      ]
    },
    {
      "cell_type": "markdown",
      "source": [
        "6. Write a Python program to check order of character in string using OrderedDict()?"
      ],
      "metadata": {
        "id": "UAyj4XPh7FiV"
      }
    },
    {
      "cell_type": "code",
      "source": [
        "from collections import OrderedDict\n",
        "\n",
        "def is_order_consistent(string):\n",
        "    # create an ordered dictionary from the string\n",
        "    char_count = OrderedDict()\n",
        "    for char in string:\n",
        "        char_count[char] = char_count.get(char, 0) + 1\n",
        "\n",
        "    # check if the order of the characters is consistent\n",
        "    prev_count = 0\n",
        "    for count in char_count.values():\n",
        "        if prev_count > count:\n",
        "            return False\n",
        "        prev_count = count\n",
        "\n",
        "    return True\n",
        "\n",
        "# test the program with a few examples\n",
        "print(is_order_consistent('abcdefg')) # True\n",
        "print(is_order_consistent('aabbccdd')) # True\n",
        "print(is_order_consistent('aabbddeeccffggaa')) # False\n"
      ],
      "metadata": {
        "colab": {
          "base_uri": "https://localhost:8080/"
        },
        "id": "jYgx0KEk7IXn",
        "outputId": "9da817d9-e9cd-42d8-8b3e-79f42a47e1de"
      },
      "execution_count": 10,
      "outputs": [
        {
          "output_type": "stream",
          "name": "stdout",
          "text": [
            "True\n",
            "True\n",
            "False\n"
          ]
        }
      ]
    },
    {
      "cell_type": "markdown",
      "source": [
        "7. Write a Python program to sort Python Dictionaries by Key or Value?"
      ],
      "metadata": {
        "id": "Jb1S6B_77JGI"
      }
    },
    {
      "cell_type": "code",
      "source": [
        "def sort_dict_by_key(d):\n",
        "    return {k: v for k, v in sorted(d.items(), key=lambda item: item[0])}\n",
        "\n",
        "def sort_dict_by_value(d):\n",
        "    return {k: v for k, v in sorted(d.items(), key=lambda item: item[1])}\n",
        "\n",
        "# test the program with a few examples\n",
        "d = {'a': 3, 'b': 1, 'c': 2}\n",
        "print(sort_dict_by_key(d)) # {'a': 3, 'b': 1, 'c': 2}\n",
        "print(sort_dict_by_value(d)) # {'b': 1, 'c': 2, 'a': 3}\n",
        "\n",
        "d = {'apple': 1, 'banana': 3, 'cherry': 2}\n",
        "print(sort_dict_by_key(d)) # {'apple': 1, 'banana': 3, 'cherry': 2}\n",
        "print(sort_dict_by_value(d)) # {'apple': 1, 'cherry': 2, 'banana': 3}\n"
      ],
      "metadata": {
        "colab": {
          "base_uri": "https://localhost:8080/"
        },
        "id": "tIowd7Se7MOQ",
        "outputId": "4a377980-19ea-463a-abd8-86f6ef7f24dc"
      },
      "execution_count": 2,
      "outputs": [
        {
          "output_type": "stream",
          "name": "stdout",
          "text": [
            "{'a': 3, 'b': 1, 'c': 2}\n",
            "{'b': 1, 'c': 2, 'a': 3}\n",
            "{'apple': 1, 'banana': 3, 'cherry': 2}\n",
            "{'apple': 1, 'cherry': 2, 'banana': 3}\n"
          ]
        }
      ]
    },
    {
      "cell_type": "code",
      "source": [],
      "metadata": {
        "id": "6RD7Ez7H__qJ"
      },
      "execution_count": null,
      "outputs": []
    }
  ]
}