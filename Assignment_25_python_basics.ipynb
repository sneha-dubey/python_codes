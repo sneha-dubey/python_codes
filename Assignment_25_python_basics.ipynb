{
  "nbformat": 4,
  "nbformat_minor": 0,
  "metadata": {
    "colab": {
      "provenance": []
    },
    "kernelspec": {
      "name": "python3",
      "display_name": "Python 3"
    },
    "language_info": {
      "name": "python"
    }
  },
  "cells": [
    {
      "cell_type": "markdown",
      "source": [
        "1) . What is the difference between enclosing a list comprehension in square brackets and parentheses?\n",
        "\n",
        "Answer: Enclosing a list comprehension in square bracket creates a new list and it will generate entire list in memory , while enclosing it in parentheses creates a generator object and generator comprehension will generate the list one item at a time, it will be useful when working with large list. "
      ],
      "metadata": {
        "id": "TBvx5Tx-m3LW"
      }
    },
    {
      "cell_type": "markdown",
      "source": [
        "2) What is the relationship between generators and iterators?\n",
        "\n",
        "Answer: An iterator is an object that can be iterated. An object which will return data, one element at a time.\n",
        "A generator is a special type of iterator that is used to generate a stream of data. Generator uses 'Yield' keyword instead of 'return' to return element one at a time."
      ],
      "metadata": {
        "id": "dvZGE7baslxn"
      }
    },
    {
      "cell_type": "markdown",
      "source": [
        "3) What are the signs that a function is a generator function?\n",
        "\n",
        "Answer: generator function contains at least one 'yield' statement. When generator function is called, it returns a generator object by wich we can access element one at a time.\n",
        "A generator object can be iterated over using for loop or by using next() method."
      ],
      "metadata": {
        "id": "clvsXRzAwoXu"
      }
    },
    {
      "cell_type": "markdown",
      "source": [
        "4) What is the purpose of a yield statement?\n",
        "\n",
        "Answer:The purpose of a yield statement is to to define a generator function that can be used to generate a stream of data. Each time the generator's next() method is called. This allows the function to produce a series of values over time, rather than computing them all at once."
      ],
      "metadata": {
        "id": "y0c6WuBVyg3n"
      }
    },
    {
      "cell_type": "markdown",
      "source": [
        "5) What is the relationship between map calls and list comprehensions? Make a comparison and contrast between the two.\n",
        "\n",
        "Answer: List comprehension returns a list, whereas the map function reurns an object of iterable.\n",
        "List comprehension is generally faster than a map call because it returns the result immediately."
      ],
      "metadata": {
        "id": "YIA-nUGZ0vyn"
      }
    },
    {
      "cell_type": "code",
      "source": [],
      "metadata": {
        "id": "Asj1E_3j52Jg"
      },
      "execution_count": null,
      "outputs": []
    }
  ]
}