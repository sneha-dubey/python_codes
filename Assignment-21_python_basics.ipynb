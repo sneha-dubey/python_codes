{
 "cells": [
  {
   "cell_type": "raw",
   "id": "5f1fea82",
   "metadata": {},
   "source": [
    "1. Add the current date to the text file today.txt as a string."
   ]
  },
  {
   "cell_type": "code",
   "execution_count": 1,
   "id": "1a87548d",
   "metadata": {},
   "outputs": [],
   "source": [
    "from datetime import datetime\n",
    "now=datetime.now()\n",
    "date_string=now.strftime(\"%y-%m-%d\")\n",
    "with open('today.txt','a') as file:\n",
    "  file.write(date_string)"
   ]
  },
  {
   "cell_type": "raw",
   "id": "ea995166",
   "metadata": {},
   "source": [
    "2. Read the text file today.txt into the string today_string"
   ]
  },
  {
   "cell_type": "code",
   "execution_count": 2,
   "id": "a2ba347c",
   "metadata": {},
   "outputs": [],
   "source": [
    "with open(\"today.txt\", \"r\") as file:\n",
    "    today_string = file.readline()"
   ]
  },
  {
   "cell_type": "raw",
   "id": "953df8df",
   "metadata": {},
   "source": [
    "3. Parse the date from today_string."
   ]
  },
  {
   "cell_type": "code",
   "execution_count": 3,
   "id": "e37c81b0",
   "metadata": {},
   "outputs": [
    {
     "name": "stdout",
     "output_type": "stream",
     "text": [
      "2023-01-27\n"
     ]
    }
   ],
   "source": [
    "import datetime\n",
    "date_object = datetime.datetime.strptime(today_string,'%y-%m-%d')\n",
    "date = date_object.date()\n",
    "print(date)"
   ]
  },
  {
   "cell_type": "raw",
   "id": "09fae8e1",
   "metadata": {},
   "source": [
    "4. List the files in your current directory"
   ]
  },
  {
   "cell_type": "code",
   "execution_count": 4,
   "id": "40ee799d",
   "metadata": {},
   "outputs": [
    {
     "name": "stdout",
     "output_type": "stream",
     "text": [
      " Volume in drive C has no label.\n",
      " Volume Serial Number is 5095-6DF5\n",
      "\n",
      " Directory of C:\\Users\\ADMIN\n",
      "\n",
      "01/27/2023  04:25 PM    <DIR>          .\n",
      "01/27/2023  04:25 PM    <DIR>          ..\n",
      "05/28/2022  06:56 PM        19,038,579 .~Supply Chain Project.ipynb\n",
      "03/05/2022  03:07 PM    <DIR>          .anaconda\n",
      "12/25/2022  12:01 PM    <DIR>          .astropy\n",
      "10/20/2021  01:36 PM    <DIR>          .cache\n",
      "03/06/2022  10:44 AM    <DIR>          .conda\n",
      "03/05/2022  12:29 PM                25 .condarc\n",
      "03/05/2022  12:28 PM    <DIR>          .continuum\n",
      "10/23/2022  10:18 AM    <DIR>          .idlerc\n",
      "01/27/2023  03:08 PM    <DIR>          .ipynb_checkpoints\n",
      "11/09/2021  04:53 PM    <DIR>          .ipython\n",
      "09/22/2022  07:31 PM    <DIR>          .jupyter\n",
      "03/12/2022  10:44 AM    <DIR>          .keras\n",
      "11/09/2021  10:13 PM    <DIR>          .matplotlib\n",
      "01/30/2022  11:19 AM    <DIR>          .pyforest\n",
      "11/01/2022  04:51 PM                29 .python_history\n",
      "11/17/2021  04:12 PM    <DIR>          .spss\n",
      "10/23/2022  03:16 PM    <DIR>          .spyder-py3\n",
      "10/23/2022  10:31 AM    <DIR>          __pycache__\n",
      "02/27/2022  11:03 PM           702,312 2.) BLACK FRIDAY EDA and FE.ipynb\n",
      "10/23/2021  02:14 AM    <DIR>          3D Objects\n",
      "04/25/2022  03:58 PM             2,436 50_Startups.csv\n",
      "06/26/2011  06:38 AM    <DIR>          aclImdb\n",
      "03/16/2022  01:05 PM        84,125,825 aclImdb_v1.tar.gz\n",
      "10/15/2022  11:04 AM             1,026 ADMIN - Shortcut (2).lnk\n",
      "10/15/2022  11:04 AM             1,026 ADMIN - Shortcut.lnk\n",
      "01/26/2022  10:36 AM            11,164 ADVANCE PYTHON.ipynb\n",
      "03/07/2022  04:28 PM             2,131 airline_passengers.csv\n",
      "12/15/2021  12:51 PM             3,969 amzn.csv\n",
      "12/15/2021  12:51 PM             5,018 AMZN_price.csv\n",
      "03/05/2022  03:43 PM    <DIR>          anaconda3\n",
      "10/04/2022  11:44 AM               576 Assignment for FSDS Bootcamp 2.0.ipynb\n",
      "01/07/2023  07:30 PM             8,813 Assignment-04.ipynb\n",
      "01/09/2023  05:54 PM             7,972 Assignment-05.ipynb\n",
      "01/09/2023  06:29 PM             5,248 Assignment-06.ipynb\n",
      "01/20/2023  03:53 PM             3,929 Assignment-07.ipynb\n",
      "01/10/2023  06:04 PM             3,131 Assignment-08_python_basics.ipynb\n",
      "01/27/2023  04:25 PM             1,995 Assignment-21_python_basics.ipynb\n",
      "11/21/2021  01:05 AM             2,626 auto_ins.py\n",
      "04/03/2022  06:26 PM           195,704 Automated EDA Techniques.ipynb\n",
      "07/25/2022  12:51 PM           544,582 Basics of python.ipynb\n",
      "01/13/2023  04:52 PM            29,036 cat.jpg\n",
      "03/19/2022  11:17 PM            27,920 Churn modelling.ipynb\n",
      "03/16/2022  05:20 PM           684,858 Churn_Modelling.csv\n",
      "11/19/2021  05:27 PM       133,620,094 claims_data_consolidated.csv\n",
      "11/21/2021  01:10 PM           141,421 Code.ipynb\n",
      "10/23/2021  02:14 AM    <DIR>          Contacts\n",
      "02/20/2022  11:07 AM             8,783 Country-Code.xlsx\n",
      "03/16/2022  11:28 PM             1,397 csv file using writer class.ipynb\n",
      "03/22/2022  09:38 PM                 0 data_file.csv\n",
      "11/09/2021  09:55 PM           530,389 Data_Train.xlsx\n",
      "12/01/2021  05:22 PM            13,006 Dataset_Question2.xlsx\n",
      "03/06/2022  12:23 PM           412,876 Day-2 Time series.ipynb\n",
      "03/08/2022  03:48 PM           323,164 DAY-3 TIME SERIES.ipynb\n",
      "10/22/2021  02:10 PM    <DIR>          Documents\n",
      "01/27/2023  12:40 PM    <DIR>          Downloads\n",
      "03/20/2022  11:01 PM            44,545 Emerging Trends in Analytics Assignment.ipynb\n",
      "10/23/2021  02:14 AM    <DIR>          Favorites\n",
      "12/15/2021  12:55 PM            96,892 FIR_submit.ipynb\n",
      "05/30/2022  06:59 PM           159,356 Flight Price Prediction (1) (2).ipynb\n",
      "12/14/2021  03:19 PM       106,707,210 flight_rf.pkl\n",
      "02/28/2022  03:36 PM            79,737 flight-2.ipynb\n",
      "11/06/2022  01:02 PM             3,425 FSDS_bootcamp_assignment_004_Oct_09.ipynb\n",
      "11/06/2022  01:04 PM             4,241 FSDS_bootcamp_assignment_005_Oct_16.ipynb\n",
      "10/19/2022  10:24 AM               379 google.txt\n",
      "11/20/2021  12:40 AM           103,006 Group-2 Project.ipynb\n",
      "05/07/2022  11:23 AM             6,857 hyper_perm_tuning.py\n",
      "05/07/2022  11:34 AM            13,541 Hyperparameter Tuning last sem.ipynb\n",
      "08/11/2022  08:51 PM            82,357 item.csv\n",
      "05/07/2022  11:22 AM         2,515,206 kc_house_data.csv\n",
      "02/14/2022  04:57 PM           430,132 KRISH Github ML.ipynb\n",
      "10/23/2021  02:14 AM    <DIR>          Links\n",
      "10/19/2022  10:51 AM            38,980 logging.ipynb\n",
      "07/24/2022  12:11 AM           503,694 MACHINE LEARNING.ipynb\n",
      "03/22/2022  09:28 PM               271 merged.csv\n",
      "03/22/2022  09:21 PM               366 merged_file.json\n",
      "04/30/2022  12:43 PM             1,956 model_training\n",
      "04/08/2022  11:54 AM             8,281 Monthly beer production.csv\n",
      "08/06/2022  10:59 PM            20,799 MUSHROOM CLASSIFICATION PROJECT.ipynb\n",
      "06/25/2022  01:00 PM           382,129 mushrooms.csv\n",
      "08/25/2022  05:32 PM    <DIR>          Music\n",
      "10/19/2022  09:28 PM                 0 my_module.f\n",
      "10/19/2022  09:25 PM                 0 my_module.py\n",
      "10/23/2022  10:27 AM               215 my_modules.py\n",
      "10/08/2022  09:26 PM                46 my_new_file.txt\n",
      "10/08/2022  09:26 PM                76 myfile.txt\n",
      "03/16/2022  11:27 PM                30 name.csv\n",
      "10/19/2022  09:28 PM                32 new 1.py\n",
      "10/19/2022  07:57 PM                32 new1.py\n",
      "03/01/2022  11:41 AM           923,327 Newreport.html\n",
      "05/04/2022  09:48 PM    <DIR>          OneDrive\n",
      "05/26/2022  03:01 PM         3,997,999 output.html\n",
      "05/01/2022  04:59 PM               246 Position_Salaries.csv\n",
      "11/04/2022  03:37 PM    <DIR>          Postman\n",
      "12/15/2021  02:29 PM         2,197,021 project (1).ipynb\n",
      "11/19/2021  06:11 PM           656,113 project.ipynb\n",
      "10/23/2022  02:24 PM    <DIR>          PycharmProjects\n",
      "01/31/2022  11:35 PM             9,666 PyQt API GUI module toolkit.ipynb\n",
      "02/14/2022  04:53 PM                24 README.md\n",
      "08/11/2022  08:48 PM            16,116 restaurant.csv\n",
      "03/22/2022  08:51 PM                79 sample.json\n",
      "10/23/2021  02:14 AM    <DIR>          Saved Games\n",
      "01/29/2022  05:18 PM            16,384 schooltest.db\n",
      "02/05/2022  12:41 AM         3,785,904 SCMS_Delivery_History_Dataset.csv\n",
      "09/22/2022  11:33 AM    <DIR>          seaborn-data\n",
      "10/23/2021  02:14 AM    <DIR>          Searches\n",
      "10/19/2022  10:29 AM                11 sneh1.txt\n",
      "05/01/2022  09:01 PM            10,926 Social_Network_Ads.csv\n",
      "03/22/2022  08:53 PM                99 special.json\n",
      "02/01/2022  11:30 PM           119,328 Statistics.ipynb\n",
      "03/26/2022  03:17 PM             5,493 stock_price_pred_rnn_lstm.py\n",
      "07/23/2022  11:57 PM                40 string.csv\n",
      "05/30/2022  09:10 PM                 0 Supply Chain Project.ipynb\n",
      "02/21/2022  03:42 PM         9,598,228 test.csv\n",
      "10/19/2022  10:36 AM               407 test.log\n",
      "10/15/2022  09:57 AM                49 test.txt\n",
      "11/09/2021  09:55 PM           120,774 Test_set.xlsx\n",
      "01/23/2022  03:18 PM               100 test1.csv\n",
      "10/19/2022  10:48 AM                 0 test1.log\n",
      "10/19/2022  11:37 AM                 0 test3.log\n",
      "03/02/2022  03:38 PM           408,796 Time Series EDA.ipynb\n",
      "01/24/2022  07:10 PM             8,008 tips.csv\n",
      "01/27/2023  03:09 PM                 8 today.txt\n",
      "10/20/2021  02:04 PM    <DIR>          Tracing\n",
      "02/21/2022  01:00 PM        25,525,678 train.csv\n",
      "03/16/2022  03:33 PM           388,879 Untitled.ipynb\n",
      "01/13/2023  04:54 PM            17,282 Untitled1.ipynb\n",
      "06/05/2022  05:29 PM           347,646 Untitled10.ipynb\n",
      "06/23/2022  10:29 PM            20,782 Untitled11.ipynb\n",
      "08/11/2022  09:06 PM            22,771 Untitled12.ipynb\n",
      "09/21/2022  11:39 AM            11,881 Untitled13.ipynb\n",
      "09/23/2022  11:39 AM           258,947 Untitled14.ipynb\n",
      "10/14/2022  05:23 PM            28,054 Untitled15.ipynb\n",
      "10/15/2022  10:51 AM            41,351 Untitled16.ipynb\n",
      "12/14/2022  11:46 AM            36,867 Untitled17.ipynb\n",
      "10/23/2022  10:32 AM            10,419 Untitled18.ipynb\n",
      "10/30/2022  08:44 PM           297,948 Untitled19.ipynb\n",
      "07/27/2022  04:03 PM            15,146 Untitled2.ipynb\n",
      "10/30/2022  09:38 PM             2,680 Untitled20.ipynb\n",
      "11/09/2022  10:58 AM             4,100 Untitled21.ipynb\n",
      "01/04/2023  03:08 PM            16,709 Untitled23.ipynb\n",
      "01/27/2023  03:04 PM             3,305 Untitled24.ipynb\n",
      "12/22/2022  04:17 PM             8,964 Untitled25.ipynb\n",
      "01/07/2023  12:33 AM             5,853 Untitled26.ipynb\n",
      "01/08/2023  04:51 PM             5,031 Untitled27.ipynb\n",
      "03/26/2022  12:14 PM            68,805 Untitled3.ipynb\n",
      "11/09/2022  09:16 PM            25,100 Untitled4.ipynb\n",
      "04/08/2022  12:02 PM            19,103 Untitled5.ipynb\n",
      "04/25/2022  05:25 PM            15,119 Untitled6.ipynb\n",
      "01/30/2022  04:31 PM            52,146 Untitled7.ipynb\n",
      "04/30/2022  12:55 PM             3,912 Untitled8.ipynb\n",
      "05/01/2022  09:59 PM            45,142 Untitled9.ipynb\n",
      "02/24/2022  03:49 PM            24,816 Untitlednt.ipynb\n",
      "03/31/2022  06:59 PM    <DIR>          Videos\n",
      "02/24/2022  03:37 PM           217,106 ZOMATO EDA.ipynb\n",
      "02/20/2022  10:05 AM         2,257,316 zomato.csv\n",
      "             123 File(s)    403,338,855 bytes\n",
      "              34 Dir(s)  121,083,936,768 bytes free\n"
     ]
    }
   ],
   "source": [
    "%ls"
   ]
  },
  {
   "cell_type": "code",
   "execution_count": 5,
   "id": "87a9f45c",
   "metadata": {},
   "outputs": [
    {
     "data": {
      "text/plain": [
       "'C:\\\\Users\\\\ADMIN'"
      ]
     },
     "execution_count": 5,
     "metadata": {},
     "output_type": "execute_result"
    }
   ],
   "source": [
    "pwd() "
   ]
  },
  {
   "cell_type": "raw",
   "id": "5f111a4a",
   "metadata": {},
   "source": [
    "5. Create a list of all of the files in your parent directory (minimum five files should be available)."
   ]
  },
  {
   "cell_type": "code",
   "execution_count": 6,
   "id": "a2779fee",
   "metadata": {},
   "outputs": [
    {
     "data": {
      "text/plain": [
       "['.anaconda',\n",
       " '.astropy',\n",
       " '.cache',\n",
       " '.conda',\n",
       " '.condarc',\n",
       " '.continuum',\n",
       " '.idlerc',\n",
       " '.ipynb_checkpoints',\n",
       " '.ipython',\n",
       " '.jupyter',\n",
       " '.keras',\n",
       " '.matplotlib',\n",
       " '.pyforest',\n",
       " '.python_history',\n",
       " '.spss',\n",
       " '.spyder-py3',\n",
       " '.~Supply Chain Project.ipynb',\n",
       " '2.) BLACK FRIDAY EDA and FE.ipynb',\n",
       " '3D Objects',\n",
       " '50_Startups.csv',\n",
       " 'aclImdb',\n",
       " 'aclImdb_v1.tar.gz',\n",
       " 'ADMIN - Shortcut (2).lnk',\n",
       " 'ADMIN - Shortcut.lnk',\n",
       " 'ADVANCE PYTHON.ipynb',\n",
       " 'airline_passengers.csv',\n",
       " 'amzn.csv',\n",
       " 'AMZN_price.csv',\n",
       " 'anaconda3',\n",
       " 'AppData',\n",
       " 'Application Data',\n",
       " 'Assignment for FSDS Bootcamp 2.0.ipynb',\n",
       " 'Assignment-04.ipynb',\n",
       " 'Assignment-05.ipynb',\n",
       " 'Assignment-06.ipynb',\n",
       " 'Assignment-07.ipynb',\n",
       " 'Assignment-08_python_basics.ipynb',\n",
       " 'Assignment-21_python_basics.ipynb',\n",
       " 'Automated EDA Techniques.ipynb',\n",
       " 'auto_ins.py',\n",
       " 'Basics of python.ipynb',\n",
       " 'cat.jpg',\n",
       " 'Churn modelling.ipynb',\n",
       " 'Churn_Modelling.csv',\n",
       " 'claims_data_consolidated.csv',\n",
       " 'Code.ipynb',\n",
       " 'Contacts',\n",
       " 'Cookies',\n",
       " 'Country-Code.xlsx',\n",
       " 'csv file using writer class.ipynb',\n",
       " 'Dataset_Question2.xlsx',\n",
       " 'data_file.csv',\n",
       " 'Data_Train.xlsx',\n",
       " 'Day-2 Time series.ipynb',\n",
       " 'DAY-3 TIME SERIES.ipynb',\n",
       " 'Documents',\n",
       " 'Downloads',\n",
       " 'Emerging Trends in Analytics Assignment.ipynb',\n",
       " 'Favorites',\n",
       " 'FIR_submit.ipynb',\n",
       " 'Flight Price Prediction (1) (2).ipynb',\n",
       " 'flight-2.ipynb',\n",
       " 'flight_rf.pkl',\n",
       " 'FSDS_bootcamp_assignment_004_Oct_09.ipynb',\n",
       " 'FSDS_bootcamp_assignment_005_Oct_16.ipynb',\n",
       " 'google.txt',\n",
       " 'Group-2 Project.ipynb',\n",
       " 'Hyperparameter Tuning last sem.ipynb',\n",
       " 'hyper_perm_tuning.py',\n",
       " 'IntelGraphicsProfiles',\n",
       " 'item.csv',\n",
       " 'kc_house_data.csv',\n",
       " 'KRISH Github ML.ipynb',\n",
       " 'Links',\n",
       " 'Local Settings',\n",
       " 'logging.ipynb',\n",
       " 'MACHINE LEARNING.ipynb',\n",
       " 'merged.csv',\n",
       " 'merged_file.json',\n",
       " 'MicrosoftEdgeBackups',\n",
       " 'model_training',\n",
       " 'Monthly beer production.csv',\n",
       " 'MUSHROOM CLASSIFICATION PROJECT.ipynb',\n",
       " 'mushrooms.csv',\n",
       " 'Music',\n",
       " 'My Documents',\n",
       " 'myfile.txt',\n",
       " 'my_module.f',\n",
       " 'my_module.py',\n",
       " 'my_modules.py',\n",
       " 'my_new_file.txt',\n",
       " 'name.csv',\n",
       " 'NetHood',\n",
       " 'new 1.py',\n",
       " 'new1.py',\n",
       " 'Newreport.html',\n",
       " 'NTUSER.DAT',\n",
       " 'ntuser.dat.LOG1',\n",
       " 'ntuser.dat.LOG2',\n",
       " 'NTUSER.DAT{bc9d84a7-337c-11ec-9afe-f8445cf5f36b}.TM.blf',\n",
       " 'NTUSER.DAT{bc9d84a7-337c-11ec-9afe-f8445cf5f36b}.TMContainer00000000000000000001.regtrans-ms',\n",
       " 'NTUSER.DAT{bc9d84a7-337c-11ec-9afe-f8445cf5f36b}.TMContainer00000000000000000002.regtrans-ms',\n",
       " 'ntuser.ini',\n",
       " 'OneDrive',\n",
       " 'output.html',\n",
       " 'Position_Salaries.csv',\n",
       " 'Postman',\n",
       " 'PrintHood',\n",
       " 'project (1).ipynb',\n",
       " 'project.ipynb',\n",
       " 'PycharmProjects',\n",
       " 'PyQt API GUI module toolkit.ipynb',\n",
       " 'README.md',\n",
       " 'Recent',\n",
       " 'restaurant.csv',\n",
       " 'sample.json',\n",
       " 'Saved Games',\n",
       " 'schooltest.db',\n",
       " 'SCMS_Delivery_History_Dataset.csv',\n",
       " 'seaborn-data',\n",
       " 'Searches',\n",
       " 'SendTo',\n",
       " 'sneh1.txt',\n",
       " 'Social_Network_Ads.csv',\n",
       " 'special.json',\n",
       " 'Start Menu',\n",
       " 'Statistics.ipynb',\n",
       " 'stock_price_pred_rnn_lstm.py',\n",
       " 'string.csv',\n",
       " 'Supply Chain Project.ipynb',\n",
       " 'Templates',\n",
       " 'test.csv',\n",
       " 'test.log',\n",
       " 'test.txt',\n",
       " 'test1.csv',\n",
       " 'test1.log',\n",
       " 'test3.log',\n",
       " 'Test_set.xlsx',\n",
       " 'Time Series EDA.ipynb',\n",
       " 'tips.csv',\n",
       " 'today.txt',\n",
       " 'Tracing',\n",
       " 'train.csv',\n",
       " 'Untitled.ipynb',\n",
       " 'Untitled1.ipynb',\n",
       " 'Untitled10.ipynb',\n",
       " 'Untitled11.ipynb',\n",
       " 'Untitled12.ipynb',\n",
       " 'Untitled13.ipynb',\n",
       " 'Untitled14.ipynb',\n",
       " 'Untitled15.ipynb',\n",
       " 'Untitled16.ipynb',\n",
       " 'Untitled17.ipynb',\n",
       " 'Untitled18.ipynb',\n",
       " 'Untitled19.ipynb',\n",
       " 'Untitled2.ipynb',\n",
       " 'Untitled20.ipynb',\n",
       " 'Untitled21.ipynb',\n",
       " 'Untitled23.ipynb',\n",
       " 'Untitled24.ipynb',\n",
       " 'Untitled25.ipynb',\n",
       " 'Untitled26.ipynb',\n",
       " 'Untitled27.ipynb',\n",
       " 'Untitled3.ipynb',\n",
       " 'Untitled4.ipynb',\n",
       " 'Untitled5.ipynb',\n",
       " 'Untitled6.ipynb',\n",
       " 'Untitled7.ipynb',\n",
       " 'Untitled8.ipynb',\n",
       " 'Untitled9.ipynb',\n",
       " 'Untitlednt.ipynb',\n",
       " 'Videos',\n",
       " 'ZOMATO EDA.ipynb',\n",
       " 'zomato.csv',\n",
       " '__pycache__']"
      ]
     },
     "execution_count": 6,
     "metadata": {},
     "output_type": "execute_result"
    }
   ],
   "source": [
    "import os\n",
    "os.listdir()"
   ]
  },
  {
   "cell_type": "raw",
   "id": "26fe77e0",
   "metadata": {},
   "source": [
    "6. Use multiprocessing to create three separate processes. Make each one wait a random number of seconds between one and five, print the current time, and then exit."
   ]
  },
  {
   "cell_type": "code",
   "execution_count": 9,
   "id": "1a29fba6",
   "metadata": {},
   "outputs": [],
   "source": [
    "import multiprocessing\n",
    "import time \n",
    "import random\n",
    "def worker():\n",
    "    wait_time = random.randint(1, 5)\n",
    "    time.sleep(wait_time)\n",
    "    print(f'{time.ctime()} - Process {multiprocessing.current_process().name}')\n",
    "\n",
    "processes = []\n",
    "for i in range(3):\n",
    "    p = multiprocessing.Process(target=worker, name=f'Process {i+1}')\n",
    "    processes.append(p)\n",
    "    p.start()\n",
    "\n",
    "for p in processes:\n",
    "    p.join()"
   ]
  },
  {
   "cell_type": "raw",
   "id": "39bddef6",
   "metadata": {},
   "source": [
    "7. Create a date object of your day of birth."
   ]
  },
  {
   "cell_type": "code",
   "execution_count": 7,
   "id": "f60b3180",
   "metadata": {},
   "outputs": [
    {
     "name": "stdout",
     "output_type": "stream",
     "text": [
      "1994-10-10\n"
     ]
    }
   ],
   "source": [
    "from datetime import date\n",
    "my_birthday=date(1994,10,10)\n",
    "print(my_birthday)"
   ]
  },
  {
   "cell_type": "raw",
   "id": "5fad82d9",
   "metadata": {},
   "source": [
    "8. What day of the week was your day of birth?"
   ]
  },
  {
   "cell_type": "code",
   "execution_count": 14,
   "id": "b2907a36",
   "metadata": {},
   "outputs": [
    {
     "name": "stdout",
     "output_type": "stream",
     "text": [
      "Monday\n"
     ]
    }
   ],
   "source": [
    "import datetime\n",
    "\n",
    "birthdate_day= datetime.datetime.strptime(\"10-10-1994\", \"%m-%d-%Y\")\n",
    "print(birthdate_day.strftime(\"%A\"))"
   ]
  },
  {
   "cell_type": "raw",
   "id": "121e3143",
   "metadata": {},
   "source": [
    "9. When will you be (or when were you) 10,000 days old?"
   ]
  },
  {
   "cell_type": "code",
   "execution_count": 23,
   "id": "068510f0",
   "metadata": {},
   "outputs": [
    {
     "name": "stdout",
     "output_type": "stream",
     "text": [
      "02-25-2022\n"
     ]
    }
   ],
   "source": [
    "import datetime\n",
    "\n",
    "birthdate_day= datetime.datetime.strptime(\"10-10-1994\", \"%m-%d-%Y\")\n",
    "ten_thousand_days=birthdate_day + datetime.timedelta(days=10000)\n",
    "print(ten_thousand_days.strftime('%m-%d-%Y'))"
   ]
  },
  {
   "cell_type": "code",
   "execution_count": null,
   "id": "1e5cfd27",
   "metadata": {},
   "outputs": [],
   "source": []
  }
 ],
 "metadata": {
  "kernelspec": {
   "display_name": "Python 3",
   "language": "python",
   "name": "python3"
  },
  "language_info": {
   "codemirror_mode": {
    "name": "ipython",
    "version": 3
   },
   "file_extension": ".py",
   "mimetype": "text/x-python",
   "name": "python",
   "nbconvert_exporter": "python",
   "pygments_lexer": "ipython3",
   "version": "3.8.8"
  }
 },
 "nbformat": 4,
 "nbformat_minor": 5
}
