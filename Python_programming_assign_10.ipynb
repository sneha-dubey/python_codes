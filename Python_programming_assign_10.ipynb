{
  "nbformat": 4,
  "nbformat_minor": 0,
  "metadata": {
    "colab": {
      "provenance": []
    },
    "kernelspec": {
      "name": "python3",
      "display_name": "Python 3"
    },
    "language_info": {
      "name": "python"
    }
  },
  "cells": [
    {
      "cell_type": "markdown",
      "source": [
        "1.\tWrite a Python program to find sum of elements in list?\n"
      ],
      "metadata": {
        "id": "GPyPYAHJ2khh"
      }
    },
    {
      "cell_type": "code",
      "source": [
        "def sum_of_elements(numbers):\n",
        "  return sum(numbers)\n",
        "\n",
        "numbers = [1, 2, 3, 4, 5]\n",
        "print(\"Numbers:\", numbers)\n",
        "\n",
        "sum_of_numbers=sum_of_elements(numbers)\n",
        "print('Sum of numbers:' ,sum_of_numbers)"
      ],
      "metadata": {
        "colab": {
          "base_uri": "https://localhost:8080/"
        },
        "id": "etMqqSdR2lmv",
        "outputId": "d996e6c1-3a3a-463c-ec08-f5aaafb86015"
      },
      "execution_count": 3,
      "outputs": [
        {
          "output_type": "stream",
          "name": "stdout",
          "text": [
            "Numbers: [1, 2, 3, 4, 5]\n",
            "Sum of numbers: 15\n"
          ]
        }
      ]
    },
    {
      "cell_type": "markdown",
      "source": [
        "2.\tWrite a Python program to  Multiply all numbers in the list?"
      ],
      "metadata": {
        "id": "uYjS5VIH5P50"
      }
    },
    {
      "cell_type": "code",
      "source": [
        "def multiply_elements(numbers):\n",
        "  product=1\n",
        "  for number in numbers:\n",
        "    product*=number\n",
        "  return product\n",
        "\n",
        "numbers = [1, 2, 3, 4, 5]\n",
        "print(\"Numbers:\", numbers)\n",
        "\n",
        "product_of_numbers = multiply_elements(numbers)\n",
        "print(\"Product of Numbers:\", product_of_numbers)"
      ],
      "metadata": {
        "colab": {
          "base_uri": "https://localhost:8080/"
        },
        "id": "WPeEQpFw5Qtm",
        "outputId": "532df98d-ea03-48a9-8651-4635105101c7"
      },
      "execution_count": 4,
      "outputs": [
        {
          "output_type": "stream",
          "name": "stdout",
          "text": [
            "Numbers: [1, 2, 3, 4, 5]\n",
            "Product of Numbers: 120\n"
          ]
        }
      ]
    },
    {
      "cell_type": "markdown",
      "source": [
        "3.\tWrite a Python program to find smallest number in a list?"
      ],
      "metadata": {
        "id": "fbRuuG1Y84Ko"
      }
    },
    {
      "cell_type": "code",
      "source": [
        "def smallest_number(numbers):\n",
        "  return min(numbers)\n",
        "\n",
        "numbers = [1, 2, 3, 4, 5]\n",
        "print(\"Numbers:\", numbers)\n",
        "\n",
        "smallest_num=smallest_number(numbers)\n",
        "print('smallest number:', smallest_num)"
      ],
      "metadata": {
        "colab": {
          "base_uri": "https://localhost:8080/"
        },
        "id": "HclQ1W_W87T6",
        "outputId": "e665ef7a-d07e-4be5-8bde-46d215884173"
      },
      "execution_count": 5,
      "outputs": [
        {
          "output_type": "stream",
          "name": "stdout",
          "text": [
            "Numbers: [1, 2, 3, 4, 5]\n",
            "smallest number: 1\n"
          ]
        }
      ]
    },
    {
      "cell_type": "markdown",
      "source": [
        "4.\tWrite a Python program to find largest number in a list?"
      ],
      "metadata": {
        "id": "jQR31IMc9mO1"
      }
    },
    {
      "cell_type": "code",
      "source": [
        "def largest_number(numbers):\n",
        "  return max(numbers)\n",
        "\n",
        "numbers = [1, 2, 3, 4, 5]\n",
        "print(\"Numbers:\", numbers)\n",
        "\n",
        "largest_num=largest_number(numbers)\n",
        "print('largest number:', largest_num)"
      ],
      "metadata": {
        "colab": {
          "base_uri": "https://localhost:8080/"
        },
        "id": "ANR-xwcC9pe-",
        "outputId": "41843d99-369c-4b46-cb94-f053338c90bb"
      },
      "execution_count": 6,
      "outputs": [
        {
          "output_type": "stream",
          "name": "stdout",
          "text": [
            "Numbers: [1, 2, 3, 4, 5]\n",
            "largest number: 5\n"
          ]
        }
      ]
    },
    {
      "cell_type": "markdown",
      "source": [
        "5.\tWrite a Python program to find second largest number in a list?"
      ],
      "metadata": {
        "id": "f20kG5xQ9vx5"
      }
    },
    {
      "cell_type": "code",
      "source": [
        "def second_largest(numbers):\n",
        "  first = float('-inf')\n",
        "  second = float('-inf')\n",
        "  for num in numbers:\n",
        "    if num > first:\n",
        "      second = first\n",
        "      first = num\n",
        "    elif num > second and num != first:\n",
        "      second = num\n",
        "  return second\n",
        "\n",
        "numbers = [2, 4, 6, 8, 10, 3, 9]\n",
        "print(\"Second largest number is:\", second_largest(numbers))\n"
      ],
      "metadata": {
        "colab": {
          "base_uri": "https://localhost:8080/"
        },
        "id": "sgnsH61O9yT2",
        "outputId": "64aaba6c-b921-480f-86c7-2d23b455c96b"
      },
      "execution_count": 7,
      "outputs": [
        {
          "output_type": "stream",
          "name": "stdout",
          "text": [
            "Second largest number is: 9\n"
          ]
        }
      ]
    },
    {
      "cell_type": "markdown",
      "source": [
        "6.\tWrite a Python program to find N largest elements from a list?"
      ],
      "metadata": {
        "id": "JVAD27G19zDP"
      }
    },
    {
      "cell_type": "code",
      "source": [
        "def n_largest(numbers, n):\n",
        "  numbers.sort(reverse=True)\n",
        "  return numbers[:n]\n",
        "\n",
        "numbers = [2, 4, 6, 8, 10, 3, 9]\n",
        "n = 3\n",
        "print(f\"{n} largest elements in the list are: {n_largest(numbers, n)}\")\n"
      ],
      "metadata": {
        "colab": {
          "base_uri": "https://localhost:8080/"
        },
        "id": "t0tUZzm591Za",
        "outputId": "3682d796-2fc8-4feb-a537-4616c9e9e147"
      },
      "execution_count": 8,
      "outputs": [
        {
          "output_type": "stream",
          "name": "stdout",
          "text": [
            "3 largest elements in the list are: [10, 9, 8]\n"
          ]
        }
      ]
    },
    {
      "cell_type": "markdown",
      "source": [
        "7.\tWrite a Python program to print even numbers in a list?"
      ],
      "metadata": {
        "id": "h7IAJRKEBfZV"
      }
    },
    {
      "cell_type": "code",
      "source": [
        "def even(numbers):\n",
        "  for num in numbers:\n",
        "    if num % 2 == 0:\n",
        "      print(num)\n",
        "\n",
        "numbers = [2, 4, 6, 8, 10, 3, 9]\n",
        "print(\"Even numbers in the list are:\")\n",
        "even(numbers)\n"
      ],
      "metadata": {
        "colab": {
          "base_uri": "https://localhost:8080/"
        },
        "id": "9oWY7ZSOBf9q",
        "outputId": "6599bd49-628c-4bbe-c9cf-326b08472f01"
      },
      "execution_count": 5,
      "outputs": [
        {
          "output_type": "stream",
          "name": "stdout",
          "text": [
            "Even numbers in the list are:\n",
            "2\n",
            "4\n",
            "6\n",
            "8\n",
            "10\n"
          ]
        }
      ]
    },
    {
      "cell_type": "markdown",
      "source": [
        "8.\tWrite a Python program to print odd numbers in a List?"
      ],
      "metadata": {
        "id": "3KqXvNpWCaGM"
      }
    },
    {
      "cell_type": "code",
      "source": [
        "def odd(numbers):\n",
        "  for x in numbers:\n",
        "    if x%2!=0:\n",
        "      print(x)\n",
        "\n",
        "numbers = [2, 4, 6, 8, 10, 3, 9]\n",
        "print(\"odd numbers in the list are:\")\n",
        "odd(numbers)\n"
      ],
      "metadata": {
        "colab": {
          "base_uri": "https://localhost:8080/"
        },
        "id": "mCTW5DVhCdTy",
        "outputId": "0100dfac-4034-4f9b-b0d1-5499a4a514c3"
      },
      "execution_count": 4,
      "outputs": [
        {
          "output_type": "stream",
          "name": "stdout",
          "text": [
            "odd numbers in the list are:\n",
            "3\n",
            "9\n"
          ]
        }
      ]
    },
    {
      "cell_type": "markdown",
      "source": [
        "9.\tWrite a Python program to Remove empty List from List?"
      ],
      "metadata": {
        "id": "DtTeBn0lR235"
      }
    },
    {
      "cell_type": "code",
      "source": [
        "def remove_empty_lists(lists):\n",
        "  return [lst for lst in lists if lst]\n",
        "\n",
        "lists = [[], [1, 2, 3], [], [4, 5, 6], []]\n",
        "print(\"List without empty lists:\", remove_empty_lists(lists))\n"
      ],
      "metadata": {
        "colab": {
          "base_uri": "https://localhost:8080/"
        },
        "id": "S5dDDKg7R8jC",
        "outputId": "063551e1-5155-4568-d193-b12253397a10"
      },
      "execution_count": 6,
      "outputs": [
        {
          "output_type": "stream",
          "name": "stdout",
          "text": [
            "List without empty lists: [[1, 2, 3], [4, 5, 6]]\n"
          ]
        }
      ]
    },
    {
      "cell_type": "markdown",
      "source": [
        "10.\tWrite a Python program to Cloning or Copying a list?"
      ],
      "metadata": {
        "id": "BbiqiuBSR9-5"
      }
    },
    {
      "cell_type": "code",
      "source": [
        "def clone_list(lst):\n",
        "  return lst[:]\n",
        "\n",
        "original_list = [1, 2, 3, 4, 5]\n",
        "cloned_list = clone_list(original_list)\n",
        "\n",
        "print(\"Original list:\", original_list)\n",
        "print(\"Cloned list:\", cloned_list)\n"
      ],
      "metadata": {
        "colab": {
          "base_uri": "https://localhost:8080/"
        },
        "id": "iB-0F9i0SAqQ",
        "outputId": "62b0cb2f-9c18-4b8e-9b02-74aff10daa66"
      },
      "execution_count": 7,
      "outputs": [
        {
          "output_type": "stream",
          "name": "stdout",
          "text": [
            "Original list: [1, 2, 3, 4, 5]\n",
            "Cloned list: [1, 2, 3, 4, 5]\n"
          ]
        }
      ]
    },
    {
      "cell_type": "markdown",
      "source": [
        "11.\tWrite a Python program to Count occurrences of an element in a list?"
      ],
      "metadata": {
        "id": "yUicd_eqSBHb"
      }
    },
    {
      "cell_type": "code",
      "source": [
        "def count_occurrences(lst, element):\n",
        "  return lst.count(element)\n",
        "\n",
        "numbers = [1, 2, 3, 4, 5, 1, 2, 3, 4, 1]\n",
        "element = 1\n",
        "\n",
        "count = count_occurrences(numbers, element)\n",
        "print(f\"The number {element} appears {count} times in the list.\")\n"
      ],
      "metadata": {
        "colab": {
          "base_uri": "https://localhost:8080/"
        },
        "id": "GGm8uTD1SDnp",
        "outputId": "01b1123d-e2f7-4b04-bcc9-2fd1e33a9d0e"
      },
      "execution_count": 8,
      "outputs": [
        {
          "output_type": "stream",
          "name": "stdout",
          "text": [
            "The number 1 appears 3 times in the list.\n"
          ]
        }
      ]
    },
    {
      "cell_type": "code",
      "source": [],
      "metadata": {
        "id": "qEbuHF88Tw6i"
      },
      "execution_count": null,
      "outputs": []
    }
  ]
}