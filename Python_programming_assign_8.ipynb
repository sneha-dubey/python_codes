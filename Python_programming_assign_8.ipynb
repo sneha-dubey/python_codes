{
  "nbformat": 4,
  "nbformat_minor": 0,
  "metadata": {
    "colab": {
      "provenance": []
    },
    "kernelspec": {
      "name": "python3",
      "display_name": "Python 3"
    },
    "language_info": {
      "name": "python"
    }
  },
  "cells": [
    {
      "cell_type": "markdown",
      "source": [
        "1. Write a Python Program to Add Two Matrices?"
      ],
      "metadata": {
        "id": "HvOoMbO-CE4P"
      }
    },
    {
      "cell_type": "code",
      "source": [
        "def add_matrices(matrix1,matrix2):\n",
        "  result=[]\n",
        "  for i in range(len(matrix1)):\n",
        "    row=[]\n",
        "    for j in range(len(matrix1[0])):\n",
        "      row.append(matrix1[i][j] + matrix2[i][j])\n",
        "    result.append(row)\n",
        "  return result\n",
        "\n",
        "matrix1 = [[1, 2, 3], [4, 5, 6], [7, 8, 9]]\n",
        "matrix2 = [[9, 8, 7], [6, 5, 4], [3, 2, 1]]\n",
        "\n",
        "print('matrix1')\n",
        "for i in matrix1:\n",
        "  print(i)\n",
        "print('matrix2')\n",
        "for i in matrix2:\n",
        "  print(i)\n",
        "\n",
        "result=add_matrices(matrix1,matrix2)\n",
        "print('Resultant matrix:')\n",
        "for i in result:\n",
        "  print(i)"
      ],
      "metadata": {
        "id": "phcqDJrPCGYU",
        "colab": {
          "base_uri": "https://localhost:8080/"
        },
        "outputId": "13a5e330-1b97-405f-f76f-ba7b030a8daa"
      },
      "execution_count": 17,
      "outputs": [
        {
          "output_type": "stream",
          "name": "stdout",
          "text": [
            "matrix1\n",
            "[1, 2, 3]\n",
            "[4, 5, 6]\n",
            "[7, 8, 9]\n",
            "matrix2\n",
            "[9, 8, 7]\n",
            "[6, 5, 4]\n",
            "[3, 2, 1]\n",
            "Resultant matrix:\n",
            "[10, 10, 10]\n",
            "[10, 10, 10]\n",
            "[10, 10, 10]\n"
          ]
        }
      ]
    },
    {
      "cell_type": "markdown",
      "source": [
        "2. Write a Python Program to Multiply Two Matrices?"
      ],
      "metadata": {
        "id": "ZsKq7imcCIVZ"
      }
    },
    {
      "cell_type": "code",
      "source": [
        "def multiply_matrices(matrix1,matrix2):\n",
        "  result=[]\n",
        "  for i in range(len(matrix1)):\n",
        "    row=[]\n",
        "    for j in range(len(matrix1[0])):\n",
        "      row.append(matrix1[i][j] * matrix2[i][j])\n",
        "    result.append(row)\n",
        "  return result\n",
        "\n",
        "atrix1 = [[1, 2, 3], [4, 5, 6], [7, 8, 9]]\n",
        "matrix2 = [[9, 8, 7], [6, 5, 4], [3, 2, 1]]\n",
        "\n",
        "print('matrix1')\n",
        "for i in matrix1:\n",
        "  print(i)\n",
        "print('matrix2')\n",
        "for i in matrix2:\n",
        "  print(i)\n",
        "\n",
        "result=multiply_matrices(matrix1,matrix2)\n",
        "print('Resultant matrix:')\n",
        "for i in result:\n",
        "  print(i)\n"
      ],
      "metadata": {
        "id": "msvxKyt7CMrR",
        "colab": {
          "base_uri": "https://localhost:8080/"
        },
        "outputId": "24b1fa8e-a115-4bf1-ed16-1b4a39396ff2"
      },
      "execution_count": 16,
      "outputs": [
        {
          "output_type": "stream",
          "name": "stdout",
          "text": [
            "matrix1\n",
            "[1, 2, 3]\n",
            "[4, 5, 6]\n",
            "[7, 8, 9]\n",
            "matrix2\n",
            "[9, 8, 7]\n",
            "[6, 5, 4]\n",
            "[3, 2, 1]\n",
            "Resultant matrix:\n",
            "[9, 16, 21]\n",
            "[24, 25, 24]\n",
            "[21, 16, 9]\n"
          ]
        }
      ]
    },
    {
      "cell_type": "markdown",
      "source": [
        "3. Write a Python Program to Transpose a Matrix?"
      ],
      "metadata": {
        "id": "DKX8YZ4DCNXx"
      }
    },
    {
      "cell_type": "code",
      "source": [
        "def transpose(matrix):\n",
        "  result=[]\n",
        "  for i in range(len(matrix[0])):\n",
        "    row=[]\n",
        "    for j in range(len(matrix)):\n",
        "      row.append(matrix[j][i])\n",
        "    result.append(row)\n",
        "  return result\n",
        "\n",
        "matrix = [[1, 2, 3], [4, 5, 6], [7, 8, 9]]\n",
        "print('matrix:')\n",
        "for i in matrix:\n",
        "  print(i)\n",
        "transposed_matrix=transpose(matrix)\n",
        "print('Transposed_matrix:')\n",
        "for i in transposed_matrix:\n",
        "  print(i)"
      ],
      "metadata": {
        "id": "b_9y7Hn4CRAE",
        "colab": {
          "base_uri": "https://localhost:8080/"
        },
        "outputId": "a13ed351-1f82-4caf-c022-ca8baf02086b"
      },
      "execution_count": 15,
      "outputs": [
        {
          "output_type": "stream",
          "name": "stdout",
          "text": [
            "matrix:\n",
            "[1, 2, 3]\n",
            "[4, 5, 6]\n",
            "[7, 8, 9]\n",
            "Transposed_matrix:\n",
            "[1, 4, 7]\n",
            "[2, 5, 8]\n",
            "[3, 6, 9]\n"
          ]
        }
      ]
    },
    {
      "cell_type": "markdown",
      "source": [
        "4. Write a Python Program to Sort Words in Alphabetic Order?"
      ],
      "metadata": {
        "id": "sugRA5xxCRso"
      }
    },
    {
      "cell_type": "code",
      "source": [
        "def sort_words(words):\n",
        "  return sorted(words)\n",
        "words = ['apple', 'banana', 'cherry', 'date', 'elderberry','baby']\n",
        "print(\"Words:\", words)\n",
        "sorted_words = sort_words(words)\n",
        "print(\"Sorted Words:\", sorted_words)"
      ],
      "metadata": {
        "id": "yFTcbxmzCVeV",
        "colab": {
          "base_uri": "https://localhost:8080/"
        },
        "outputId": "6027dd5d-153b-4a98-d518-6c67211c2fbe"
      },
      "execution_count": 7,
      "outputs": [
        {
          "output_type": "stream",
          "name": "stdout",
          "text": [
            "Words: ['apple', 'banana', 'cherry', 'date', 'elderberry', 'baby']\n",
            "Sorted Words: ['apple', 'baby', 'banana', 'cherry', 'date', 'elderberry']\n"
          ]
        }
      ]
    },
    {
      "cell_type": "markdown",
      "source": [
        "5. Write a Python Program to Remove Punctuation From a String?"
      ],
      "metadata": {
        "id": "0I0b_FiWCWAx"
      }
    },
    {
      "cell_type": "code",
      "source": [
        "import string\n",
        "def remove_punctuation(input_string):\n",
        "  return input_string.translate(str.maketrans(\"\", \"\", string.punctuation))\n",
        "\n",
        "string_with_punctuation = \"Hello, World! How are you today?\"\n",
        "print(\"String with Punctuation:\", string_with_punctuation)\n",
        "\n",
        "string_without_punctuation = remove_punctuation(string_with_punctuation)\n",
        "print(\"String without Punctuation:\", string_without_punctuation)"
      ],
      "metadata": {
        "id": "y1zQ0YWBCZz8",
        "colab": {
          "base_uri": "https://localhost:8080/"
        },
        "outputId": "0b8c4626-5a7b-4774-9abb-b8c80a92230b"
      },
      "execution_count": 18,
      "outputs": [
        {
          "output_type": "stream",
          "name": "stdout",
          "text": [
            "String with Punctuation: Hello, World! How are you today?\n",
            "String without Punctuation: Hello World How are you today\n"
          ]
        }
      ]
    },
    {
      "cell_type": "code",
      "source": [],
      "metadata": {
        "id": "HDioI9BtzqyS"
      },
      "execution_count": null,
      "outputs": []
    }
  ]
}