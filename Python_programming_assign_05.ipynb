{
  "nbformat": 4,
  "nbformat_minor": 0,
  "metadata": {
    "colab": {
      "provenance": []
    },
    "kernelspec": {
      "name": "python3",
      "display_name": "Python 3"
    },
    "language_info": {
      "name": "python"
    }
  },
  "cells": [
    {
      "cell_type": "markdown",
      "source": [
        "1.\tWrite a Python Program to Find LCM?"
      ],
      "metadata": {
        "id": "ITqKVY6h2zza"
      }
    },
    {
      "cell_type": "code",
      "source": [
        "def lcm(x, y):\n",
        "  return x * y // gcd(x, y)\n",
        "\n",
        "def gcd(x, y):\n",
        "  while y:\n",
        "    x, y = y, x % y\n",
        "  return x\n",
        "\n",
        "num1 = 15\n",
        "num2 = 20\n",
        "\n",
        "print(\"The LCM of\", num1, \"and\", num2, \"is\", lcm(num1, num2))\n"
      ],
      "metadata": {
        "id": "damIrAd12_Hh",
        "colab": {
          "base_uri": "https://localhost:8080/"
        },
        "outputId": "9e864fdf-a2a3-4e1f-a5f0-c21167e3ea72"
      },
      "execution_count": null,
      "outputs": [
        {
          "output_type": "stream",
          "name": "stdout",
          "text": [
            "The LCM of 15 and 20 is 60\n"
          ]
        }
      ]
    },
    {
      "cell_type": "markdown",
      "source": [
        "2.\tWrite \n",
        "a Python Program to Find HCF?\n"
      ],
      "metadata": {
        "id": "jDi3wlYm6QpP"
      }
    },
    {
      "cell_type": "code",
      "source": [
        "def hcf(x, y):\n",
        "  while y:\n",
        "    x, y = y, x % y\n",
        "  return x\n",
        "\n",
        "num1 = 60\n",
        "num2 = 48\n",
        "\n",
        "print(\"The HCF of\", num1, \"and\", num2, \"is\", hcf(num1, num2))\n"
      ],
      "metadata": {
        "id": "Ap6lN9936c8J",
        "colab": {
          "base_uri": "https://localhost:8080/"
        },
        "outputId": "0fbb698f-41db-475a-8e36-f9f1b2a3322d"
      },
      "execution_count": null,
      "outputs": [
        {
          "output_type": "stream",
          "name": "stdout",
          "text": [
            "The HCF of 60 and 48 is 12\n"
          ]
        }
      ]
    },
    {
      "cell_type": "markdown",
      "source": [
        "3.\tWrite a Python Program to Convert Decimal to Binary, Octal and Hexadecimal?"
      ],
      "metadata": {
        "id": "TjBlZ3GY7rg7"
      }
    },
    {
      "cell_type": "code",
      "source": [
        "decimal=int(input(\"Enter a decimal number: \"))\n",
        "print('The binary representtion of',decimal, 'is',bin(decimal))\n",
        "print('The octal representtion of',decimal, 'is',oct(decimal))\n",
        "print('The Hexadecimal represention of',decimal,'is',hex(decimal))"
      ],
      "metadata": {
        "colab": {
          "base_uri": "https://localhost:8080/"
        },
        "id": "AIPKVvH07w8D",
        "outputId": "9c166be8-3157-4318-a0fe-535ad2be987e"
      },
      "execution_count": null,
      "outputs": [
        {
          "output_type": "stream",
          "name": "stdout",
          "text": [
            "Enter a decimal number: 10\n",
            "The binary representtion of 10 is 0b1010\n",
            "The octal representtion of 10 is 0o12\n",
            "The Hexadecimal represention of 10 is 0xa\n"
          ]
        }
      ]
    },
    {
      "cell_type": "markdown",
      "source": [
        "4.\tWrite a Python Program To Find ASCII value of a character?"
      ],
      "metadata": {
        "id": "aI1h48Vw7xhg"
      }
    },
    {
      "cell_type": "code",
      "source": [
        "def ascii_value(char):\n",
        "  return ord(char)\n",
        "\n",
        "char = 'A'\n",
        "print(\"The ASCII value of the character\", char, \"is\", ascii_value(char))\n"
      ],
      "metadata": {
        "colab": {
          "base_uri": "https://localhost:8080/"
        },
        "id": "0XrO75G3W4IJ",
        "outputId": "ed730118-1e6a-48cc-b74f-3449620a7d73"
      },
      "execution_count": 4,
      "outputs": [
        {
          "output_type": "stream",
          "name": "stdout",
          "text": [
            "The ASCII value of the character A is 65\n"
          ]
        }
      ]
    },
    {
      "cell_type": "markdown",
      "source": [
        "5.\tWrite a Python Program to Make a Simple Calculator with 4 basic mathematical operations?"
      ],
      "metadata": {
        "id": "RBO35MoB714W"
      }
    },
    {
      "cell_type": "code",
      "source": [
        "def add(x, y):\n",
        "  return x + y\n",
        "\n",
        "def subtract(x, y):\n",
        "  return x - y\n",
        "\n",
        "def multiply(x, y):\n",
        "  return x * y\n",
        "\n",
        "def divide(x, y):\n",
        "  return x / y\n",
        "\n",
        "print(\"Select operation.\")\n",
        "print(\"1. Add\")\n",
        "print(\"2. Subtract\")\n",
        "print(\"3. Multiply\")\n",
        "print(\"4. Divide\")\n",
        "\n",
        "choice = int(input(\"Enter choice (1/2/3/4): \"))\n",
        "\n",
        "num1 = float(input(\"Enter first number: \"))\n",
        "num2 = float(input(\"Enter second number: \"))\n",
        "\n",
        "if choice == 1:\n",
        "  print(num1, \"+\", num2, \"=\", add(num1, num2))\n",
        "\n",
        "elif choice == 2:\n",
        "  print(num1, \"-\", num2, \"=\", subtract(num1, num2))\n",
        "\n",
        "elif choice == 3:\n",
        "  print(num1, \"*\", num2, \"=\", multiply(num1, num2))\n",
        "\n",
        "elif choice == 4:\n",
        "  print(num1, \"/\", num2, \"=\", divide(num1, num2))\n",
        "\n",
        "else:\n",
        "  print(\"Invalid input\")\n",
        "\n",
        "  "
      ],
      "metadata": {
        "id": "q6N3hQb475br",
        "colab": {
          "base_uri": "https://localhost:8080/"
        },
        "outputId": "163d8756-70b1-4fc7-d7db-fb63d27fd7a4"
      },
      "execution_count": 6,
      "outputs": [
        {
          "output_type": "stream",
          "name": "stdout",
          "text": [
            "Select operation.\n",
            "1. Add\n",
            "2. Subtract\n",
            "3. Multiply\n",
            "4. Divide\n",
            "Enter choice (1/2/3/4): 1\n",
            "Enter first number: 2\n",
            "Enter second number: 4\n",
            "2.0 + 4.0 = 6.0\n"
          ]
        }
      ]
    },
    {
      "cell_type": "code",
      "source": [],
      "metadata": {
        "id": "iScD22W-XKUH"
      },
      "execution_count": null,
      "outputs": []
    }
  ]
}