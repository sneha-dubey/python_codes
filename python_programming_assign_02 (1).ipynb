{
  "nbformat": 4,
  "nbformat_minor": 0,
  "metadata": {
    "colab": {
      "provenance": []
    },
    "kernelspec": {
      "name": "python3",
      "display_name": "Python 3"
    },
    "language_info": {
      "name": "python"
    }
  },
  "cells": [
    {
      "cell_type": "markdown",
      "source": [
        "1.\tWrite a Python program to convert kilometers to miles?"
      ],
      "metadata": {
        "id": "AvH6ynXcTJkP"
      }
    },
    {
      "cell_type": "code",
      "source": [
        "kilometers=float(input('Enter the distance in kilometers: ' ))\n",
        "miles=kilometers*0.621371\n",
        "print(f\"{kilometers} kilometers is equal to {miles} miles.\")"
      ],
      "metadata": {
        "colab": {
          "base_uri": "https://localhost:8080/"
        },
        "id": "kzAnneiHTTDo",
        "outputId": "7ffa778b-d2bf-48ea-a4c9-ec9a88a21491"
      },
      "execution_count": 1,
      "outputs": [
        {
          "output_type": "stream",
          "name": "stdout",
          "text": [
            "Enter the distance in kilometers: 2\n",
            "2.0 kilometers is equal to 1.242742 miles.\n"
          ]
        }
      ]
    },
    {
      "cell_type": "markdown",
      "source": [
        "2.\tWrite a Python program to convert Celsius to Fahrenheit?"
      ],
      "metadata": {
        "id": "ndUWsYLBjmQ2"
      }
    },
    {
      "cell_type": "code",
      "source": [
        "def celsius_to_fahrenheit(celsius):\n",
        "  return (celsius*9/5) + 32\n",
        "\n",
        "celsius=float(input('Enter temperature in celsius: ' ))\n",
        "print(\"temperature in fahrenheit:{:.2f}\".format(celsius_to_fahrenheit(celsius)))"
      ],
      "metadata": {
        "colab": {
          "base_uri": "https://localhost:8080/"
        },
        "id": "BYrR5cdgkFQP",
        "outputId": "e92a164b-810d-4c36-d129-e0eefab4a39b"
      },
      "execution_count": 3,
      "outputs": [
        {
          "output_type": "stream",
          "name": "stdout",
          "text": [
            "Enter temperature in celsius: 30\n",
            "temperature in fahrenheit:86.00\n"
          ]
        }
      ]
    },
    {
      "cell_type": "markdown",
      "source": [
        "3.\tWrite a Python program to display calendar?"
      ],
      "metadata": {
        "id": "Xdc1RCH_ly0y"
      }
    },
    {
      "cell_type": "code",
      "source": [
        "import calendar\n",
        "year=int(input('Enter the year: '))\n",
        "month=int(input('Enter the month: '))\n",
        "calendar.prmonth(year,month)"
      ],
      "metadata": {
        "colab": {
          "base_uri": "https://localhost:8080/"
        },
        "id": "ugMqwHRgl5km",
        "outputId": "526661fa-24b7-4c49-f7c3-b0364baddbc2"
      },
      "execution_count": 4,
      "outputs": [
        {
          "output_type": "stream",
          "name": "stdout",
          "text": [
            "Enter the year: 2023\n",
            "Enter the month: 1\n",
            "    January 2023\n",
            "Mo Tu We Th Fr Sa Su\n",
            "                   1\n",
            " 2  3  4  5  6  7  8\n",
            " 9 10 11 12 13 14 15\n",
            "16 17 18 19 20 21 22\n",
            "23 24 25 26 27 28 29\n",
            "30 31\n"
          ]
        }
      ]
    },
    {
      "cell_type": "markdown",
      "source": [
        "4.\tWrite a Python program to solve quadratic equation?"
      ],
      "metadata": {
        "id": "sJp0UIXim9hW"
      }
    },
    {
      "cell_type": "code",
      "source": [
        "import cmath\n",
        "a=float(input('enter a: '))\n",
        "b=float(input('enter b: '))\n",
        "c=float(input('enter c: '))\n",
        "d=(b**2)-(4*a*c)\n",
        "sol1=(-b-cmath.sqrt(d))/(2*a)\n",
        "sol2=(-b+cmath.sqrt(d))/(2*a)\n",
        "print('The solution are {0} and {1}'.format(sol1,sol2))"
      ],
      "metadata": {
        "colab": {
          "base_uri": "https://localhost:8080/"
        },
        "id": "eTPy6R5rnAVT",
        "outputId": "4ad529f9-796d-4463-9864-975f76883c4e"
      },
      "execution_count": 9,
      "outputs": [
        {
          "output_type": "stream",
          "name": "stdout",
          "text": [
            "enter a: 6\n",
            "enter b: 6\n",
            "enter c: 7\n",
            "The solution are (-0.5-0.9574271077563381j) and (-0.5+0.9574271077563381j)\n"
          ]
        }
      ]
    },
    {
      "cell_type": "markdown",
      "source": [
        "5.\tWrite a Python program to swap two variables without temp variable?"
      ],
      "metadata": {
        "id": "cHtMmtsFnTcn"
      }
    },
    {
      "cell_type": "code",
      "source": [
        "x=5\n",
        "y=10\n",
        "x=x^y          #by using xor operator\n",
        "y=x^y\n",
        "x=x^y\n",
        "print('x =',x)\n",
        "print('y =',y)"
      ],
      "metadata": {
        "colab": {
          "base_uri": "https://localhost:8080/"
        },
        "id": "wvgxci4JnUJc",
        "outputId": "466583d5-98c4-4e7e-b474-413bf3290696"
      },
      "execution_count": 10,
      "outputs": [
        {
          "output_type": "stream",
          "name": "stdout",
          "text": [
            "x = 10\n",
            "y = 5\n"
          ]
        }
      ]
    },
    {
      "cell_type": "code",
      "source": [],
      "metadata": {
        "id": "lAeIJnoY1b42"
      },
      "execution_count": null,
      "outputs": []
    }
  ]
}