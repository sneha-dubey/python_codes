{
  "nbformat": 4,
  "nbformat_minor": 0,
  "metadata": {
    "colab": {
      "provenance": []
    },
    "kernelspec": {
      "name": "python3",
      "display_name": "Python 3"
    },
    "language_info": {
      "name": "python"
    }
  },
  "cells": [
    {
      "cell_type": "markdown",
      "source": [
        "1. How do you distinguish between shutil.copy() and shutil.copytree()?\n",
        "\n",
        "Answer: shutil.copy() : It will copy a single file.\n",
        "shutil.copytree() : It will copy an entire folder and every folder with all its contents that is files."
      ],
      "metadata": {
        "id": "mGOJsmAhqQ3t"
      }
    },
    {
      "cell_type": "markdown",
      "source": [
        "2. What function is used to rename files?\n",
        "\n",
        "Answer: first we import os module, then we use os.rename() function to rename file."
      ],
      "metadata": {
        "id": "snmgCQ-7sxNC"
      }
    },
    {
      "cell_type": "code",
      "source": [
        "# import os\n",
        "# os.rename(old_name, new_name)"
      ],
      "metadata": {
        "id": "7yX9ZCVeufb7"
      },
      "execution_count": 1,
      "outputs": []
    },
    {
      "cell_type": "markdown",
      "source": [
        "3. What is the difference between the delete functions in the send2trash and shutil modules?\n",
        "\n",
        "Answer: The send2trash functions will move a file or folder to the recycle bin, while shutil functions will permanently delete files and folders."
      ],
      "metadata": {
        "id": "gYMRlVDyuber"
      }
    },
    {
      "cell_type": "markdown",
      "source": [
        "4.ZipFile objects have a close() method just like File objects’ close() method. What ZipFile method is equivalent to File objects’ open() method?\n",
        "\n",
        "Answer: zipfile.ZipFile() function is equivalent to the open() function; the first argument is the filename, and the second argument is the mode to open the zip file in (read/write/append) mode."
      ],
      "metadata": {
        "id": "oMq2S8gnuhGj"
      }
    },
    {
      "cell_type": "markdown",
      "source": [
        "5. Create a programme that searches a folder tree for files with a certain file extension (such as .pdf or .jpg). Copy these files from whatever location they are in to a new folder.\n",
        "\n",
        "Answer:\n"
      ],
      "metadata": {
        "id": "26fTjVBhumzy"
      }
    },
    {
      "cell_type": "code",
      "source": [
        "import os, shutil\n",
        "\n",
        "sourcePath = input('Enter the absolute path of the source folder: ')\n",
        "fileExtType = input('Enter the type of file to copy (such as .pdf or .jpg): ').lower()\n",
        "destPath = input('Enter the absolute path of the destination folder: ')\n",
        "\n",
        "for foldername, subfolders, filenames in os.walk(sourcePath):\n",
        "  for filename in filenames:\n",
        "    if filename.lower().endswith(fileExtType):\n",
        "      #print(foldername + ‘\\\\’ + filename)\n",
        "      copySourcePath = os.path.join(foldername, filename)\n",
        "      #print(copySourcePath)\n",
        "      shutil.copy(copySourcePath, destPath)\n",
        "    else:\n",
        "        continue"
      ],
      "metadata": {
        "id": "JguPDSPAp4nU"
      },
      "execution_count": null,
      "outputs": []
    },
    {
      "cell_type": "code",
      "source": [],
      "metadata": {
        "id": "ZKkLY-AdZ99i"
      },
      "execution_count": null,
      "outputs": []
    }
  ]
}