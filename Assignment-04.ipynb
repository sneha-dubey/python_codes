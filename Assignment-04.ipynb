{
 "cells": [
  {
   "cell_type": "raw",
   "id": "57b97020",
   "metadata": {
    "raw_mimetype": "text/x-python"
   },
   "source": [
    "1. What exactly is []?\n",
    "\n",
    "Answer: This is empty list value that contains no value."
   ]
  },
  {
   "cell_type": "raw",
   "id": "847dac0f",
   "metadata": {
    "raw_mimetype": "text/x-python"
   },
   "source": [
    "2. In a list of values stored in a variable called spam, how would you assign the value 'hello' as the third value? (Assume [2, 4, 6, 8, 10] are in spam.)\n",
    "\n",
    "Answer: spam[2]='hello'\n",
    "        print(spam)"
   ]
  },
  {
   "cell_type": "code",
   "execution_count": 4,
   "id": "24ac6969",
   "metadata": {},
   "outputs": [
    {
     "name": "stdout",
     "output_type": "stream",
     "text": [
      "[2, 4, 'hello', 8, 10]\n"
     ]
    }
   ],
   "source": [
    "spam=[2,4,6,8,10]\n",
    "spam[2]='hello'\n",
    "print(spam)"
   ]
  },
  {
   "cell_type": "raw",
   "id": "a28987ed",
   "metadata": {
    "raw_mimetype": "text/x-python"
   },
   "source": [
    "Let's pretend the spam includes the list ['a', 'b', 'c', 'd'] for the next three queries.\n",
    "\n",
    "3. What is the value of spam[int(int('3' * 2) / 11)]?\n",
    "\n",
    "Answer: ['a', 'b', 'c', 'd']"
   ]
  },
  {
   "cell_type": "code",
   "execution_count": 6,
   "id": "2ec8ab6c",
   "metadata": {},
   "outputs": [
    {
     "name": "stdout",
     "output_type": "stream",
     "text": [
      "['a', 'b', 'c', 'd']\n"
     ]
    }
   ],
   "source": [
    "spam=['a', 'b', 'c', 'd']\n",
    "spam[int(int('3' * 2) / 11)]\n",
    "print(spam)"
   ]
  },
  {
   "cell_type": "raw",
   "id": "608a88a8",
   "metadata": {
    "raw_mimetype": "text/x-python"
   },
   "source": [
    "4. What is the value of spam[-1]?\n",
    "\n",
    "Answer: 'd'"
   ]
  },
  {
   "cell_type": "code",
   "execution_count": 8,
   "id": "aff96169",
   "metadata": {},
   "outputs": [
    {
     "data": {
      "text/plain": [
       "'d'"
      ]
     },
     "execution_count": 8,
     "metadata": {},
     "output_type": "execute_result"
    }
   ],
   "source": [
    "spam=['a', 'b', 'c', 'd']\n",
    "spam[-1]"
   ]
  },
  {
   "cell_type": "raw",
   "id": "c961104d",
   "metadata": {
    "raw_mimetype": "text/x-python"
   },
   "source": [
    "5. What is the value of spam[:2]?\n",
    "\n",
    "Answer:['a', 'b']"
   ]
  },
  {
   "cell_type": "code",
   "execution_count": 11,
   "id": "a272c483",
   "metadata": {},
   "outputs": [
    {
     "data": {
      "text/plain": [
       "['a', 'b']"
      ]
     },
     "execution_count": 11,
     "metadata": {},
     "output_type": "execute_result"
    }
   ],
   "source": [
    "spam=['a', 'b', 'c', 'd']\n",
    "spam[:2]"
   ]
  },
  {
   "cell_type": "raw",
   "id": "21668337",
   "metadata": {
    "raw_mimetype": "text/x-python"
   },
   "source": [
    "Let's pretend bacon has the list [3.14, 'cat,' 11, 'cat,' True] for the next three questions.\n",
    "\n",
    "6. What is the value of bacon.index('cat')?\n",
    "\n",
    "Answer: 1 , because index gives index of first element in the list."
   ]
  },
  {
   "cell_type": "code",
   "execution_count": 15,
   "id": "ebb84940",
   "metadata": {},
   "outputs": [
    {
     "data": {
      "text/plain": [
       "1"
      ]
     },
     "execution_count": 15,
     "metadata": {},
     "output_type": "execute_result"
    }
   ],
   "source": [
    "bacon= [3.14, 'cat', 11, 'cat', True]\n",
    "bacon.index('cat')"
   ]
  },
  {
   "cell_type": "raw",
   "id": "37c53571",
   "metadata": {
    "raw_mimetype": "text/x-python"
   },
   "source": [
    "7. How does bacon.append(99) change the look of the list value in bacon?\n",
    "\n",
    "Answer: [3.14, 'cat', 11, 'cat', True, 99]"
   ]
  },
  {
   "cell_type": "code",
   "execution_count": 19,
   "id": "7eed0df2",
   "metadata": {},
   "outputs": [
    {
     "data": {
      "text/plain": [
       "[3.14, 'cat', 11, 'cat', True, 99]"
      ]
     },
     "execution_count": 19,
     "metadata": {},
     "output_type": "execute_result"
    }
   ],
   "source": [
    "bacon= [3.14, 'cat', 11, 'cat', True]\n",
    "bacon.append(99)\n",
    "bacon"
   ]
  },
  {
   "cell_type": "raw",
   "id": "d85a6403",
   "metadata": {
    "raw_mimetype": "text/x-python"
   },
   "source": [
    "8. How does bacon.remove('cat') change the look of the list in bacon?\n",
    "\n",
    "Answer:[3.14, 11, 'cat', True]"
   ]
  },
  {
   "cell_type": "code",
   "execution_count": 21,
   "id": "eeef3093",
   "metadata": {},
   "outputs": [
    {
     "data": {
      "text/plain": [
       "[3.14, 11, 'cat', True]"
      ]
     },
     "execution_count": 21,
     "metadata": {},
     "output_type": "execute_result"
    }
   ],
   "source": [
    "bacon= [3.14, 'cat', 11, 'cat', True]\n",
    "bacon.remove('cat')\n",
    "bacon"
   ]
  },
  {
   "cell_type": "raw",
   "id": "bf7268f1",
   "metadata": {
    "raw_mimetype": "text/x-python"
   },
   "source": [
    "9. What are the list concatenation and list replication operators?\n",
    "\n",
    "Answer: list concatenation operator is '+' and list replication operator is '*'."
   ]
  },
  {
   "cell_type": "raw",
   "id": "7f9a7fb7",
   "metadata": {
    "raw_mimetype": "text/x-python"
   },
   "source": [
    "10. What is difference between the list methods append() and insert()?\n",
    "\n",
    "Answer: .append() method adds an item to the end of the list while .insert() method inserts item on specified position in the list."
   ]
  },
  {
   "cell_type": "raw",
   "id": "0239bee2",
   "metadata": {
    "raw_mimetype": "text/x-python"
   },
   "source": [
    "11. What are the two methods for removing items from a list?\n",
    "\n",
    "Answer: .pop() , .remove() , .clear() are these methods."
   ]
  },
  {
   "cell_type": "raw",
   "id": "a1ee5bdb",
   "metadata": {
    "raw_mimetype": "text/x-python"
   },
   "source": [
    "12. Describe how list values and string values are identical.\n",
    "\n",
    "Answer: String values are the number of characters in the string and list values are the number of items in the list."
   ]
  },
  {
   "cell_type": "raw",
   "id": "76509fc2",
   "metadata": {
    "raw_mimetype": "text/x-python"
   },
   "source": [
    "13. What's the difference between tuples and lists?\n",
    "\n",
    "Answer:Tuples are immutable and lists are mutable.\n",
    "Tuples are enclosed with () and lists are enclosed with [] .\n",
    "Tuples consume less memory and list consume more memory."
   ]
  },
  {
   "cell_type": "raw",
   "id": "52166696",
   "metadata": {
    "raw_mimetype": "text/x-python"
   },
   "source": [
    "14. How do you type a tuple value that only contains the integer 42?\n",
    "\n",
    "Answer: (42,)"
   ]
  },
  {
   "cell_type": "code",
   "execution_count": 26,
   "id": "07b9b2f3",
   "metadata": {},
   "outputs": [
    {
     "data": {
      "text/plain": [
       "tuple"
      ]
     },
     "execution_count": 26,
     "metadata": {},
     "output_type": "execute_result"
    }
   ],
   "source": [
    "a=(42,)\n",
    "type(a)"
   ]
  },
  {
   "cell_type": "raw",
   "id": "1c62ab14",
   "metadata": {
    "raw_mimetype": "text/x-python"
   },
   "source": [
    "15. How do you get a list value's tuple form? How do you get a tuple value's list form?\n",
    "\n",
    "Answer:tuple() method and list() method."
   ]
  },
  {
   "cell_type": "raw",
   "id": "c42821ae",
   "metadata": {
    "raw_mimetype": "text/x-python"
   },
   "source": [
    "16. Variables that \"contain\" list values are not necessarily lists themselves. Instead, what do they contain?\n",
    "\n",
    "Answer:variables will contain refrences to list values rather than list values themselves. Butt for integer or string values, variables simply contain the string or integer value."
   ]
  },
  {
   "cell_type": "raw",
   "id": "e8a49258",
   "metadata": {
    "raw_mimetype": "text/x-python"
   },
   "source": [
    "17. How do you distinguish between copy.copy() and copy.deepcopy()?\n",
    "\n",
    "Answer:The copy.copy() returns a shallow copy of the list and copy.deepcopy() returns a deep copy of the list."
   ]
  },
  {
   "cell_type": "code",
   "execution_count": null,
   "id": "8b77520c",
   "metadata": {},
   "outputs": [],
   "source": []
  }
 ],
 "metadata": {
  "celltoolbar": "Raw Cell Format",
  "kernelspec": {
   "display_name": "Python 3",
   "language": "python",
   "name": "python3"
  },
  "language_info": {
   "codemirror_mode": {
    "name": "ipython",
    "version": 3
   },
   "file_extension": ".py",
   "mimetype": "text/x-python",
   "name": "python",
   "nbconvert_exporter": "python",
   "pygments_lexer": "ipython3",
   "version": "3.8.8"
  }
 },
 "nbformat": 4,
 "nbformat_minor": 5
}
