{
  "nbformat": 4,
  "nbformat_minor": 0,
  "metadata": {
    "colab": {
      "provenance": []
    },
    "kernelspec": {
      "name": "python3",
      "display_name": "Python 3"
    },
    "language_info": {
      "name": "python"
    }
  },
  "cells": [
    {
      "cell_type": "markdown",
      "source": [
        "1. Write a Python Program to Display Fibonacci Sequence Using Recursion?"
      ],
      "metadata": {
        "id": "1vTVgjkMAk3n"
      }
    },
    {
      "cell_type": "code",
      "source": [
        "def fibonacci(n):\n",
        "    if n <= 0:\n",
        "        return 0\n",
        "    elif n == 1:\n",
        "        return 1\n",
        "    else:\n",
        "        return fibonacci(n-1) + fibonacci(n-2)\n",
        "\n",
        "n = int(input(\"Enter the number of terms: \"))\n",
        "\n",
        "print(\"The Fibonacci sequence:\")\n",
        "for i in range(n):\n",
        "    print(fibonacci(i), end=\", \")\n"
      ],
      "metadata": {
        "id": "h564CWJAA9HR",
        "colab": {
          "base_uri": "https://localhost:8080/"
        },
        "outputId": "ff1256fb-d483-4635-ebe4-2ed1d9dca72b"
      },
      "execution_count": 5,
      "outputs": [
        {
          "output_type": "stream",
          "name": "stdout",
          "text": [
            "Enter the number of terms: 6\n",
            "The Fibonacci sequence:\n",
            "0, 1, 1, 2, 3, 5, "
          ]
        }
      ]
    },
    {
      "cell_type": "markdown",
      "source": [
        "2. Write a Python Program to Find Factorial of Number Using Recursion?"
      ],
      "metadata": {
        "id": "aGPaFuLsBECB"
      }
    },
    {
      "cell_type": "code",
      "source": [
        "def factorial(n):\n",
        "    if n == 0:\n",
        "        return 1\n",
        "    else:\n",
        "        return n * factorial(n-1)\n",
        "\n",
        "n = int(input(\"Enter a number: \"))\n",
        "print(\"The factorial of\", n, \"is:\", factorial(n))"
      ],
      "metadata": {
        "id": "YBDa4tbsBIN9",
        "colab": {
          "base_uri": "https://localhost:8080/"
        },
        "outputId": "9c60500e-e352-497c-fc10-b5613b530465"
      },
      "execution_count": 4,
      "outputs": [
        {
          "output_type": "stream",
          "name": "stdout",
          "text": [
            "Enter a number: 5\n",
            "The factorial of 5 is: 120\n"
          ]
        }
      ]
    },
    {
      "cell_type": "markdown",
      "source": [
        "3. Write a Python Program to calculate your Body Mass Index?"
      ],
      "metadata": {
        "id": "-olG75mBBNqs"
      }
    },
    {
      "cell_type": "code",
      "source": [
        "def calculate_bmi(weight, height):\n",
        "    bmi = weight / (height**2)\n",
        "    return bmi\n",
        "\n",
        "weight = float(input(\"Enter your weight in kilograms: \"))\n",
        "height = float(input(\"Enter your height in meters: \"))\n",
        "\n",
        "bmi = calculate_bmi(weight, height)\n",
        "print(\"Your Body Mass Index is:\", bmi)\n"
      ],
      "metadata": {
        "id": "jrSuvwL6BVOx",
        "colab": {
          "base_uri": "https://localhost:8080/"
        },
        "outputId": "12e5ba95-77db-40ea-b0e9-4cba20ddd739"
      },
      "execution_count": 3,
      "outputs": [
        {
          "output_type": "stream",
          "name": "stdout",
          "text": [
            "Enter your weight in kilograms: 45\n",
            "Enter your height in meters: 165\n",
            "Your Body Mass Index is: 0.001652892561983471\n"
          ]
        }
      ]
    },
    {
      "cell_type": "markdown",
      "source": [
        "4. Write a Python Program to calculate the natural logarithm of any number?"
      ],
      "metadata": {
        "id": "8A-ooAtkBVys"
      }
    },
    {
      "cell_type": "code",
      "source": [
        "import math\n",
        "def log_e(x):\n",
        "  return math.log(x)\n",
        "\n",
        "x=float(input(\"Enter a number: \"))\n",
        "print(\"The natural logarithm of any number of\", x,\"is\", log_e(x))"
      ],
      "metadata": {
        "id": "rKzwJWjBBfNZ",
        "colab": {
          "base_uri": "https://localhost:8080/"
        },
        "outputId": "9b50c7fc-8ad7-42df-eab1-374b893fbb67"
      },
      "execution_count": 2,
      "outputs": [
        {
          "output_type": "stream",
          "name": "stdout",
          "text": [
            "Enter a number: 6\n",
            "The natural logarithm of any number of 6.0 is 1.791759469228055\n"
          ]
        }
      ]
    },
    {
      "cell_type": "markdown",
      "source": [
        "5. Write a Python Program for cube sum of first n natural numbers?"
      ],
      "metadata": {
        "id": "bS0p3AotBiGb"
      }
    },
    {
      "cell_type": "code",
      "source": [
        "def cube_sum(n):\n",
        "    sum = 0\n",
        "    for i in range(1, n+1):\n",
        "        sum += i**3\n",
        "    return sum\n",
        "\n",
        "n = int(input(\"Enter the value of n: \"))\n",
        "print(\"The cube sum of the first\", n, \"natural numbers is:\", cube_sum(n))\n"
      ],
      "metadata": {
        "id": "5lFTg2IABoya",
        "colab": {
          "base_uri": "https://localhost:8080/"
        },
        "outputId": "9ae292c5-5403-4608-85a7-f062eed17dfb"
      },
      "execution_count": 1,
      "outputs": [
        {
          "output_type": "stream",
          "name": "stdout",
          "text": [
            "Enter the value of n: 6\n",
            "The cube sum of the first 6 natural numbers is: 441\n"
          ]
        }
      ]
    },
    {
      "cell_type": "code",
      "source": [],
      "metadata": {
        "id": "OrutPLy8dNZz"
      },
      "execution_count": null,
      "outputs": []
    }
  ]
}