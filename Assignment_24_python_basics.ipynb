{
  "nbformat": 4,
  "nbformat_minor": 0,
  "metadata": {
    "colab": {
      "provenance": []
    },
    "kernelspec": {
      "name": "python3",
      "display_name": "Python 3"
    },
    "language_info": {
      "name": "python"
    }
  },
  "cells": [
    {
      "cell_type": "markdown",
      "source": [
        "1. What is the relationship between def statements and lambda expressions ?\n",
        "\n",
        "Answer:A def statement is used to define a function while a lambda expression is used to create an anonymous function. Lambda expression are generally used for small, one time functions, while def statements are used for more complex and reusable functions."
      ],
      "metadata": {
        "id": "puKbj89w7SVC"
      }
    },
    {
      "cell_type": "code",
      "source": [
        "def square(a):\n",
        "  return a*a"
      ],
      "metadata": {
        "id": "94qAac4XPZhY"
      },
      "execution_count": 2,
      "outputs": []
    },
    {
      "cell_type": "code",
      "source": [
        "a=2\n",
        "print(lambda x:a+1)"
      ],
      "metadata": {
        "colab": {
          "base_uri": "https://localhost:8080/"
        },
        "id": "lC4CFgQPQD5L",
        "outputId": "355fd66a-6a78-48ec-fbd0-ea852c475a2c"
      },
      "execution_count": 3,
      "outputs": [
        {
          "output_type": "stream",
          "name": "stdout",
          "text": [
            "<function <lambda> at 0x7f7a55ef8b80>\n"
          ]
        }
      ]
    },
    {
      "cell_type": "markdown",
      "source": [
        "2. What is the benefit of lambda?\n",
        "\n",
        "Answer:Lambda function can make the code more readable, especially when a function is used only once. Lambda expressions allow for the creation of small, anonymous functions that can be easily defined and passed as arguments to other functions. Lambda expressions are also usefull when working with functional programming constructs such as map() and filter()."
      ],
      "metadata": {
        "id": "lsOFWavm7V1C"
      }
    },
    {
      "cell_type": "markdown",
      "source": [
        "3. Compare and contrast map, filter, and reduce.\n",
        "\n",
        "Answer:map() iterates through all items in the given iterable and executes the function we passed as an argument on each of them.\n",
        "syntax: map(function, iterables)\n",
        "\n",
        "filter() returns boolean value for each iterable. filter takes two arguments, function and iterable.\n",
        "\n",
        "reduce() : It is a function of functool module in python which takes two arguments, first is function and other is iterable.\n",
        "whenever we use reduce function, instead of giving another iterable it returns single value.\n"
      ],
      "metadata": {
        "id": "cSE6L_xQ7gAc"
      }
    },
    {
      "cell_type": "code",
      "source": [
        "import functools\n",
        "def add(x,y):\n",
        "  return x+y\n",
        "num=functools.reduce(add,range(4,8))\n",
        "print(num)"
      ],
      "metadata": {
        "colab": {
          "base_uri": "https://localhost:8080/"
        },
        "id": "_S-OlfkagSbD",
        "outputId": "1810681e-5e51-41eb-f938-e25ca9a2c07e"
      },
      "execution_count": 5,
      "outputs": [
        {
          "output_type": "stream",
          "name": "stdout",
          "text": [
            "22\n"
          ]
        }
      ]
    },
    {
      "cell_type": "markdown",
      "source": [
        "4. What are function annotations, and how are they used?\n",
        "\n",
        "Answer:Function annotations are added to a function by specifying the name of the parameter, followed by a colon, and then the type of the parameter .\n",
        "The annotations are just there as a documentation and can be accessed via the __annotations__ attribute of the function. Functions annotations are optional, and not all functions need to have them. but it's good practice to use because they can make the code more readable and maintainable."
      ],
      "metadata": {
        "id": "2SOiN0o37lCe"
      }
    },
    {
      "cell_type": "code",
      "source": [
        "def add(x: int, y: int) -> int:\n",
        "    return x + y\n"
      ],
      "metadata": {
        "id": "FUSLRidLApwF"
      },
      "execution_count": 1,
      "outputs": []
    },
    {
      "cell_type": "markdown",
      "source": [
        "5. What are recursive functions, and how are they used?\n",
        "\n",
        "Answer:A function which calls itself from its previous value to generate subsequent value.\n",
        "Some common examples include traversing and manipulating tree data structures, and implementing certain algorithms such as the well-known \"Tower of Hanoi\" problem."
      ],
      "metadata": {
        "id": "7nRpSWLO7psG"
      }
    },
    {
      "cell_type": "markdown",
      "source": [
        "6. What are some general design guidelines for coding functions?\n",
        "\n",
        "Answer: \n",
        "\n",
        "1.   use comments or docstrings to explain the purpose and behaviour of the function.\n",
        "2.   Try to make functions reusable.\n",
        "3. use clear identation.\n",
        "4. Use appropriate error handling and exception method.\n",
        "5. use clear and consistent naming convention.\n",
        "6.use appropriate data types for function parameters and return values."
      ],
      "metadata": {
        "id": "vx6R919I7uJ8"
      }
    },
    {
      "cell_type": "markdown",
      "source": [
        "7. Name three or more ways that functions can communicate results to a caller.\n",
        "\n",
        "Answer: \n",
        "1. Return values: Functions can communicate results to a caller by returning a value or a set of values.\n",
        "2. side effects: Functions can also communicate results to a caller by modifying the state of the program.\n",
        "3.Exceptions: Functions can communicate results to a caller by raising an exception, which the caller can then catch and handle appropriately.\n",
        "4.callback or event: Functions can communicate results by invoking a callback function or triggering an event."
      ],
      "metadata": {
        "id": "FB3PiZYF7yF_"
      }
    }
  ]
}