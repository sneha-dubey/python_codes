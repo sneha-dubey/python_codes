{
  "nbformat": 4,
  "nbformat_minor": 0,
  "metadata": {
    "colab": {
      "provenance": []
    },
    "kernelspec": {
      "name": "python3",
      "display_name": "Python 3"
    },
    "language_info": {
      "name": "python"
    }
  },
  "cells": [
    {
      "cell_type": "markdown",
      "source": [
        "1. To what does a relative path refer?\n",
        "\n",
        "Answer:A relative path refers to a location that is relative to a current directory."
      ],
      "metadata": {
        "id": "k4xY9vIOjbHv"
      }
    },
    {
      "cell_type": "markdown",
      "source": [
        "2. What does an absolute path start with your operating system?\n",
        "\n",
        "Answer:An absolute path is a complete path from start of actual filesystem from  / directory."
      ],
      "metadata": {
        "id": "gRHLkZhqtyFW"
      }
    },
    {
      "cell_type": "markdown",
      "source": [
        "3. What do the functions os.getcwd() and os.chdir() do?\n",
        "\n",
        "Answer: os.getcwd(): cwd stands for Current Working Directory. This function gives us current working directory in which you are working currently.\n",
        "\n",
        "os.chdir() : chdir stands for CHange DIRectory. This function allows us to set the current working directory to a path of our choice."
      ],
      "metadata": {
        "id": "m-sO19nmvPC5"
      }
    },
    {
      "cell_type": "markdown",
      "source": [
        "4. What are the . and .. folders?\n",
        "\n",
        "Answer: Relative paths make use of two special symbols, a dot(.) and a double-dot(..) which translate into the current directory and the parent directory respectively."
      ],
      "metadata": {
        "id": "vK61_4Z-yF0k"
      }
    },
    {
      "cell_type": "markdown",
      "source": [
        "5. In C:\\bacon\\eggs\\spam.txt, which part is the dir name, and which part is the base name?\n",
        "\n",
        "Answer: 'C:\\bacon\\eggs' is the dir name, while 'spam.txt' is the base name."
      ],
      "metadata": {
        "id": "-HwY_JCUhElJ"
      }
    },
    {
      "cell_type": "markdown",
      "source": [
        "6. What are the three “mode” arguments that can be passed to the open() function?\n",
        "\n",
        "Answer: syntax: open(file_name, mode)\n",
        "\n",
        "'r' :this string is used to read(only) the file.\n",
        "'w': This string is used for writing on/over the file.\n",
        "'a': This string is used to add(append) content to an existing file. if no such file exists, it creates one for you."
      ],
      "metadata": {
        "id": "upeeGdERhtsX"
      }
    },
    {
      "cell_type": "markdown",
      "source": [
        "7. What happens if an existing file is opened in write mode?\n",
        "\n",
        "Answer: If a file with the same name already exists, its contents are discarded and the file is treated as a new empty file."
      ],
      "metadata": {
        "id": "3BBfELszja7K"
      }
    },
    {
      "cell_type": "markdown",
      "source": [
        "8. How do you tell the difference between read() and readlines()?\n",
        "\n",
        "Answer: read() will read the whole file at once and then print out the first character that take up as many bytes as you specify in parenthesis.\n",
        "\n",
        "readlines() will read and print out only the first characters that take up as many bytes as you specify in the parenthesis."
      ],
      "metadata": {
        "id": "0FKWGNUSknAO"
      }
    },
    {
      "cell_type": "markdown",
      "source": [
        "9. What data structure does a shelf value resemble?\n",
        "\n",
        "Answer: A shelf value resembles a dictionary value. It has keys and values along with keys() and values() method."
      ],
      "metadata": {
        "id": "jh7dAVh0mCct"
      }
    },
    {
      "cell_type": "code",
      "source": [],
      "metadata": {
        "id": "HHa-JGAPnAKZ"
      },
      "execution_count": null,
      "outputs": []
    }
  ]
}