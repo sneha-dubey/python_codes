{
  "nbformat": 4,
  "nbformat_minor": 0,
  "metadata": {
    "colab": {
      "provenance": []
    },
    "kernelspec": {
      "name": "python3",
      "display_name": "Python 3"
    },
    "language_info": {
      "name": "python"
    }
  },
  "cells": [
    {
      "cell_type": "markdown",
      "source": [
        "1.) Write a program that calculates and prints the value according to the given formula:\n",
        "\n",
        "Q = Square root of [(2 * C * D)/H]\n",
        "\n",
        "Following are the fixed values of C and H:\n",
        "C is 50. H is 30.\n",
        "\n",
        "D is the variable whose values should be input to your program in a comma-separated\n",
        "sequence.\n",
        "\n",
        "Example\n",
        "Let us assume the following comma separated input sequence is given to the program:\n",
        "100,150,180\n",
        "\n",
        "The output of the program should be:\n",
        "18,22,24"
      ],
      "metadata": {
        "id": "D7wu8hLugHDw"
      }
    },
    {
      "cell_type": "code",
      "source": [
        "import math\n",
        "C=50\n",
        "H=30\n",
        "num=input(\"Enter a comma-separated sequence of values for D: \")\n",
        "D=[int(i) for i in num.split(\",\")]\n",
        "for D in D:\n",
        "  q=round(math.sqrt((2 * C * D)/H))\n",
        "  print(q)"
      ],
      "metadata": {
        "colab": {
          "base_uri": "https://localhost:8080/"
        },
        "id": "FOT4HOSygInM",
        "outputId": "bfa03927-a746-4de9-aedd-ef9fa203f23e"
      },
      "execution_count": null,
      "outputs": [
        {
          "output_type": "stream",
          "name": "stdout",
          "text": [
            "Enter a comma-separated sequence of values for D: 100,150,180\n",
            "18\n",
            "22\n",
            "24\n"
          ]
        }
      ]
    },
    {
      "cell_type": "markdown",
      "source": [
        "Question 2.) Write a program which takes 2 digits, X,Y as input and generates a 2-dimensional array. The\n",
        "element value in the i-th row and j-th column of the array should be i*j.\n",
        "\n",
        "Note: i=0,1.., X-1; j=0,1,¡Y-1.\n",
        "Example\n",
        "Suppose the following inputs are given to the program:\n",
        "3,5\n",
        "\n",
        "Then, the output of the program should be:\n",
        "\n",
        "[[0, 0, 0, 0, 0], [0, 1, 2, 3, 4], [0, 2, 4, 6, 8]]"
      ],
      "metadata": {
        "id": "nuBafPxAi0TC"
      }
    },
    {
      "cell_type": "code",
      "source": [
        "x,y=map(int,input('Enter two digits, x,y separated by a comma: ').split(','))\n",
        "array=[[i*j for j in range(y)] for i in range(x)]\n",
        "\n",
        "for row in array:\n",
        "  print(row)"
      ],
      "metadata": {
        "colab": {
          "base_uri": "https://localhost:8080/"
        },
        "id": "txXY2e3Oi8sr",
        "outputId": "82ca755f-214f-418f-f4dc-8279c693a071"
      },
      "execution_count": null,
      "outputs": [
        {
          "output_type": "stream",
          "name": "stdout",
          "text": [
            "Enter two digits, x,y separated by a comma: 3,5\n",
            "[0, 0, 0, 0, 0]\n",
            "[0, 1, 2, 3, 4]\n",
            "[0, 2, 4, 6, 8]\n"
          ]
        }
      ]
    },
    {
      "cell_type": "markdown",
      "source": [
        "Question 3.) Write a program that accepts a comma separated sequence of words as input and prints the\n",
        "words in a comma-separated sequence after sorting them alphabetically.\n",
        "\n",
        "Suppose the following input is supplied to the program:\n",
        "\n",
        "without,hello,bag,world\n",
        "\n",
        "Then, the output should be:\n",
        "bag,hello,without,world"
      ],
      "metadata": {
        "id": "_PjRB0FflHzn"
      }
    },
    {
      "cell_type": "code",
      "source": [
        "def sort_words(words):\n",
        "  list_words=words.split(',')\n",
        "  list_words.sort()\n",
        "  return ','.join(list_words)\n",
        "\n",
        "words=input('Enter the comma separated words: ')\n",
        "print('Sorted words:',sort_words(words))"
      ],
      "metadata": {
        "colab": {
          "base_uri": "https://localhost:8080/"
        },
        "id": "AKtdUmjSyneK",
        "outputId": "675d6ea1-5b33-4e60-d230-987285310243"
      },
      "execution_count": 4,
      "outputs": [
        {
          "output_type": "stream",
          "name": "stdout",
          "text": [
            "Enter the comma separated words: without ,hello, bag, world\n",
            "Sorted words:  bag, world,hello,without \n"
          ]
        }
      ]
    },
    {
      "cell_type": "markdown",
      "source": [
        "Question 4.) Write a program that accepts a sequence of whitespace separated words as input and prints\n",
        "the words after removing all duplicate words and sorting them alphanumerically.\n",
        "\n",
        "Suppose the following input is supplied to the program:\n",
        "\n",
        "hello world and practice makes perfect and hello world again\n",
        "\n",
        "Then, the output should be:\n",
        "\n",
        "again and hello makes perfect practice world"
      ],
      "metadata": {
        "id": "ua4LZg1_liO7"
      }
    },
    {
      "cell_type": "code",
      "source": [
        "def sort_remove_duplicates(words):\n",
        "  list_words=words.split()\n",
        "  list_words=list(set(list_words))\n",
        "  list_words.sort()\n",
        "  return ' '.join(list_words)\n",
        "\n",
        "words=input('Enter the comma separated words: ')\n",
        "print('Sorted words:',sort_remove_duplicates(words))"
      ],
      "metadata": {
        "id": "aBDYlQMTlvUe",
        "colab": {
          "base_uri": "https://localhost:8080/"
        },
        "outputId": "264979b0-62be-4309-849f-9f305e98998d"
      },
      "execution_count": 5,
      "outputs": [
        {
          "output_type": "stream",
          "name": "stdout",
          "text": [
            "Enter the comma separated words: hello world and practice makes perfect and hello world again\n",
            "Sorted words: again and hello makes perfect practice world\n"
          ]
        }
      ]
    },
    {
      "cell_type": "markdown",
      "source": [
        "Question 5.) Write a program that accepts a sentence and calculate the number of letters and digits.\n",
        "\n",
        "Suppose the following input is supplied to the program:\n",
        "\n",
        "hello world! 123\n",
        "\n",
        "Then, the output should be:\n",
        "\n",
        "LETTERS 10\n",
        "\n",
        "DIGITS 3"
      ],
      "metadata": {
        "id": "xM3rU_Swlz_T"
      }
    },
    {
      "cell_type": "code",
      "source": [
        "def count_letters_digits(sentence):\n",
        "  letters=0\n",
        "  digits=0\n",
        "  for i in sentence:\n",
        "    if i.isalpha():\n",
        "      letters += 1\n",
        "    elif i.isdigit():\n",
        "      digits += 1\n",
        "  return (letters, digits)\n",
        "\n",
        "sentence=input('Enter a sentence: ')\n",
        "(letters,digits)=count_letters_digits(sentence)\n",
        "print('letters', letters)\n",
        "print('digits', digits)"
      ],
      "metadata": {
        "id": "Nc31KMUVl-BP",
        "colab": {
          "base_uri": "https://localhost:8080/"
        },
        "outputId": "d7955980-c6d2-4703-95a6-9316db56bbd5"
      },
      "execution_count": 11,
      "outputs": [
        {
          "output_type": "stream",
          "name": "stdout",
          "text": [
            "Enter a sentence: hello world! 123\n",
            "letters 10\n",
            "digits 3\n"
          ]
        }
      ]
    },
    {
      "cell_type": "markdown",
      "source": [
        "Question 6.) A website requires the users to input username and password to register. Write a program to\n",
        "check the validity of password input by users.\n",
        "\n",
        "Following are the criteria for checking the password:\n",
        "1. At least 1 letter between [a-z]\n",
        "2. At least 1 number between [0-9]\n",
        "1. At least 1 letter between [A-Z]\n",
        "3. At least 1 character from [$#@]\n",
        "4. Minimum length of transaction password: 6\n",
        "5. Maximum length of transaction password: 12\n",
        "\n",
        "Your program should accept a sequence of comma separated passwords and will check them\n",
        "according to the above criteria. Passwords that match the criteria are to be printed, each\n",
        "separated by a comma.\n",
        "\n",
        "Example\n",
        "If the following passwords are given as input to the program:\n",
        "ABd1234@1,a F1#,2w3E*,2We3345\n",
        "\n",
        "Then, the output of the program should be:\n",
        "ABd1234@1"
      ],
      "metadata": {
        "id": "n4-y9AQ3mLrT"
      }
    },
    {
      "cell_type": "code",
      "source": [
        "def is_valid_password(password):\n",
        "    if len(password) < 6 or len(password) > 12:\n",
        "        return False\n",
        "    has_lowercase = False\n",
        "    has_uppercase = False\n",
        "    has_digit = False\n",
        "    has_special = False\n",
        "    for char in password:\n",
        "        if char.islower():\n",
        "            has_lowercase = True\n",
        "        elif char.isupper():\n",
        "            has_uppercase = True\n",
        "        elif char.isdigit():\n",
        "            has_digit = True\n",
        "        elif char in \"$#@\":\n",
        "            has_special = True\n",
        "    return has_lowercase and has_uppercase and has_digit and has_special\n",
        "\n",
        "input_passwords = input(\"Enter a sequence of comma separated passwords: \").split(',')\n",
        "valid_passwords = [password for password in input_passwords if is_valid_password(password)]\n",
        "print(\"Valid Passwords:\", ','.join(valid_passwords))\n"
      ],
      "metadata": {
        "id": "PEkgK77UmX-P",
        "colab": {
          "base_uri": "https://localhost:8080/"
        },
        "outputId": "4a8bd3ac-d13d-47d0-e7a0-d37129e21f8c"
      },
      "execution_count": 2,
      "outputs": [
        {
          "output_type": "stream",
          "name": "stdout",
          "text": [
            "Enter a sequence of comma separated passwords: ABd1234@1,a F1#,2w3E*,2We3345\n",
            "Valid Passwords: ABd1234@1\n"
          ]
        }
      ]
    },
    {
      "cell_type": "code",
      "source": [],
      "metadata": {
        "id": "Vd73FoIbmhoF"
      },
      "execution_count": null,
      "outputs": []
    }
  ]
}