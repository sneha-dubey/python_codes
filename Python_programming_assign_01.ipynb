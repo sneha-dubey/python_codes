{
  "nbformat": 4,
  "nbformat_minor": 0,
  "metadata": {
    "colab": {
      "provenance": []
    },
    "kernelspec": {
      "name": "python3",
      "display_name": "Python 3"
    },
    "language_info": {
      "name": "python"
    }
  },
  "cells": [
    {
      "cell_type": "markdown",
      "source": [
        "1.\tWrite a Python program to print \"Hello Python\"?"
      ],
      "metadata": {
        "id": "IZofZy0XJYBG"
      }
    },
    {
      "cell_type": "code",
      "source": [
        "a=\"Hello Python\"\n",
        "print(a)"
      ],
      "metadata": {
        "colab": {
          "base_uri": "https://localhost:8080/"
        },
        "id": "PSHkg_00JjAR",
        "outputId": "46aec16c-e7a2-4df1-fa4a-68fbeeae682d"
      },
      "execution_count": 1,
      "outputs": [
        {
          "output_type": "stream",
          "name": "stdout",
          "text": [
            "Hello Python\n"
          ]
        }
      ]
    },
    {
      "cell_type": "markdown",
      "source": [
        "2.\tWrite a Python program to do arithmetical operations addition and division.?"
      ],
      "metadata": {
        "id": "2tysbW2BJv7g"
      }
    },
    {
      "cell_type": "code",
      "source": [
        "num1=10\n",
        "num2=5\n",
        "sum=num1+num2\n",
        "quotient=num1/num2\n",
        "print('The sum of', num1 , 'and' , num2 , 'is' , sum)\n",
        "print('The quotient of', num1, 'divided by', num2,'is',quotient)"
      ],
      "metadata": {
        "colab": {
          "base_uri": "https://localhost:8080/"
        },
        "id": "fvgXe2KBJ005",
        "outputId": "4f07372e-7287-4868-bea8-56c1fa0ff657"
      },
      "execution_count": 2,
      "outputs": [
        {
          "output_type": "stream",
          "name": "stdout",
          "text": [
            "The sum of 10 and 5 is 15\n",
            "The quotient of 10 divided by 5 is 2.0\n"
          ]
        }
      ]
    },
    {
      "cell_type": "markdown",
      "source": [
        "3.\tWrite a Python program to find the area of a triangle?"
      ],
      "metadata": {
        "id": "CB-uamUyLUFx"
      }
    },
    {
      "cell_type": "code",
      "source": [
        "base=float(input('enter the base of the triangle: '))\n",
        "height=float(input('enter the height of the triangle: '))\n",
        "area=(1/2)*base*height\n",
        "print('The area of the triangle is: ', area)"
      ],
      "metadata": {
        "colab": {
          "base_uri": "https://localhost:8080/"
        },
        "id": "SI16_eqqLYZb",
        "outputId": "10f591ef-f9ab-4053-b183-5eef9f619a7b"
      },
      "execution_count": 3,
      "outputs": [
        {
          "output_type": "stream",
          "name": "stdout",
          "text": [
            "enter the base of the triangle: 6\n",
            "enter the height of the triangle: 7\n",
            "The area of the triangle is:  21.0\n"
          ]
        }
      ]
    },
    {
      "cell_type": "markdown",
      "source": [
        "4.\tWrite a Python program to swap two variables?"
      ],
      "metadata": {
        "id": "Co-1_fGaNAZk"
      }
    },
    {
      "cell_type": "code",
      "source": [
        "x=5\n",
        "y=10\n",
        "x,y = y, x\n",
        "print('x=', x)\n",
        "print('y=', y)"
      ],
      "metadata": {
        "colab": {
          "base_uri": "https://localhost:8080/"
        },
        "id": "2W-MbyaMNIoP",
        "outputId": "49af74cb-180d-42bf-e3e8-3d4f4abba406"
      },
      "execution_count": 11,
      "outputs": [
        {
          "output_type": "stream",
          "name": "stdout",
          "text": [
            "x= 10\n",
            "y= 5\n"
          ]
        }
      ]
    },
    {
      "cell_type": "markdown",
      "source": [
        "5.\tWrite a Python program to generate a random number?"
      ],
      "metadata": {
        "id": "6iTXB1E1Rq41"
      }
    },
    {
      "cell_type": "code",
      "source": [
        "import random\n",
        "number=random.randint(1,100)\n",
        "print('The random number is', number)"
      ],
      "metadata": {
        "colab": {
          "base_uri": "https://localhost:8080/"
        },
        "id": "jqaqkq5mRujH",
        "outputId": "69e3c737-429d-4150-81db-a928d48d26b5"
      },
      "execution_count": 12,
      "outputs": [
        {
          "output_type": "stream",
          "name": "stdout",
          "text": [
            "The random number is 35\n"
          ]
        }
      ]
    },
    {
      "cell_type": "code",
      "source": [],
      "metadata": {
        "id": "4vU7h2zNSMLu"
      },
      "execution_count": null,
      "outputs": []
    }
  ]
}