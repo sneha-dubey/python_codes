{
  "nbformat": 4,
  "nbformat_minor": 0,
  "metadata": {
    "colab": {
      "provenance": []
    },
    "kernelspec": {
      "name": "python3",
      "display_name": "Python 3"
    },
    "language_info": {
      "name": "python"
    }
  },
  "cells": [
    {
      "cell_type": "markdown",
      "source": [
        "Question 1.) Please write a program using generator to print the numbers which can be divisible by 5 and\n",
        "7 between 0 and n in comma separated form while n is input by console.\n",
        "Example:\n",
        "If the following n is given as input to the program:\n",
        "100\n",
        "Then, the output of the program should be:\n",
        "0,35,70"
      ],
      "metadata": {
        "id": "a6VBvoQwl9pq"
      }
    },
    {
      "cell_type": "code",
      "source": [
        "def num_divisible_by_5_and_7(n):\n",
        "  for i in range(n+1):\n",
        "    if i%5==0 and i%7==0:\n",
        "      yield i\n",
        "\n",
        "n=int(input('Enter the number: '))\n",
        "result=','.join(str(i) for i in num_divisible_by_5_and_7(n))\n",
        "print('The number which can divisible by 7 and 5 between 0  and', n, ':',result)"
      ],
      "metadata": {
        "colab": {
          "base_uri": "https://localhost:8080/"
        },
        "id": "eDvl-cacmICt",
        "outputId": "09fafc18-cffe-4d59-d274-4ab7dc6eff35"
      },
      "execution_count": 4,
      "outputs": [
        {
          "output_type": "stream",
          "name": "stdout",
          "text": [
            "Enter the number: 100\n",
            "The number which can divisible by 7 and 5 between 0  and 100 : 0,35,70\n"
          ]
        }
      ]
    },
    {
      "cell_type": "markdown",
      "source": [
        "Question 2.)Please write a program using generator to print the even numbers between 0 and n in comma\n",
        "separated form while n is input by console.\n",
        "Example:\n",
        "If the following n is given as input to the program:\n",
        "10\n",
        "Then, the output of the program should be:\n",
        "0,2,4,6,8,10"
      ],
      "metadata": {
        "id": "iECvavpQmMby"
      }
    },
    {
      "cell_type": "code",
      "source": [
        "def even_num(n):\n",
        "  for i in range(n+1):\n",
        "    if i%2==0:\n",
        "      yield i\n",
        "    \n",
        "n=int(input('Enter the number: '))\n",
        "result=','.join(str(i) for i in even_num(n))\n",
        "print('The number which can divisible by 2 between 0 and', n, ':',result)\n"
      ],
      "metadata": {
        "colab": {
          "base_uri": "https://localhost:8080/"
        },
        "id": "I0d69EqgmRnc",
        "outputId": "a2063305-9828-4ab1-c975-a879972ae996"
      },
      "execution_count": 7,
      "outputs": [
        {
          "output_type": "stream",
          "name": "stdout",
          "text": [
            "Enter the number: 10\n",
            "The number which can divisible by 2 between 0 and 10 : 0,2,4,6,8,10\n"
          ]
        }
      ]
    },
    {
      "cell_type": "markdown",
      "source": [
        "Question 3.)The Fibonacci Sequence is computed based on the following formula:\n",
        "\n",
        "f(n)=0 if n=0\n",
        "\n",
        "f(n)=1 if n=1\n",
        "\n",
        "f(n)=f(n-1)+f(n-2) if n>1\n",
        "\n",
        "Please write a program using list comprehension to print the Fibonacci Sequence in comma\n",
        "separated form with a given n input by console.\n",
        "\n",
        "Example:\n",
        "If the following n is given as input to the program:\n",
        "\n",
        "7\n",
        "\n",
        "Then, the output of the program should be:\n",
        "0,1,1,2,3,5,8,13"
      ],
      "metadata": {
        "id": "3v6Ev9x-mT02"
      }
    },
    {
      "cell_type": "code",
      "source": [
        "def fibonacci(n):\n",
        "  if n==0:\n",
        "    return 0\n",
        "  elif n==1:\n",
        "    return 1\n",
        "  else:\n",
        "    return fibonacci(n-1) + fibonacci(n-2)\n",
        "\n",
        "n=int(input('Enter a number: '))\n",
        "fib_seq=[fibonacci(i) for i in range(n+1)]\n",
        "print('Fibonacci sequence with n=',n,':',','.join(str(i) for i in fib_seq))"
      ],
      "metadata": {
        "colab": {
          "base_uri": "https://localhost:8080/"
        },
        "id": "L9boIydomiC2",
        "outputId": "74420a2b-3c9b-4249-f8fb-3204516aff0e"
      },
      "execution_count": 8,
      "outputs": [
        {
          "output_type": "stream",
          "name": "stdout",
          "text": [
            "Enter a number: 7\n",
            "Fibonacci sequence with n= 7 : 0,1,1,2,3,5,8,13\n"
          ]
        }
      ]
    },
    {
      "cell_type": "markdown",
      "source": [
        "Question 4.) Assuming that we have some email addresses in the &quot;username@companyname.com&quot;;username@companyname.com&quot; format,\n",
        "please write program to print the user name of a given email address. Both user names and\n",
        "company names are composed of letters only.\n",
        "Example:\n",
        "If the following email address is given as input to the program:\n",
        "john@google.com\n",
        "Then, the output of the program should be:\n",
        "john"
      ],
      "metadata": {
        "id": "RfqxSIoRmkDa"
      }
    },
    {
      "cell_type": "code",
      "source": [
        "def extract_username(email):\n",
        "  return email.split('@')[0]\n",
        "\n",
        "email=input('Enter an email address: ')\n",
        "username=extract_username(email)\n",
        "print('username: ',username)"
      ],
      "metadata": {
        "colab": {
          "base_uri": "https://localhost:8080/"
        },
        "id": "6qKFeYKomxhX",
        "outputId": "dd4a8fe1-a1b9-4a73-bd4f-c3d23d000825"
      },
      "execution_count": 9,
      "outputs": [
        {
          "output_type": "stream",
          "name": "stdout",
          "text": [
            "Enter an email address: john@google.com\n",
            "username:  john\n"
          ]
        }
      ]
    },
    {
      "cell_type": "markdown",
      "source": [
        "Question 5.) Define a class named Shape and its subclass Square. The Square class has an init function\n",
        "which takes a length as argument. Both classes have a area function which can print the area\n",
        "of the shape where Shape's area is 0 by default."
      ],
      "metadata": {
        "id": "0QH24B9EmyMs"
      }
    },
    {
      "cell_type": "code",
      "source": [
        "class shape:\n",
        "  def __init__(self):\n",
        "    pass\n",
        "  def area(self):\n",
        "    return 0\n",
        "\n",
        "class square(shape):\n",
        "  def __init__(self,length):\n",
        "    self.length=length\n",
        "  def area(self):\n",
        "    return self.length * self.length\n",
        "square=square(5)\n",
        "print('Area of square:', square.area())"
      ],
      "metadata": {
        "colab": {
          "base_uri": "https://localhost:8080/"
        },
        "id": "tmqLBGw1m4ER",
        "outputId": "ca0e9733-0bd0-4510-fbc4-c12cf4051680"
      },
      "execution_count": 10,
      "outputs": [
        {
          "output_type": "stream",
          "name": "stdout",
          "text": [
            "Area of square: 25\n"
          ]
        }
      ]
    },
    {
      "cell_type": "code",
      "source": [],
      "metadata": {
        "id": "vb_uX7vcnUyb"
      },
      "execution_count": null,
      "outputs": []
    }
  ]
}