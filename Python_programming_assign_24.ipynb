{
  "nbformat": 4,
  "nbformat_minor": 0,
  "metadata": {
    "colab": {
      "provenance": []
    },
    "kernelspec": {
      "name": "python3",
      "display_name": "Python 3"
    },
    "language_info": {
      "name": "python"
    }
  },
  "cells": [
    {
      "cell_type": "markdown",
      "source": [
        "Question1\n",
        "Create a function that takes an integer and returns a list from 1 to the given number, where:\n",
        "\n",
        "1. If the number can be divided evenly by 4, amplify it by 10 (i.e. return 10 times the\n",
        "number).\n",
        "\n",
        "2. If the number cannot be divided evenly by 4, simply return the number.\n",
        "\n",
        "Examples\n",
        "\n",
        "amplify(4) ➞ [1, 2, 3, 40]\n",
        "\n",
        "amplify(3) ➞ [1, 2, 3]\n",
        "\n",
        "amplify(25) ➞ [1, 2, 3, 40, 5, 6, 7, 80, 9, 10, 11, 120, 13, 14, 15, 160,\n",
        "17, 18, 19, 200, 21, 22, 23, 240, 25]\n",
        "\n",
        "Notes\n",
        " The given integer will always be equal to or greater than 1.\n",
        "\n",
        " Include the number (see example above).\n",
        "\n",
        " To perform this problem with its intended purpose, try doing it with list\n",
        "comprehensions. If that&#39;s too difficult, just solve the challenge any way you can."
      ],
      "metadata": {
        "id": "x1GZ9bNHBcR4"
      }
    },
    {
      "cell_type": "code",
      "source": [
        "def amplify(n):\n",
        "  amplified_numbers=[]\n",
        "  for i in range(1,n+1):\n",
        "    if i %4==0:\n",
        "      amplified_numbers.append(10*i)\n",
        "    else:\n",
        "      amplified_numbers.append(i)\n",
        "  return amplified_numbers\n",
        "\n",
        "print(amplify(4))\n",
        "print(amplify(3))\n",
        "print(amplify(25))\n"
      ],
      "metadata": {
        "colab": {
          "base_uri": "https://localhost:8080/"
        },
        "id": "dq6CREfPBo5f",
        "outputId": "b64171de-74ba-4d4d-db68-ea0b3962d318"
      },
      "execution_count": 2,
      "outputs": [
        {
          "output_type": "stream",
          "name": "stdout",
          "text": [
            "[1, 2, 3, 40]\n",
            "[1, 2, 3]\n",
            "[1, 2, 3, 40, 5, 6, 7, 80, 9, 10, 11, 120, 13, 14, 15, 160, 17, 18, 19, 200, 21, 22, 23, 240, 25]\n"
          ]
        }
      ]
    },
    {
      "cell_type": "markdown",
      "source": [
        "Question2\n",
        "Create a function that takes a list of numbers and return the number that&#39;s unique.\n",
        "\n",
        "Examples\n",
        "\n",
        "unique([3, 3, 3, 7, 3, 3]) ➞ 7\n",
        "\n",
        "unique([0, 0, 0.77, 0, 0]) ➞ 0.77\n",
        "\n",
        "unique([0, 1, 1, 1, 1, 1, 1, 1]) ➞ 0\n",
        "\n",
        "Notes\n",
        "Test cases will always have exactly one unique number while all others are the same."
      ],
      "metadata": {
        "id": "3CrsrRAjBrKp"
      }
    },
    {
      "cell_type": "code",
      "source": [
        "def unique(list):\n",
        "  for i in list:\n",
        "    if list.count(i)==1:\n",
        "      return i\n",
        "print(unique([3, 3, 3, 7, 3, 3]))\n",
        "print(unique([0, 0, 0.77, 0, 0]))\n",
        "print(unique([0, 1, 1, 1, 1, 1, 1, 1]))\n"
      ],
      "metadata": {
        "colab": {
          "base_uri": "https://localhost:8080/"
        },
        "id": "aXT7Nod8B0G9",
        "outputId": "3b9808cc-4bd4-402b-e6b6-2ff57019b002"
      },
      "execution_count": 14,
      "outputs": [
        {
          "output_type": "stream",
          "name": "stdout",
          "text": [
            "7\n",
            "0.77\n",
            "0\n"
          ]
        }
      ]
    },
    {
      "cell_type": "markdown",
      "source": [
        "Question3\n",
        "Your task is to create a Circle constructor that creates a circle with a radius provided by an\n",
        "argument. The circles constructed must have two getters getArea() (PIr^2) and\n",
        "getPerimeter() (2PI*r) which give both respective areas and perimeter (circumference).\n",
        "\n",
        "For help with this class, I have provided you with a Rectangle constructor which you can use\n",
        "as a base example.\n",
        "\n",
        "Examples\n",
        "\n",
        "circy = Circle(11)\n",
        "\n",
        "circy.getArea()\n",
        "\n",
        "# Should return 380.132711084365\n",
        "\n",
        "circy = Circle(4.44)\n",
        "\n",
        "circy.getPerimeter()\n",
        "# Should return 27.897342763877365\n",
        "\n",
        "Notes\n",
        "Round results up to the nearest integer."
      ],
      "metadata": {
        "id": "bKyQCN69B0qW"
      }
    },
    {
      "cell_type": "code",
      "source": [
        "import math\n",
        "class Circle:\n",
        "  def __init__(self,radius):\n",
        "    self.radius=radius\n",
        "  def getArea(self):\n",
        "    return round(math.pi*self.radius**2,8)\n",
        "  def getPerimeter(self):\n",
        "    return round(2*math.pi*self.radius , 8)\n",
        "circy = Circle(11)\n",
        "circy.getArea()"
      ],
      "metadata": {
        "colab": {
          "base_uri": "https://localhost:8080/"
        },
        "id": "UbGUT8KtCELx",
        "outputId": "2ced81a2-bf94-4b88-f53e-f2a996733766"
      },
      "execution_count": 12,
      "outputs": [
        {
          "output_type": "execute_result",
          "data": {
            "text/plain": [
              "380.13271108"
            ]
          },
          "metadata": {},
          "execution_count": 12
        }
      ]
    },
    {
      "cell_type": "code",
      "source": [
        "circy = Circle(4.44)\n",
        "circy.getPerimeter()"
      ],
      "metadata": {
        "colab": {
          "base_uri": "https://localhost:8080/"
        },
        "id": "ijHD8qZJKxQf",
        "outputId": "01c68e39-d0f1-415f-d0e9-a8d2000d5dbf"
      },
      "execution_count": 13,
      "outputs": [
        {
          "output_type": "execute_result",
          "data": {
            "text/plain": [
              "27.89734276"
            ]
          },
          "metadata": {},
          "execution_count": 13
        }
      ]
    },
    {
      "cell_type": "markdown",
      "source": [
        "Question4\n",
        "Create a function that takes a list of strings and return a list, sorted from shortest to longest.\n",
        "\n",
        "Examples\n",
        "\n",
        "sort_by_length([&quot;Google&quot;, &quot;Apple&quot;, &quot;Microsoft&quot;])\n",
        "➞ [&quot;Apple&quot;, &quot;Google&quot;, &quot;Microsoft&quot;]\n",
        "\n",
        "sort_by_length([&quot;Leonardo&quot;, &quot;Michelangelo&quot;, &quot;Raphael&quot;, &quot;Donatello&quot;])\n",
        "\n",
        "➞ [&quot;Raphael&quot;, &quot;Leonardo&quot;, &quot;Donatello&quot;, &quot;Michelangelo&quot;]\n",
        "\n",
        "sort_by_length([&quot;Turing&quot;, &quot;Einstein&quot;, &quot;Jung&quot;])\n",
        "➞ [&quot;Jung&quot;, &quot;Turing&quot;, &quot;Einstein&quot;]\n",
        "\n",
        "Notes\n",
        "All test cases contain lists with strings of different lengths, so you won&#39;t have to deal with\n",
        "multiple strings of the same length."
      ],
      "metadata": {
        "id": "HrBwhhxlCFm1"
      }
    },
    {
      "cell_type": "code",
      "source": [
        "def sort_by_length(strings):\n",
        "  return sorted(strings, key=len)\n",
        "print(sort_by_length([\"Google\", \"Apple\", \"Microsoft\"]))\n",
        "print(sort_by_length([\"Leonardo\", \"Michelangelo\", \"Raphael\", \"Donatello\"]))\n",
        "print(sort_by_length([\"Turing\", \"Einstein\", \"Jung\"]))"
      ],
      "metadata": {
        "colab": {
          "base_uri": "https://localhost:8080/"
        },
        "id": "7TT5ja7eCOfI",
        "outputId": "da88b824-4ab3-4a76-d221-b656b54318a3"
      },
      "execution_count": 9,
      "outputs": [
        {
          "output_type": "stream",
          "name": "stdout",
          "text": [
            "['Apple', 'Google', 'Microsoft']\n",
            "['Raphael', 'Leonardo', 'Donatello', 'Michelangelo']\n",
            "['Jung', 'Turing', 'Einstein']\n"
          ]
        }
      ]
    },
    {
      "cell_type": "markdown",
      "source": [
        "Question5\n",
        "Create a function that validates whether three given integers form a Pythagorean triplet. The\n",
        "sum of the squares of the two smallest integers must equal the square of the largest number to\n",
        "be validated.\n",
        "\n",
        "Examples\n",
        "\n",
        "is_triplet(3, 4, 5) ➞ True\n",
        "# 3² + 4² = 25\n",
        "# 5² = 25\n",
        "is_triplet(13, 5, 12) ➞ True\n",
        "# 5² + 12² = 169\n",
        "# 13² = 169\n",
        "is_triplet(1, 2, 3) ➞ False\n",
        "# 1² + 2² = 5\n",
        "# 3² = 9\n",
        "\n",
        "Notes\n",
        "Numbers may not be given in a sorted order."
      ],
      "metadata": {
        "id": "01AYliXICPhg"
      }
    },
    {
      "cell_type": "code",
      "source": [
        "def is_triplet(a,b,c):\n",
        "  numbers=[a,b,c]\n",
        "  numbers.sort()\n",
        "  return numbers[0]**2 +numbers[1]**2 == numbers[2]**2\n",
        "print(is_triplet(3, 4, 5))\n",
        "print(is_triplet(13, 5, 12))\n",
        "print(is_triplet(1, 2, 3))\n"
      ],
      "metadata": {
        "colab": {
          "base_uri": "https://localhost:8080/"
        },
        "id": "82BbbhLACWM1",
        "outputId": "ce3f148d-7d68-463f-fda2-027a74c119ca"
      },
      "execution_count": 10,
      "outputs": [
        {
          "output_type": "stream",
          "name": "stdout",
          "text": [
            "True\n",
            "True\n",
            "False\n"
          ]
        }
      ]
    },
    {
      "cell_type": "code",
      "source": [],
      "metadata": {
        "id": "nZsFF32gJPRZ"
      },
      "execution_count": null,
      "outputs": []
    }
  ]
}