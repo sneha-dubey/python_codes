{
  "nbformat": 4,
  "nbformat_minor": 0,
  "metadata": {
    "colab": {
      "provenance": []
    },
    "kernelspec": {
      "name": "python3",
      "display_name": "Python 3"
    },
    "language_info": {
      "name": "python"
    }
  },
  "cells": [
    {
      "cell_type": "markdown",
      "source": [
        "1. What advantages do Excel spreadsheets have over CSV spreadsheets?\n",
        "\n",
        "Answer:Excel file formats are better for storing more complex data.xls and xlsx file formats contain all the information from the worksheets in a workbook, including formatting, charts, images, formulas etc. CSV is only capable of storing a single sheet in a file, without any formatting and formulas."
      ],
      "metadata": {
        "id": "jIpjFKXor848"
      }
    },
    {
      "cell_type": "markdown",
      "source": [
        "2.What do you pass to csv.reader() and csv.writer() to create reader and writer objects?\n",
        "\n",
        "Answer:we write file name in which we want to read or write.\n",
        "csv.reader(csvfile, dialect='excel')\n",
        "csv.writer(file, delimiter = '\\t')"
      ],
      "metadata": {
        "id": "cmKxOGnmsdlX"
      }
    },
    {
      "cell_type": "markdown",
      "source": [
        "3. What modes do File objects for reader and writer objects need to be opened in?\n",
        "\n",
        "Answer:<+> for both reading and writing.\n",
        "   **'w' for writing ,\n",
        "   'r' for reading**\n"
      ],
      "metadata": {
        "id": "_AbUKKExsjw1"
      }
    },
    {
      "cell_type": "markdown",
      "source": [
        "4. What method takes a list argument and writes it to a CSV file?\n",
        "\n",
        "Answer:The most common method to write data from a list to CSV file is the writerow() method of writer and DictWriter class."
      ],
      "metadata": {
        "id": "vZBnFqXaspMK"
      }
    },
    {
      "cell_type": "code",
      "source": [
        "import csv\n",
        "data=['name', 'class','age']\n",
        "file=open('school.csv', 'w+' , newline='')\n",
        "with file:\n",
        "  write=csv.writer(file)\n",
        "  write.writerows(data)"
      ],
      "metadata": {
        "id": "3DlyLTnGMeyA"
      },
      "execution_count": 1,
      "outputs": []
    },
    {
      "cell_type": "markdown",
      "source": [
        "5. What do the keyword arguments delimiter and line terminator do?\n",
        "\n",
        "Answer: The delimiter is a character that appears between cells. by default comma(,) is delimiter in csv file.\n",
        "The line terminator is the character that comes at the end of row."
      ],
      "metadata": {
        "id": "i2BtU5sEsuFG"
      }
    },
    {
      "cell_type": "markdown",
      "source": [
        "6. What function takes a string of JSON data and returns a Python data structure?\n",
        "\n",
        "Answer:json.loads() function converts json string to python library."
      ],
      "metadata": {
        "id": "z0bl1SwMs3TE"
      }
    },
    {
      "cell_type": "markdown",
      "source": [
        "7. What function takes a Python data structure and returns a string of JSON data?\n",
        " \n",
        "Answer:json.dumps() function converts python object to JSON string."
      ],
      "metadata": {
        "id": "rRhCoqp7tAvU"
      }
    },
    {
      "cell_type": "code",
      "source": [],
      "metadata": {
        "id": "Vm-48HKLtEIR"
      },
      "execution_count": null,
      "outputs": []
    }
  ]
}