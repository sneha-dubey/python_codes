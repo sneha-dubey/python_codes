{
  "nbformat": 4,
  "nbformat_minor": 0,
  "metadata": {
    "colab": {
      "provenance": []
    },
    "kernelspec": {
      "name": "python3",
      "display_name": "Python 3"
    },
    "language_info": {
      "name": "python"
    }
  },
  "cells": [
    {
      "cell_type": "markdown",
      "source": [
        "1. What is the result of the code, and explain?"
      ],
      "metadata": {
        "id": "R91D4NcEJhfA"
      }
    },
    {
      "cell_type": "code",
      "source": [
        "X = 'iNeuron'\n",
        "def func():\n",
        "  print(X)\n",
        "  \n",
        "func()\n"
      ],
      "metadata": {
        "colab": {
          "base_uri": "https://localhost:8080/"
        },
        "id": "tbNWGknEJi6a",
        "outputId": "4b1e4fb3-9ed4-4340-a0de-d54c16654c28"
      },
      "execution_count": null,
      "outputs": [
        {
          "output_type": "stream",
          "name": "stdout",
          "text": [
            "iNeuron\n"
          ]
        }
      ]
    },
    {
      "cell_type": "markdown",
      "source": [
        "The code defines a variable X with the string value iNeuron and a function func that prints the value of X when called.\n",
        "variable x is defined outside the function, it is a global variable , it can be accessed by any function within the program."
      ],
      "metadata": {
        "id": "G9u9Cd54Mce_"
      }
    },
    {
      "cell_type": "markdown",
      "source": [
        "2. What is the result of the code, and explain?\n",
        "\n"
      ],
      "metadata": {
        "id": "Org6_35aNgjo"
      }
    },
    {
      "cell_type": "code",
      "source": [
        "X = 'iNeuron'\n",
        "def func():\n",
        "  X = 'NI!'\n",
        "\n",
        "\n",
        "func()\n",
        "print(X)\n"
      ],
      "metadata": {
        "colab": {
          "base_uri": "https://localhost:8080/"
        },
        "id": "BIUWYc8jNbYR",
        "outputId": "a90f20fb-3dd4-4cc0-c4c5-9094dd43c44d"
      },
      "execution_count": null,
      "outputs": [
        {
          "output_type": "stream",
          "name": "stdout",
          "text": [
            "iNeuron\n"
          ]
        }
      ]
    },
    {
      "cell_type": "markdown",
      "source": [
        "When the function func() is called, it creates a local variable X with the value 'NI!', which shadows the global variable X with the same name. When the print(X) statement is called, it will print the value of the global variable X, which is 'iNeuron'. so, the result will be iNeuron"
      ],
      "metadata": {
        "id": "uNl6VjLtrGUG"
      }
    },
    {
      "cell_type": "markdown",
      "source": [
        "3. What does this code print, and why?\n",
        "\n"
      ],
      "metadata": {
        "id": "uoYTFBo_r0xK"
      }
    },
    {
      "cell_type": "code",
      "source": [
        "X = 'iNeuron'\n",
        "def func():\n",
        "  X = 'NI'\n",
        "  print(X)\n",
        "\n",
        "\n",
        "func()\n",
        "print(X)\n"
      ],
      "metadata": {
        "id": "30PgMvx_Nqj6",
        "colab": {
          "base_uri": "https://localhost:8080/"
        },
        "outputId": "39a0a8b7-cef8-429d-a244-e4bf38ba4210"
      },
      "execution_count": null,
      "outputs": [
        {
          "output_type": "stream",
          "name": "stdout",
          "text": [
            "NI\n",
            "iNeuron\n"
          ]
        }
      ]
    },
    {
      "cell_type": "markdown",
      "source": [
        "When func() is called , it crates local variable x with the value NI, which shadows the global variable 'x=ineuron'. Inside the function, it will print the value of local variable that is 'NI'. When function call ends the local variable will be destroyed. so, next print statement will print global variable that is 'iNeuron'. So, the result will be NI iNeuron"
      ],
      "metadata": {
        "id": "9Q7cffd0tfib"
      }
    },
    {
      "cell_type": "markdown",
      "source": [
        "\n",
        "4. What output does this code produce? Why?\n"
      ],
      "metadata": {
        "id": "vBKF4uAavNHE"
      }
    },
    {
      "cell_type": "code",
      "source": [
        "X = 'iNeuron'\n",
        "def func():\n",
        "  global X\n",
        "  X = 'NI'\n",
        "\n",
        "\n",
        "func()\n",
        "print(X)\n"
      ],
      "metadata": {
        "colab": {
          "base_uri": "https://localhost:8080/"
        },
        "id": "gM1vL2hnsUAk",
        "outputId": "68d31557-8187-45c9-93be-abda6f5ba6cd"
      },
      "execution_count": null,
      "outputs": [
        {
          "output_type": "stream",
          "name": "stdout",
          "text": [
            "NI\n"
          ]
        }
      ]
    },
    {
      "cell_type": "markdown",
      "source": [
        "When func() is called, the global x statement change the value of x from iNeuron to NI . Therefore, the print(x) statement will print NI. So, the result will be 'NI'"
      ],
      "metadata": {
        "id": "4M_6A-kIw5SZ"
      }
    },
    {
      "cell_type": "markdown",
      "source": [
        "5. What about this code—what’s the output, and why?\n"
      ],
      "metadata": {
        "id": "qT6JxP62xpzB"
      }
    },
    {
      "cell_type": "code",
      "source": [
        "X = 'iNeuron'\n",
        "def func():\n",
        "  X = 'NI'\n",
        "  def nested():\n",
        "    print(X)\n",
        "    nested()\n",
        "\n",
        "\n",
        "func()\n",
        "X"
      ],
      "metadata": {
        "colab": {
          "base_uri": "https://localhost:8080/",
          "height": 36
        },
        "id": "LbcdcA2TvV2_",
        "outputId": "70e30f56-7ee1-4a4c-8424-cca5635e7439"
      },
      "execution_count": null,
      "outputs": [
        {
          "output_type": "execute_result",
          "data": {
            "text/plain": [
              "'iNeuron'"
            ],
            "application/vnd.google.colaboratory.intrinsic+json": {
              "type": "string"
            }
          },
          "metadata": {},
          "execution_count": 10
        }
      ]
    },
    {
      "cell_type": "markdown",
      "source": [
        "When func() is called, x will print the global variable that is iNeuron\n"
      ],
      "metadata": {
        "id": "lAqxFUWB0bZo"
      }
    },
    {
      "cell_type": "markdown",
      "source": [
        "6. How about this code: what is its output in Python 3, and explain?\n"
      ],
      "metadata": {
        "id": "BNSppqPX0zWN"
      }
    },
    {
      "cell_type": "code",
      "source": [
        "def func():\n",
        "  X = 'NI'\n",
        "  def nested():\n",
        "    nonlocal X\n",
        "    X = 'Spam'\n",
        "    nested()\n",
        "    print(X)\n",
        "\n",
        "\n",
        "func()"
      ],
      "metadata": {
        "id": "Aq36CJubx7WA"
      },
      "execution_count": null,
      "outputs": []
    },
    {
      "cell_type": "markdown",
      "source": [
        "When func() is called, it will generate nothing because nested() function will call itself recursively."
      ],
      "metadata": {
        "id": "BIpFysBw2Csw"
      }
    }
  ]
}