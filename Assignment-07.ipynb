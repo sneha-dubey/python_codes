{
 "cells": [
  {
   "cell_type": "markdown",
   "id": "a44561fe",
   "metadata": {},
   "source": [
    "## 1. Write a Python Program to find sum of array"
   ]
  },
  {
   "cell_type": "code",
   "execution_count": 1,
   "id": "b8c4423a",
   "metadata": {},
   "outputs": [
    {
     "name": "stdout",
     "output_type": "stream",
     "text": [
      "Enter the length of the array: 2\n",
      "Enter the next value: 6\n",
      "Enter the next value: 7\n",
      "13\n"
     ]
    }
   ],
   "source": [
    "from array import *\n",
    "arr=array('i',[])\n",
    "n=int(input('Enter the length of the array: '))\n",
    "for i in range(n):\n",
    "    x=int(input('Enter the next value: '))\n",
    "    arr.append(x)\n",
    "print(sum(arr))\n"
   ]
  },
  {
   "cell_type": "markdown",
   "id": "ee5dfa1d",
   "metadata": {},
   "source": [
    "## 2. Write a Python Program to find largest element in an array?"
   ]
  },
  {
   "cell_type": "code",
   "execution_count": null,
   "id": "ee87c7c6",
   "metadata": {},
   "outputs": [],
   "source": [
    "from array import *\n",
    "arr=array('i',[])\n",
    "n=int(input('Enter the length of the array: '))\n",
    "for i in range(n):\n",
    "    x=int(input('Enter the next value'))\n",
    "    arr.append(x)\n",
    "print(max(arr))"
   ]
  },
  {
   "cell_type": "markdown",
   "id": "67f99b88",
   "metadata": {},
   "source": [
    "## 3. Write a Python Program for array rotation?"
   ]
  },
  {
   "cell_type": "code",
   "execution_count": null,
   "id": "3bbdf39a",
   "metadata": {},
   "outputs": [],
   "source": [
    "from array import *\n",
    "arr=array('i',[])\n",
    "n=int(input('Enter the length of the array: '))\n",
    "for i in range(n):\n",
    "    x=int(input('Enter the next value: '))\n",
    "    arr.append(x)\n",
    "print(arr[::-1])"
   ]
  },
  {
   "cell_type": "markdown",
   "id": "f7068693",
   "metadata": {},
   "source": [
    "# 4. Write a Python Program to Split the array and add the first part to the end?"
   ]
  },
  {
   "cell_type": "code",
   "execution_count": null,
   "id": "c03e30d6",
   "metadata": {},
   "outputs": [],
   "source": [
    "def split(array,k):\n",
    "    arr=array[k:] + array[:k]\n",
    "    return arr\n"
   ]
  },
  {
   "cell_type": "code",
   "execution_count": null,
   "id": "5b848176",
   "metadata": {},
   "outputs": [],
   "source": [
    "k=2\n",
    "array=[10,3,5,9]\n",
    "split(array,k)"
   ]
  },
  {
   "cell_type": "markdown",
   "id": "2efe195c",
   "metadata": {},
   "source": [
    "# 5.Write a Python Program to check if given array is Monotonic?"
   ]
  },
  {
   "cell_type": "code",
   "execution_count": 1,
   "id": "b85efbb4",
   "metadata": {},
   "outputs": [],
   "source": [
    "def ismonotone(a):\n",
    "    n=len(a)\n",
    "    if n ==1:\n",
    "        return True\n",
    "    else:\n",
    "        if all(a[i]>=a[i+1] for i in range(0,n-1)) or all(a[i]<=a[i+1] for i in range(0,n-1)):\n",
    "            return True\n",
    "        else:\n",
    "            return False"
   ]
  },
  {
   "cell_type": "code",
   "execution_count": 2,
   "id": "3233eb7e",
   "metadata": {},
   "outputs": [
    {
     "name": "stdout",
     "output_type": "stream",
     "text": [
      "True\n"
     ]
    }
   ],
   "source": [
    "a=[4,5,8,9]\n",
    "print(ismonotone(a))"
   ]
  },
  {
   "cell_type": "code",
   "execution_count": null,
   "id": "da3e8c46",
   "metadata": {},
   "outputs": [],
   "source": []
  }
 ],
 "metadata": {
  "kernelspec": {
   "display_name": "Python 3",
   "language": "python",
   "name": "python3"
  },
  "language_info": {
   "codemirror_mode": {
    "name": "ipython",
    "version": 3
   },
   "file_extension": ".py",
   "mimetype": "text/x-python",
   "name": "python",
   "nbconvert_exporter": "python",
   "pygments_lexer": "ipython3",
   "version": "3.8.8"
  }
 },
 "nbformat": 4,
 "nbformat_minor": 5
}
