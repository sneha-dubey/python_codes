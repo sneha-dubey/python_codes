{
 "cells": [
  {
   "cell_type": "raw",
   "id": "0679b1de",
   "metadata": {},
   "source": [
    "1.In the below elements which of them are values or an expression? eg:- values can be integer or string and expressions will be mathematical operators.\n",
    "\n",
    "Values are :'hello',-87.8,6\n",
    "Expressions are: *,-,/,+"
   ]
  },
  {
   "cell_type": "raw",
   "id": "51c1794c",
   "metadata": {},
   "source": [
    "2. What is the difference between string and variable?\n",
    "Answer: String is a series of characters with inverted commas and and it is one of a data types in the python while variable is a refrence or a pointer of an object."
   ]
  },
  {
   "cell_type": "raw",
   "id": "afb13a83",
   "metadata": {},
   "source": [
    "3.Describe three different data types.\n",
    "Integer :3, 56\n",
    "Boolean: True, False\n",
    "Dictionary:{'key1':65,'key2':67}\n",
    "Set:{5,'sneha',(6,8,9)} #An unordered collection of elements\n",
    "Sequential Data Type(String, Tuple, List)"
   ]
  },
  {
   "cell_type": "raw",
   "id": "ac42154b",
   "metadata": {},
   "source": [
    "4.What is an expression made up of? What do all expressions do?\n",
    "Answer: Expression is made up of variables, operands and operators . They produce some other value or result."
   ]
  },
  {
   "cell_type": "raw",
   "id": "7abd3842",
   "metadata": {},
   "source": [
    "5. This assignment statements, like spam = 10. What is the difference between an expression and a statement?\n",
    "Answer: Spam is expression here and 'spam=10' which is declared , is statement"
   ]
  },
  {
   "cell_type": "raw",
   "id": "052f8528",
   "metadata": {},
   "source": [
    "6. After running the following code, what does the variable bacon contain?\n",
    "bacon = 22\n",
    "bacon + 1\n",
    "Answer: 23"
   ]
  },
  {
   "cell_type": "raw",
   "id": "ca46aa53",
   "metadata": {},
   "source": [
    "7. What should the values of the following two terms be?\n",
    "'spam' + 'spamspam'='spamspamspam'\n",
    "'spam' * 3='spamspamspam'"
   ]
  },
  {
   "cell_type": "raw",
   "id": "da5cdfb8",
   "metadata": {},
   "source": [
    "8. Why is eggs a valid variable name while 100 is invalid?\n",
    "Answer:Because variable should not be start with number , it can start with character. "
   ]
  },
  {
   "cell_type": "raw",
   "id": "6f75ca4f",
   "metadata": {},
   "source": [
    "9. What three functions can be used to get the integer, floating-point number, or string version of a value?\n",
    "Answer: int, float, str"
   ]
  },
  {
   "cell_type": "raw",
   "id": "d189d643",
   "metadata": {},
   "source": [
    "10. Why does this expression cause an error? How can you fix it?\n",
    "'I have eaten ' + 99 + ' burritos.'\n",
    "##Error is because of integer when we convert 99 into String. Then it will perform concatenation."
   ]
  }
 ],
 "metadata": {
  "kernelspec": {
   "display_name": "Python 3",
   "language": "python",
   "name": "python3"
  },
  "language_info": {
   "codemirror_mode": {
    "name": "ipython",
    "version": 3
   },
   "file_extension": ".py",
   "mimetype": "text/x-python",
   "name": "python",
   "nbconvert_exporter": "python",
   "pygments_lexer": "ipython3",
   "version": "3.8.8"
  }
 },
 "nbformat": 4,
 "nbformat_minor": 5
}
