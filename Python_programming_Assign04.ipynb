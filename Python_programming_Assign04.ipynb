{
  "nbformat": 4,
  "nbformat_minor": 0,
  "metadata": {
    "colab": {
      "provenance": []
    },
    "kernelspec": {
      "name": "python3",
      "display_name": "Python 3"
    },
    "language_info": {
      "name": "python"
    }
  },
  "cells": [
    {
      "cell_type": "markdown",
      "source": [
        "1.\tWrite a Python Program to Find the Factorial of a Number?"
      ],
      "metadata": {
        "id": "vIMbwD1QN9Jy"
      }
    },
    {
      "cell_type": "code",
      "source": [
        "def factorial(num):\n",
        "  \"\"\"This function returns factorial of positive number\"\"\"\n",
        "  if num ==0:\n",
        "    return 1\n",
        "  else:\n",
        "    return num*factorial(num-1)\n",
        "\n",
        "print(factorial(4))"
      ],
      "metadata": {
        "colab": {
          "base_uri": "https://localhost:8080/"
        },
        "id": "qXBbjylqOIgR",
        "outputId": "14a8c53b-4a63-48d8-e735-65356f6a5eda"
      },
      "execution_count": null,
      "outputs": [
        {
          "output_type": "stream",
          "name": "stdout",
          "text": [
            "24\n"
          ]
        }
      ]
    },
    {
      "cell_type": "markdown",
      "source": [
        "2.\tWrite a Python Program to Display the multiplication Table?\n"
      ],
      "metadata": {
        "id": "lN8i7St4OKuk"
      }
    },
    {
      "cell_type": "code",
      "source": [
        "def multiplication_table(num, limit=10):\n",
        "  for i in range(1, limit+1):\n",
        "    print(f\"{num} x {i} = {num*i}\")\n",
        "\n",
        "multiplication_table(5)"
      ],
      "metadata": {
        "colab": {
          "base_uri": "https://localhost:8080/"
        },
        "id": "_OjZSbJlONoT",
        "outputId": "8df5acea-6b88-415d-c7f3-bbdcde6764d2"
      },
      "execution_count": null,
      "outputs": [
        {
          "output_type": "stream",
          "name": "stdout",
          "text": [
            "5 x 1 = 5\n",
            "5 x 2 = 10\n",
            "5 x 3 = 15\n",
            "5 x 4 = 20\n",
            "5 x 5 = 25\n",
            "5 x 6 = 30\n",
            "5 x 7 = 35\n",
            "5 x 8 = 40\n",
            "5 x 9 = 45\n",
            "5 x 10 = 50\n"
          ]
        }
      ]
    },
    {
      "cell_type": "markdown",
      "source": [
        "3.\tWrite a Python Program to Print the Fibonacci sequence?"
      ],
      "metadata": {
        "id": "F2r9O7WSOOqm"
      }
    },
    {
      "cell_type": "code",
      "source": [
        "def fibonacci(n):\n",
        "    if (n<=1):\n",
        "        return n\n",
        "    else:\n",
        "        return(fibonacci(n-1) + fibonacci(n-2))\n",
        "n=int(input(\"Enter number of terms: \"))\n",
        "print(\"Fibonacci sequence:\")\n",
        "for i in range(n):\n",
        "    print(fibonacci(i))"
      ],
      "metadata": {
        "id": "NxArc4vaUcjt",
        "colab": {
          "base_uri": "https://localhost:8080/"
        },
        "outputId": "9b4749f9-b93a-4c1e-fe68-821647d8d03b"
      },
      "execution_count": null,
      "outputs": [
        {
          "output_type": "stream",
          "name": "stdout",
          "text": [
            "Enter number of terms: 6\n",
            "Fibonacci sequence:\n",
            "0\n",
            "1\n",
            "1\n",
            "2\n",
            "3\n",
            "5\n"
          ]
        }
      ]
    },
    {
      "cell_type": "markdown",
      "source": [
        "4.\tWrite a Python Program to Check Armstrong Number?"
      ],
      "metadata": {
        "id": "6IvGpT3KOS19"
      }
    },
    {
      "cell_type": "code",
      "source": [
        "def is_armstrong(number):\n",
        "    num_str = str(number)\n",
        "    length = len(num_str)\n",
        "    sum = 0\n",
        "    for digit in num_str:\n",
        "        sum += int(digit)**length\n",
        "    return sum == number\n",
        "\n",
        "number = int(input(\"Enter a number: \"))\n",
        "if is_armstrong(number):\n",
        "    print(f\"{number} is an Armstrong number\")\n",
        "else:\n",
        "    print(f\"{number} is not an Armstrong number\")\n"
      ],
      "metadata": {
        "colab": {
          "base_uri": "https://localhost:8080/"
        },
        "id": "DpsyzhUnnJU9",
        "outputId": "60bccce0-ce67-4a88-fd2d-b611bee406c9"
      },
      "execution_count": 3,
      "outputs": [
        {
          "output_type": "stream",
          "name": "stdout",
          "text": [
            "Enter a number: 153\n",
            "153 is an Armstrong number\n"
          ]
        }
      ]
    },
    {
      "cell_type": "markdown",
      "source": [
        "5.\tWrite a Python Program to Find Armstrong Number in an Interval?"
      ],
      "metadata": {
        "id": "y18B2VlXOWOD"
      }
    },
    {
      "cell_type": "code",
      "source": [
        "def is_armstrong(number):\n",
        "    num_str = str(number)\n",
        "    length = len(num_str)\n",
        "    sum = 0\n",
        "    for digit in num_str:\n",
        "        sum += int(digit)**length\n",
        "    return sum == number\n",
        "\n",
        "start = int(input(\"Enter the start of the interval: \"))\n",
        "end = int(input(\"Enter the end of the interval: \"))\n",
        "\n",
        "for number in range(start, end+1):\n",
        "    if is_armstrong(number):\n",
        "        print(number)\n"
      ],
      "metadata": {
        "id": "ZIRykn9KweGo",
        "colab": {
          "base_uri": "https://localhost:8080/"
        },
        "outputId": "a996df70-6b71-4e55-ea19-851fa0482bac"
      },
      "execution_count": 4,
      "outputs": [
        {
          "output_type": "stream",
          "name": "stdout",
          "text": [
            "Enter the start of the interval: 1\n",
            "Enter the end of the interval: 1000\n",
            "1\n",
            "2\n",
            "3\n",
            "4\n",
            "5\n",
            "6\n",
            "7\n",
            "8\n",
            "9\n",
            "153\n",
            "370\n",
            "371\n",
            "407\n"
          ]
        }
      ]
    },
    {
      "cell_type": "markdown",
      "source": [
        "6.\tWrite a Python Program to Find the Sum of Natural Numbers?"
      ],
      "metadata": {
        "id": "gQ6x5guAOaXS"
      }
    },
    {
      "cell_type": "code",
      "source": [
        "def sum_natural_numbers(n):\n",
        "  \"\"\"This function does the sum of natural number\"\"\"\n",
        "  return n*(n+1)/2\n",
        "print(sum_natural_numbers(5))"
      ],
      "metadata": {
        "id": "0vBKFxeTOewt",
        "colab": {
          "base_uri": "https://localhost:8080/"
        },
        "outputId": "9ebe4221-733e-4c61-fcf6-c68c7f05eecd"
      },
      "execution_count": null,
      "outputs": [
        {
          "output_type": "stream",
          "name": "stdout",
          "text": [
            "15.0\n"
          ]
        }
      ]
    },
    {
      "cell_type": "code",
      "source": [],
      "metadata": {
        "id": "Sp0esIOfLtZ3"
      },
      "execution_count": null,
      "outputs": []
    }
  ]
}