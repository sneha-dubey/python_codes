{
  "nbformat": 4,
  "nbformat_minor": 0,
  "metadata": {
    "colab": {
      "provenance": []
    },
    "kernelspec": {
      "name": "python3",
      "display_name": "Python 3"
    },
    "language_info": {
      "name": "python"
    }
  },
  "cells": [
    {
      "cell_type": "markdown",
      "source": [
        "1. Assign the value 7 to the variable guess_me. Then, write the conditional tests (if, else, and elif) to print the string 'too low' if guess_me is less than 7, 'too high' if greater than 7, and 'just right' if equal to 7."
      ],
      "metadata": {
        "id": "Y7e-h5pcnYL-"
      }
    },
    {
      "cell_type": "code",
      "source": [
        "guess_me=7\n",
        "if guess_me<7:\n",
        "  print('too low') \n",
        "elif guess_me>7:\n",
        "  print('too high')\n",
        "else:\n",
        "  print('just right')\n"
      ],
      "metadata": {
        "colab": {
          "base_uri": "https://localhost:8080/"
        },
        "id": "I9rBEsvcncOU",
        "outputId": "2642d1ef-6049-4506-f93c-d9b53ea4c534"
      },
      "execution_count": null,
      "outputs": [
        {
          "output_type": "stream",
          "name": "stdout",
          "text": [
            "just right\n"
          ]
        }
      ]
    },
    {
      "cell_type": "markdown",
      "source": [
        "2. Assign the value 7 to the variable guess_me and the value 1 to the variable start. Write a while loop that compares start with guess_me. Print too low if start is less than guess me. If start equals guess_me, print 'found it!' and exit the loop. If start is greater than guess_me, print 'oops' and exit the loop. Increment start at the end of the loop."
      ],
      "metadata": {
        "id": "RBH3a4iund47"
      }
    },
    {
      "cell_type": "code",
      "source": [
        "guess_me=7\n",
        "start=1\n",
        "while start!=guess_me:\n",
        "  if start<guess_me:\n",
        "    print('too low')\n",
        "  elif start>guess_me:\n",
        "    print('oops')\n",
        "  start += 1\n",
        "\n",
        "if start==guess_me:\n",
        "  print( 'found it!' )"
      ],
      "metadata": {
        "id": "SbmFZoMrnhGB",
        "colab": {
          "base_uri": "https://localhost:8080/"
        },
        "outputId": "3f6ae6e5-4468-4b73-c616-990834bd5738"
      },
      "execution_count": 22,
      "outputs": [
        {
          "output_type": "stream",
          "name": "stdout",
          "text": [
            "too low\n",
            "too low\n",
            "too low\n",
            "too low\n",
            "too low\n",
            "too low\n",
            "found it!\n"
          ]
        }
      ]
    },
    {
      "cell_type": "markdown",
      "source": [
        "3. Print the following values of the list [3, 2, 1, 0] using a for loop."
      ],
      "metadata": {
        "id": "WVMsvZChnhmK"
      }
    },
    {
      "cell_type": "code",
      "source": [
        "a=[3,2,1,0]\n",
        "for i in a:\n",
        "  print(i)"
      ],
      "metadata": {
        "id": "-NKTrbeInkqN",
        "colab": {
          "base_uri": "https://localhost:8080/"
        },
        "outputId": "32032245-1125-465d-b901-c5e8f569cf5e"
      },
      "execution_count": 2,
      "outputs": [
        {
          "output_type": "stream",
          "name": "stdout",
          "text": [
            "3\n",
            "2\n",
            "1\n",
            "0\n"
          ]
        }
      ]
    },
    {
      "cell_type": "markdown",
      "source": [
        "4. Use a list comprehension to make a list of the even numbers in range(10)"
      ],
      "metadata": {
        "id": "d6dXV1j9nlRw"
      }
    },
    {
      "cell_type": "code",
      "source": [
        "even_no=[x for x in range(10) if x % 2 == 0]\n",
        "print(even_no)"
      ],
      "metadata": {
        "id": "fxyqcj0Gnqr8",
        "colab": {
          "base_uri": "https://localhost:8080/"
        },
        "outputId": "e0f78916-0b0a-443d-d087-7a3aa17fcf0b"
      },
      "execution_count": 10,
      "outputs": [
        {
          "output_type": "stream",
          "name": "stdout",
          "text": [
            "[0, 2, 4, 6, 8]\n"
          ]
        }
      ]
    },
    {
      "cell_type": "markdown",
      "source": [
        "5. Use a dictionary comprehension to create the dictionary squares. Use range(10) to return the keys, and use the square of each key as its value."
      ],
      "metadata": {
        "id": "YtosA7hgnrhK"
      }
    },
    {
      "cell_type": "code",
      "source": [
        "square_dict={x:x**2 for x in range(10)}\n",
        "print(square_dict)"
      ],
      "metadata": {
        "id": "9a6ejlJVnul3",
        "colab": {
          "base_uri": "https://localhost:8080/"
        },
        "outputId": "4e838318-b2dc-40c2-9716-aa6a06a109e8"
      },
      "execution_count": 11,
      "outputs": [
        {
          "output_type": "stream",
          "name": "stdout",
          "text": [
            "{0: 0, 1: 1, 2: 4, 3: 9, 4: 16, 5: 25, 6: 36, 7: 49, 8: 64, 9: 81}\n"
          ]
        }
      ]
    },
    {
      "cell_type": "markdown",
      "source": [
        "6. Construct the set odd from the odd numbers in the range using a set comprehension (10)."
      ],
      "metadata": {
        "id": "MsTdYHFPnval"
      }
    },
    {
      "cell_type": "code",
      "source": [
        "odd={x for x in range(10) if x%2!=0 }\n",
        "print(odd)"
      ],
      "metadata": {
        "id": "QGMVDsXBnzF_",
        "colab": {
          "base_uri": "https://localhost:8080/"
        },
        "outputId": "709f1689-6238-4146-d7cf-1fe86a1c78cb"
      },
      "execution_count": 12,
      "outputs": [
        {
          "output_type": "stream",
          "name": "stdout",
          "text": [
            "{1, 3, 5, 7, 9}\n"
          ]
        }
      ]
    },
    {
      "cell_type": "markdown",
      "source": [
        "7. Use a generator comprehension to return the string 'Got ' and a number for the numbers in range(10). Iterate through this by using a for loop."
      ],
      "metadata": {
        "id": "7FFm7ml8n1HU"
      }
    },
    {
      "cell_type": "code",
      "source": [
        "generator=('got' + str(x) for x in range(10))\n",
        "for i in generator:\n",
        "  print(i)"
      ],
      "metadata": {
        "id": "uEWW-6JHn3zQ",
        "colab": {
          "base_uri": "https://localhost:8080/"
        },
        "outputId": "d3e5ac38-d102-4828-838b-00996c046fb4"
      },
      "execution_count": 13,
      "outputs": [
        {
          "output_type": "stream",
          "name": "stdout",
          "text": [
            "got0\n",
            "got1\n",
            "got2\n",
            "got3\n",
            "got4\n",
            "got5\n",
            "got6\n",
            "got7\n",
            "got8\n",
            "got9\n"
          ]
        }
      ]
    },
    {
      "cell_type": "markdown",
      "source": [
        "8. Define a function called good that returns the list ['Harry', 'Ron', 'Hermione']."
      ],
      "metadata": {
        "id": "Nzyo7S1Un4kJ"
      }
    },
    {
      "cell_type": "code",
      "source": [
        "def good():\n",
        "  return ['Harry', 'Ron', 'Hermione']"
      ],
      "metadata": {
        "id": "ArxZU6sEn8FE"
      },
      "execution_count": 14,
      "outputs": []
    },
    {
      "cell_type": "markdown",
      "source": [
        "9. Define a generator function called get_odds that returns the odd numbers from range(10). Use a for loop to find and print the third value returned."
      ],
      "metadata": {
        "id": "I3DJlqEhoAno"
      }
    },
    {
      "cell_type": "code",
      "source": [
        "def get_odds():\n",
        "  for i in range(10):\n",
        "    if i%2!=0:\n",
        "      yield i\n",
        "\n",
        "gen=get_odds()\n",
        "for i, value in enumerate(gen):\n",
        "  if i==2:\n",
        "    print(value)\n",
        "    break"
      ],
      "metadata": {
        "id": "8Svnd-wRoBV1",
        "colab": {
          "base_uri": "https://localhost:8080/"
        },
        "outputId": "cea5cdea-4cf1-4109-bf4a-6f359ea48ca7"
      },
      "execution_count": 17,
      "outputs": [
        {
          "output_type": "stream",
          "name": "stdout",
          "text": [
            "5\n"
          ]
        }
      ]
    },
    {
      "cell_type": "markdown",
      "source": [
        "10. Define an exception called OopsException. Raise this exception to see what happens. Then write the code to catch this exception and print 'Caught an oops'."
      ],
      "metadata": {
        "id": "iTZdmf-moFUo"
      }
    },
    {
      "cell_type": "code",
      "source": [
        "class OopsException(Exception):\n",
        "  pass\n",
        "\n",
        "try:\n",
        "  raise OopsException('Oops!')\n",
        "except OopsException as e:\n",
        "  print('Caught an oops')"
      ],
      "metadata": {
        "id": "cs7whRZWoF8D",
        "colab": {
          "base_uri": "https://localhost:8080/"
        },
        "outputId": "f6f20a09-e4d6-4e2a-d2cb-050722e1ad4f"
      },
      "execution_count": 20,
      "outputs": [
        {
          "output_type": "stream",
          "name": "stdout",
          "text": [
            "Caught an oops\n"
          ]
        }
      ]
    },
    {
      "cell_type": "markdown",
      "source": [
        "11. Use zip() to make a dictionary called movies that pairs these lists: titles = ['Creature of Habit', 'Crewel Fate'] and plots = ['A nun turns into a monster', 'A haunted yarn shop']."
      ],
      "metadata": {
        "id": "lWTwXRVCoOEo"
      }
    },
    {
      "cell_type": "code",
      "source": [
        "titles = ['Creature of Habit', 'Crewel Fate']\n",
        "plots = ['A nun turns into a monster', 'A haunted yarn shop']\n",
        "movies=dict(zip(titles,plots))\n",
        "print(movies)"
      ],
      "metadata": {
        "id": "M4BBW2jXoRTC",
        "colab": {
          "base_uri": "https://localhost:8080/"
        },
        "outputId": "1a0b624b-3b85-4664-f69e-6ef80d17fd7a"
      },
      "execution_count": 21,
      "outputs": [
        {
          "output_type": "stream",
          "name": "stdout",
          "text": [
            "{'Creature of Habit': 'A nun turns into a monster', 'Crewel Fate': 'A haunted yarn shop'}\n"
          ]
        }
      ]
    },
    {
      "cell_type": "code",
      "source": [],
      "metadata": {
        "id": "N_y9f9-itmWd"
      },
      "execution_count": null,
      "outputs": []
    }
  ]
}