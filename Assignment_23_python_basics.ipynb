{
  "nbformat": 4,
  "nbformat_minor": 0,
  "metadata": {
    "colab": {
      "provenance": []
    },
    "kernelspec": {
      "name": "python3",
      "display_name": "Python 3"
    },
    "language_info": {
      "name": "python"
    }
  },
  "cells": [
    {
      "cell_type": "markdown",
      "source": [
        "1. What is the result of the code, and why?"
      ],
      "metadata": {
        "id": "7F3v3CwK7LLx"
      }
    },
    {
      "cell_type": "code",
      "source": [
        "def func(a, b=6, c=8):\n",
        "  print(a, b, c)\n",
        "  func(1, 2)"
      ],
      "metadata": {
        "id": "3VaVwY1O7V_r"
      },
      "execution_count": 2,
      "outputs": []
    },
    {
      "cell_type": "markdown",
      "source": [
        "function is taking three parameters a, b, c. b and c have default values of 6 and 8 respectively. Then the function is called with 1 and 2, the value of a is set to 1, the value of b is set to 2 and the value of c is by dafault set to 8.\n",
        "The function will print out 1 2 8."
      ],
      "metadata": {
        "id": "ejSqx7sB8poF"
      }
    },
    {
      "cell_type": "markdown",
      "source": [
        "2. What is the result of this code, and why?\n"
      ],
      "metadata": {
        "id": "xEfoRo1_-FmS"
      }
    },
    {
      "cell_type": "code",
      "source": [
        "def func(a, b, c=5):\n",
        "  print(a, b, c)\n",
        "  func(1, c=3, b=2)"
      ],
      "metadata": {
        "id": "pB8BKoWl-Jmk"
      },
      "execution_count": 6,
      "outputs": []
    },
    {
      "cell_type": "markdown",
      "source": [
        "The code defines a function which is taking 3 parameters a, b ,c. c has a default value 5. when function is called with argument 1, c=3, b=2 then the value of a is set to 1, then value of b is set to 2, then the value of c is set to 3. The function will give result 1,2,3"
      ],
      "metadata": {
        "id": "u947eOPy--E3"
      }
    },
    {
      "cell_type": "markdown",
      "source": [
        "3. How about this code: what is its result, and why?\n",
        "\n"
      ],
      "metadata": {
        "id": "2HiRIDTnAHRk"
      }
    },
    {
      "cell_type": "code",
      "source": [
        "def func(a, *pargs):\n",
        "  print(a, pargs)\n",
        "  func(1, 2, 3)\n"
      ],
      "metadata": {
        "id": "eqL8NZlNAI_8"
      },
      "execution_count": 9,
      "outputs": []
    },
    {
      "cell_type": "markdown",
      "source": [
        "The code defines a function which is taking one required parameter a and a positional arguments, which are passed as a tuple pargs.\n",
        "The function is called with the arguments 1, 2, 3. The value of a is set to 1 and pargs is set to tuple (2,3).\n",
        "The function will print out 1 (2,3)"
      ],
      "metadata": {
        "id": "-1IlO1A-Bi8-"
      }
    },
    {
      "cell_type": "markdown",
      "source": [
        "4. What does this code print, and why?\n"
      ],
      "metadata": {
        "id": "NaqwFaXdCvgS"
      }
    },
    {
      "cell_type": "code",
      "source": [
        "def func(a, **kargs):\n",
        "  print(a, kargs)\n",
        "  func(a=1, c=3, b=2)\n"
      ],
      "metadata": {
        "id": "VZ3OTyDpARZO"
      },
      "execution_count": 11,
      "outputs": []
    },
    {
      "cell_type": "markdown",
      "source": [
        "The code defines a function func that takes one required parameter a, and an arbitrary number of additional keyword arguments, which are passed as a dictionary kargs.\n",
        "The function is called with the arguments a=1, c=3, b=2, the value of a is set to 1 and kargs is set to dictionary {'c':3 , 'b':2}.\n",
        "The function will print out 1 {'c':3 , 'b':2}."
      ],
      "metadata": {
        "id": "kxSf9Ez2DPiE"
      }
    },
    {
      "cell_type": "markdown",
      "source": [
        "5. What gets printed by this, and explain?\n"
      ],
      "metadata": {
        "id": "KQMn6cl3EAN3"
      }
    },
    {
      "cell_type": "code",
      "source": [
        "def func(a, b, c=8, d=5):\n",
        "  print(a, b, c, d)\n",
        "  func(1, *(5, 6))\n"
      ],
      "metadata": {
        "id": "s2zTCO1MEIak"
      },
      "execution_count": 12,
      "outputs": []
    },
    {
      "cell_type": "markdown",
      "source": [
        "The code defines a function func that takes four parameters: a, b, c, and d. c and d have default values of 8 and 5, respectively.The function is called with the arguments 1, *(5, 6). The * operator is used to unpack the tuple (5, 6) and the values of the tuple are passed as positional arguments.\n",
        "The value of a is set to 1 , the value of b is set to 5, the value of c is set to 6 and the value od d is by default 5.\n",
        "The function will print out 1 5 6 5"
      ],
      "metadata": {
        "id": "fjD4NTCYFESL"
      }
    },
    {
      "cell_type": "markdown",
      "source": [
        "6. what is the result of this, and explain?\n",
        "\n"
      ],
      "metadata": {
        "id": "VZxHEFk7F6sJ"
      }
    },
    {
      "cell_type": "code",
      "source": [
        "def func(a, b, c):\n",
        "  a = 2; b[0] = 'x'; c['a'] = 'y'\n",
        "  l=1; m=[1]; n={'a':0}\n",
        "  func(l, m, n)\n",
        "  l, m, n\n"
      ],
      "metadata": {
        "id": "X8VBNk4NF-ki"
      },
      "execution_count": 13,
      "outputs": []
    },
    {
      "cell_type": "markdown",
      "source": [
        "The code defines a function func that takes three parameters: a, b, and c. Inside the function, it assigns 2 to a, a string 'x' to the first element of the list b and a string 'y' to the key 'a' of the dictionary c. then it defines the variables l=1, m=[1] and n={'a':0} and then call the function func(l, m, n)\n",
        "The result of calling the function will not change the value of l variable, it will change the first element of the list m to be 'x' and the value of the key 'a' of the n dictionary to be 'y'.\n",
        "After the function call, the variables l, m, n will be 1, ['x'], {'a': 'y'}"
      ],
      "metadata": {
        "id": "e6YaQm8MHfeu"
      }
    }
  ]
}