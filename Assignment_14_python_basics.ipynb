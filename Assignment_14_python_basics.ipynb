{
  "nbformat": 4,
  "nbformat_minor": 0,
  "metadata": {
    "colab": {
      "provenance": []
    },
    "kernelspec": {
      "name": "python3",
      "display_name": "Python 3"
    },
    "language_info": {
      "name": "python"
    }
  },
  "cells": [
    {
      "cell_type": "markdown",
      "source": [
        "1. What does RGBA stand for?\n",
        "\n",
        "Answer:RGBA stands for (Red- Green- Blue- Alpha). It is a group of numbers that specify the amount of red,green, blue and alpha (or transparency) in color. Each of these component values is an integer from 0 to 255."
      ],
      "metadata": {
        "id": "TCn3Ql-J0e1S"
      }
    },
    {
      "cell_type": "markdown",
      "source": [
        "2. From the Pillow module, how do you get the RGBA value of any images?\n",
        "\n",
        "Answer: Pillow offers the ImageColor.getcolor() function to get the RGBA value of any image. This function takes a color name as its first argument, and 'RGBA' as second argument. Then it returns an RGBA tuple."
      ],
      "metadata": {
        "id": "e01glnx51iot"
      }
    },
    {
      "cell_type": "code",
      "source": [
        "from PIL import ImageColor\n",
        "print(ImageColor.getcolor('red', 'RGBA'))\n",
        "print(ImageColor.getcolor('chocolate', 'RGBA'))\n",
        "print(ImageColor.getcolor('whitesmoke', 'RGBA'))"
      ],
      "metadata": {
        "colab": {
          "base_uri": "https://localhost:8080/"
        },
        "id": "EM_EnTzH5zlo",
        "outputId": "61ac1697-c782-4e38-9efc-2ece352abcc5"
      },
      "execution_count": null,
      "outputs": [
        {
          "output_type": "stream",
          "name": "stdout",
          "text": [
            "(255, 0, 0, 255)\n",
            "(210, 105, 30, 255)\n",
            "(245, 245, 245, 255)\n"
          ]
        }
      ]
    },
    {
      "cell_type": "markdown",
      "source": [
        "3. What is a box tuple, and how does it work?\n",
        "\n",
        "Answer:Many of pillow's functions and methods take a box tuple argument. This means pillow is expecting a tuple of four integer coordinates that represent a rectangular region in an image.\n",
        "left: The x-coordinate of the leftmost edge of the box.\n",
        "Top: The y-coordinate of the top edge of the box.\n",
        "Right: The x-coordinate of one pixcel to the right of the rightmost edge of the box. This integer must be greater than the left integer.\n",
        "Bottom: The y-coordinate of one pixcel lower than the bottom edge of the box. This integer must be greater than the top integer.\n",
        "For example: box tuple(3,1,9,6) where ;\n",
        "left = 3,\n",
        "top = 1,\n",
        "right =9,\n",
        "bottom=6."
      ],
      "metadata": {
        "id": "_sUvqlWs1x7U"
      }
    },
    {
      "cell_type": "markdown",
      "source": [
        "4. Use your image and load in notebook then, How can you find out the width and height of an Image object?\n",
        "\n",
        "Answer:"
      ],
      "metadata": {
        "id": "Q1xhVAmF16jY"
      }
    },
    {
      "cell_type": "code",
      "source": [
        "# from PIL import Image\n",
        "# catim=Image.open('cat.jpg')\n",
        "# print(catim)\n",
        "# width,height=catim.size\n",
        "#print(width)\n",
        "#print(height)"
      ],
      "metadata": {
        "id": "P8T_mMC20oXp"
      },
      "execution_count": null,
      "outputs": []
    },
    {
      "cell_type": "markdown",
      "source": [
        "5. What method would you call to get Image object for a 100×100 image, excluding the lower-left quarter of it?\n",
        "\n",
        "Answer:\n",
        "\n",
        "from PIL import Image\n",
        "im = Image.new('RGBA', (100, 100), 'purple')\n",
        "im.save('purpleImage.png')"
      ],
      "metadata": {
        "id": "fVJnIbkQ2JQs"
      }
    },
    {
      "cell_type": "code",
      "source": [
        "# from PIL import Image\n",
        "#  im = Image.new('RGBA', (100, 100), 'purple') \n",
        "#  im.save('purpleImage.png')"
      ],
      "metadata": {
        "id": "F2DpTMjtAoZJ"
      },
      "execution_count": null,
      "outputs": []
    },
    {
      "cell_type": "markdown",
      "source": [
        "6. After making changes to an Image object, how could you save it as an image file?\n",
        "\n",
        "Answer:Calling the save() method and passing it 'cat.jpg' save a new image with file name cat.jpg on your hard drive."
      ],
      "metadata": {
        "id": "JJ4Rwavx2Qzp"
      }
    },
    {
      "cell_type": "markdown",
      "source": [
        "7. What module contains Pillow’s shape-drawing code?\n",
        "\n",
        "Answer:The ImageDraw module provides simple 2D graphics support for image object."
      ],
      "metadata": {
        "id": "G6UKCfJg2Zmg"
      }
    },
    {
      "cell_type": "code",
      "source": [
        "# from PIL import Image , ImageDraw\n",
        "# im=Image.new('RGBA',(200,200),'white')\n",
        "# draw=ImageDraw.Draw(im)"
      ],
      "metadata": {
        "id": "bwWu3JGG_znC"
      },
      "execution_count": null,
      "outputs": []
    },
    {
      "cell_type": "markdown",
      "source": [
        "8. Image objects do not have drawing methods. What kind of object does? How do you get this kind of object?\n",
        "\n",
        "Answer:The objects that have drawing methods are typically called \"graphics context\" or \"canvas\" objects. These objects represent a surface on which you can draw shapes, lines, images, and other graphics.\n",
        "\n",
        "In most programming languages, you can obtain a graphics context object from a window or a component (like a panel) in a graphical user interface (GUI) framework. "
      ],
      "metadata": {
        "id": "-lia7yuu2tCJ"
      }
    },
    {
      "cell_type": "code",
      "source": [],
      "metadata": {
        "id": "-Id9C2Mt2u1c"
      },
      "execution_count": null,
      "outputs": []
    }
  ]
}